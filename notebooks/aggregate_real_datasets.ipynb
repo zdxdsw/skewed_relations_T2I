{
 "cells": [
  {
   "cell_type": "code",
   "execution_count": 1,
   "metadata": {},
   "outputs": [],
   "source": [
    "import json, os, sys, random, re\n",
    "sys.path.append(\"../scripts/formalism\")\n",
    "from entropy import *\n",
    "from utils import *\n",
    "from collections import Counter, defaultdict\n",
    "import numpy as np\n",
    "import pandas as pd\n",
    "from tqdm import tqdm, trange\n",
    "from pprint import pprint\n",
    "from textblob import Word\n",
    "import matplotlib.pyplot as plt"
   ]
  },
  {
   "cell_type": "code",
   "execution_count": 19,
   "metadata": {},
   "outputs": [
    {
     "name": "stdout",
     "output_type": "stream",
     "text": [
      "in front of 2048\n",
      "on 13369\n",
      "above 435\n",
      "on top of 755\n",
      "under 401\n",
      "behind 968\n",
      "below 239\n",
      "beneath 18\n",
      "at the bottom of 14\n",
      "to the right of 7743\n",
      "to the left of 7742\n",
      "Aggregated #instances = 33732\n"
     ]
    }
   ],
   "source": [
    "files = [\n",
    "    \"../data/nocaps/tmp.json\",\n",
    "    \"../data/vl_models_are_bows/tmp.json\",\n",
    "]\n",
    "\n",
    "annotations = defaultdict(list)\n",
    "for f in files:\n",
    "    J = json.load(open(f, \"r\"))\n",
    "    for r in J:\n",
    "        annotations[r].extend(J[r])\n",
    "for r in annotations:\n",
    "    print(r, len(annotations[r]))\n",
    "print(f\"Aggregated #instances = {sum([len(annotations[r]) for r in annotations])}\")"
   ]
  },
  {
   "cell_type": "code",
   "execution_count": 24,
   "metadata": {},
   "outputs": [],
   "source": [
    "positional_rel_v = [\"below\", \"beneath\", \"under\", \"at the bottom of\", \"above\", \"on top of\", \"on\"]\n",
    "positional_rel_h = [\"to the left of\", \"to the right of\"]\n",
    "positional_rel_fb = [\"in front of\", \"behind\"]\n",
    "\n",
    "entropy_funcs = [\n",
    "    \"concept_centric_entropy3(num_nouns, num_relations, df)\",\n",
    "    \"concept_centric_entropy4(num_nouns, num_relations, df)\",\n",
    "    \"concept_centric_entropy5(num_nouns, num_relations, df)\",\n",
    "    \"relation_centric_entropy3(num_nouns, num_relations, df)\",\n",
    "    \"relation_centric_entropy4(num_nouns, num_relations, df)\",\n",
    "    \"relation_centric_entropy5(num_nouns, num_relations, df)\",\n",
    "    \"divergence(num_nouns, num_relations, df)\",\n",
    "    \"divergence2(num_nouns, num_relations, df)\",\n",
    "    \"divergence3(num_nouns, num_relations, df)\",\n",
    "    \"concept_role_entropy(num_nouns, df)\",\n",
    "    \"concept_role_entropy2(num_nouns, df)\",\n",
    "    \"role_association(num_nouns, df)\",\n",
    "    \"role_association2(num_nouns, df)\",\n",
    "    \"concept_entropy(num_nouns, df)\",\n",
    "    \"concept_entropy2(num_nouns, df)\",\n",
    "    \"concept_entropy0(num_nouns, df)\",\n",
    "    \"concept_role_index_entropy(num_nouns, df)\"\n",
    "]"
   ]
  },
  {
   "cell_type": "markdown",
   "metadata": {},
   "source": [
    "### Top-Bottom (merged)"
   ]
  },
  {
   "cell_type": "code",
   "execution_count": 108,
   "metadata": {},
   "outputs": [],
   "source": [
    "map = {\n",
    "    \"above\": \"top\",\n",
    "    \"on\": \"top\", \n",
    "    \"on top of\": \"top\", \n",
    "    \"at the bottom of\": \"bottom\",\n",
    "    \"below\": \"bottom\", \n",
    "    \"beneath\": \"bottom\",\n",
    "    \"under\": \"bottom\"\n",
    "}\n",
    "relations = [\"top\", \"bottom\"]"
   ]
  },
  {
   "cell_type": "code",
   "execution_count": 109,
   "metadata": {},
   "outputs": [
    {
     "name": "stdout",
     "output_type": "stream",
     "text": [
      "#unique subjects =  1854\n",
      "#unique objects =  1136\n",
      "#unique concepts =  2364\n",
      "#instances =  15231\n",
      "2 2364\n"
     ]
    }
   ],
   "source": [
    "heatmap = {}\n",
    "\n",
    "# get tuples\n",
    "SUBJ, OBJ = [], []\n",
    "tuples = []\n",
    "for unmapped_r in annotations:\n",
    "    if not unmapped_r in positional_rel_v: continue\n",
    "    r = map[unmapped_r]\n",
    "\n",
    "    for a in annotations[unmapped_r]:\n",
    "        subj, obj, _ = a[1]\n",
    "        #singularize\n",
    "        singlular_subj = Word(subj).lemmatize()\n",
    "        if not singlular_subj == False: subj = singlular_subj\n",
    "        singlular_obj = Word(obj).lemmatize() \n",
    "        if not singlular_obj == False: obj = singlular_obj\n",
    "\n",
    "        SUBJ.append(subj)\n",
    "        OBJ.append(obj)\n",
    "        tuples.append((subj, obj, r))\n",
    "\n",
    "print(\"#unique subjects = \", len(set(SUBJ)))\n",
    "print(\"#unique objects = \", len(set(OBJ)))\n",
    "nouns = sorted(list(set(SUBJ).union(set(OBJ))))\n",
    "num_nouns = len(nouns)\n",
    "print(\"#unique concepts = \", num_nouns)\n",
    "num_relations = len(relations)\n",
    "print(\"#instances = \", len(tuples))\n",
    "\n",
    "train_triplets = [] # convert tuple elements to indices\n",
    "n2i = {n:i for i, n in enumerate(nouns)}\n",
    "r2i = {r:i for i, r in enumerate(relations)}\n",
    "print(len(r2i), len(n2i))\n",
    "\n",
    "\n",
    "for transpose in [False, True]:\n",
    "    train_triplets = []\n",
    "    for subj, obj, r in tuples:\n",
    "        train_triplets.append((n2i[subj], n2i[obj], r2i[r]))\n",
    "    if transpose: train_triplets = Transpose(train_triplets)\n",
    "    c = Counter(train_triplets)\n",
    "    \n",
    "    prefix = \"image\" if transpose else \"linguistic\"\n",
    "    heatmap[prefix] = np.zeros((num_nouns, num_nouns))\n",
    "    X = []\n",
    "    for k, o1 in enumerate(nouns):\n",
    "        for l, o2 in enumerate(nouns):\n",
    "            x = c[(n2i[o1], n2i[o2], 0)] + c[(n2i[o1], n2i[o2], 1)]\n",
    "            X.append(x)\n",
    "            heatmap[prefix][k][l] = x\n"
   ]
  },
  {
   "cell_type": "code",
   "execution_count": 110,
   "metadata": {},
   "outputs": [
    {
     "name": "stdout",
     "output_type": "stream",
     "text": [
      "dead nouns = 1885\n",
      "finish iter 1, \n",
      "          remaining examples = 7997.0 (image), \n",
      "          7997.0 (linguistic)\n",
      "dead nouns = 1929\n",
      "finish iter 2, \n",
      "          remaining examples = 7416.0 (image), \n",
      "          7416.0 (linguistic)\n",
      "dead nouns = 1930\n",
      "finish iter 3, \n",
      "          remaining examples = 7413.0 (image), \n",
      "          7413.0 (linguistic)\n",
      "dead nouns = 1930\n",
      "finish iter 4, \n",
      "          remaining examples = 7413.0 (image), \n",
      "          7413.0 (linguistic)\n"
     ]
    }
   ],
   "source": [
    "dead = []\n",
    "iters = 0\n",
    "killed_this_iter = True\n",
    "while np.sum(heatmap['image']) * np.sum(heatmap['linguistic']) > 0 and killed_this_iter:\n",
    "    killed_this_iter = False\n",
    "    sum_axis0, sum_axis1 = np.sum(heatmap['image'], axis=0), np.sum(heatmap['image'], axis=1)\n",
    "    for i, s in enumerate(sum_axis0):\n",
    "        if i in dead: continue\n",
    "        if s == 0:\n",
    "            for j in range(len(nouns)):\n",
    "                # drop row i\n",
    "                heatmap['image'][i][j] = 0\n",
    "                # drop row i and col i\n",
    "                heatmap['linguistic'][i][j] = 0\n",
    "                heatmap['linguistic'][j][i] = 0\n",
    "\n",
    "            dead.append(i)\n",
    "            killed_this_iter = True\n",
    "    for i, s in enumerate(sum_axis1):\n",
    "        if i in dead: continue\n",
    "        if s == 0:\n",
    "            for j in range(len(nouns)):\n",
    "                # drop col i\n",
    "                heatmap['image'][j][i] = 0\n",
    "                # drop row i and col i\n",
    "                heatmap['linguistic'][i][j] = 0\n",
    "                heatmap['linguistic'][j][i] = 0\n",
    "            dead.append(i)\n",
    "            killed_this_iter = True\n",
    "\n",
    "    sum_axis0, sum_axis1 = np.sum(heatmap['linguistic'], axis=0), np.sum(heatmap['linguistic'], axis=1)\n",
    "    for i, s in enumerate(sum_axis0):\n",
    "        if i in dead: continue\n",
    "        if s == 0:\n",
    "            for j in range(len(nouns)):\n",
    "                # drop row i\n",
    "                heatmap['linguistic'][i][j] = 0\n",
    "                # drop row i and col i\n",
    "                heatmap['image'][i][j] = 0\n",
    "                heatmap['image'][j][i] = 0\n",
    "\n",
    "            dead.append(i)\n",
    "            killed_this_iter = True\n",
    "    for i, s in enumerate(sum_axis1):\n",
    "        if i in dead: continue\n",
    "        if s == 0:\n",
    "            for j in range(len(nouns)):\n",
    "                # drop col i\n",
    "                heatmap['linguistic'][j][i] = 0\n",
    "                # drop row i and col i\n",
    "                heatmap['image'][i][j] = 0\n",
    "                heatmap['image'][j][i] = 0\n",
    "            dead.append(i)\n",
    "            killed_this_iter = True\n",
    "\n",
    "    iters += 1\n",
    "    print(f\"dead nouns = {len(dead)}\")\n",
    "    print(f\"\"\"finish iter {iters}, \n",
    "          remaining examples = {np.sum(heatmap['image'])} (image), \n",
    "          {np.sum(heatmap['linguistic'])} (linguistic)\"\"\")    \n"
   ]
  },
  {
   "cell_type": "code",
   "execution_count": 111,
   "metadata": {},
   "outputs": [
    {
     "name": "stdout",
     "output_type": "stream",
     "text": [
      "nouns with complete support\n",
      "434\n",
      "sanity check (linguistic): every row sum or col sum is positive\n",
      "1.0 1.0\n",
      "sanity check (image): every row sum or col sum is positive\n",
      "1.0 1.0\n",
      "434\n"
     ]
    }
   ],
   "source": [
    "alive = set(list(range(len(nouns)))) - set(dead)\n",
    "alive = sorted(list(alive))\n",
    "print(\"nouns with complete support\".format(alive))\n",
    "print(len(alive))\n",
    "rows = np.array(alive, dtype=np.intp)\n",
    "columns = np.array(alive, dtype=np.intp)\n",
    "\n",
    "bijective_heatmap = heatmap['linguistic'][np.ix_(rows, columns)]\n",
    "print(\"sanity check (linguistic): every row sum or col sum is positive\")\n",
    "print(np.min(np.sum(bijective_heatmap, axis=0)), np.min(np.sum(bijective_heatmap, axis=1)))\n",
    "\n",
    "bijective_heatmap = heatmap['image'][np.ix_(rows, columns)]\n",
    "print(\"sanity check (image): every row sum or col sum is positive\")\n",
    "print(np.min(np.sum(bijective_heatmap, axis=0)), np.min(np.sum(bijective_heatmap, axis=1)))\n",
    "\n",
    "crux = alive # They are both_complete_nouns' indices\n",
    "print(len(crux))\n",
    "crux_nouns = [nouns[i] for i in crux]\n",
    "#pprint(crux_nouns)"
   ]
  },
  {
   "cell_type": "code",
   "execution_count": 115,
   "metadata": {},
   "outputs": [
    {
     "name": "stdout",
     "output_type": "stream",
     "text": [
      "role intrinsic meanings: linguistic position\n",
      "\n",
      "['A roulette table and chairs under a portrait of a woman.', ['table', 'woman', 'under']]\n",
      "('table', 'woman', 'bottom')\n",
      "#unique concepts =  434\n",
      "#instances =  7413\n",
      "2 434 \n",
      "\n",
      "#unique O1 =  434\n",
      "#unique O2 =  434\n",
      "--------------------------------------------------------\n",
      "\n",
      "\n",
      "role intrinsic meanings: linguistic position\n",
      "\n",
      "['A roulette table and chairs under a portrait of a woman.', ['table', 'woman', 'under']]\n",
      "('table', 'woman', 'bottom')\n",
      "#unique concepts =  434\n",
      "#instances =  7413\n",
      "2 434 \n",
      "\n",
      "#unique O1 =  434\n",
      "#unique O2 =  434\n",
      "--------------------------------------------------------\n",
      "\n",
      "\n"
     ]
    }
   ],
   "source": [
    "for transpose in [False, False]:\n",
    "    print(\"role intrinsic meanings: {} position\\n\".format(\"image\" if transpose else \"linguistic\"))\n",
    "    SUBJ, OBJ = [], []\n",
    "    tuples = []\n",
    "    for unmapped_r in annotations:\n",
    "        if not unmapped_r in positional_rel_v: continue\n",
    "        \n",
    "        r = map[unmapped_r]\n",
    "\n",
    "        for a in annotations[unmapped_r]:\n",
    "            subj, obj, _ = a[1]\n",
    "            #singularize\n",
    "            singlular_subj = Word(subj).lemmatize()\n",
    "            if not singlular_subj == False: subj = singlular_subj\n",
    "            singlular_obj = Word(obj).lemmatize() \n",
    "            if not singlular_obj == False: obj = singlular_obj\n",
    "\n",
    "            if subj in crux_nouns and obj in crux_nouns:\n",
    "                \n",
    "                SUBJ.append(subj)\n",
    "                OBJ.append(obj)\n",
    "                tuples.append((subj, obj, r))\n",
    "    \n",
    "    nouns = sorted(list(set(SUBJ).union(set(OBJ))))\n",
    "    num_nouns = len(nouns)\n",
    "    print(\"#unique concepts = \", num_nouns)\n",
    "    num_relations = len(relations)\n",
    "    print(\"#instances = \", len(tuples))\n",
    "    \n",
    "    train_triplets = [] # convert tuple elements to indices\n",
    "    n2i = {n:i for i, n in enumerate(nouns)}\n",
    "    r2i = {r:i for i, r in enumerate(relations)}\n",
    "    print(len(r2i), len(n2i), \"\\n\")\n",
    "    for subj, obj, r in tuples:\n",
    "        train_triplets.append((n2i[subj], n2i[obj], r2i[r]))\n",
    "    if transpose: train_triplets = Transpose(train_triplets)\n",
    "\n",
    "    # Sanity check crux_nouns are indeed complete under both linguistic & image positional roles\n",
    "    print(\"#unique O1 = \", len(set([t[0] for t in train_triplets])))\n",
    "    print(\"#unique O2 = \", len(set([t[1] for t in train_triplets])))\n",
    "    df = pd.DataFrame(train_triplets, columns =['O1', 'O2', 'R'])\n",
    "    #for f in entropy_funcs:\n",
    "        #score = eval(f)\n",
    "        #print(f.split(\"(\")[0], \": \", score) \n",
    "    print(\"--------------------------------------------------------\\n\\n\")"
   ]
  },
  {
   "cell_type": "code",
   "execution_count": 116,
   "metadata": {},
   "outputs": [
    {
     "name": "stdout",
     "output_type": "stream",
     "text": [
      "diagonal supports:  {'grill', 'sandwich', 'drum', 'couch', 'unit', 'lemon', 'kangaroo', 'pool', 'lobster', 'basket', 'street', 'pot', 'table', 'priest', 'water', 'chair', 'phone', 'sign', 'computer', 'structure', 'shelf', 'sink', 'brownie', 'woman', 'dog', 'bed', 'tool', 'room', 'car', 'shirt', 'motorcycle', 'layer', 'plate', 'ladybug', 'section', 'blade', 'tier', 'burner', 'ceiling', 'river', 'vegetable', 'pole'}\n"
     ]
    }
   ],
   "source": [
    "if transpose:\n",
    "    print(len(train_triplets))\n",
    "    print(\"train_triplets under {} positional roles:\".format(\"image\" if transpose else \"linguistic\"))\n",
    "    print(train_triplets)\n",
    "    print(\"unique train_triplets = {}\".format(len(set(train_triplets))))\n",
    "print(\"diagonal supports: \", set([nouns[t[0]] for t in train_triplets if t[0] == t[1]]))"
   ]
  },
  {
   "cell_type": "markdown",
   "metadata": {},
   "source": [
    "##### Save aggregated complete set based on crux_nouns"
   ]
  },
  {
   "cell_type": "code",
   "execution_count": 117,
   "metadata": {},
   "outputs": [],
   "source": [
    "aggregated_data = []"
   ]
  },
  {
   "cell_type": "code",
   "execution_count": 118,
   "metadata": {},
   "outputs": [
    {
     "name": "stderr",
     "output_type": "stream",
     "text": [
      "100%|██████████| 21944/21944 [00:00<00:00, 563696.54it/s]"
     ]
    },
    {
     "name": "stdout",
     "output_type": "stream",
     "text": [
      "1758\n"
     ]
    },
    {
     "name": "stderr",
     "output_type": "stream",
     "text": [
      "\n"
     ]
    }
   ],
   "source": [
    "annotations = json.load(open(\"../data/vl_models_are_bows/visual_genome_relation.json\", \"r\"))\n",
    "symmetric = ['adjusting', 'attached to', 'between', 'bigger than', 'biting', 'boarding', 'brushing', 'chewing', 'cleaning', 'climbing', 'close to', 'coming from', 'coming out of', 'contain', 'crossing', 'dragging', 'draped over', 'drinking', 'drinking from', 'driving', 'driving down', 'driving on', 'eating from', 'eating in', 'enclosing', 'exiting', 'facing', 'filled with', 'floating in', 'floating on', 'flying', 'flying above', 'flying in', 'flying over', 'flying through', 'full of', 'going down', 'going into', 'going through', 'grazing in', 'growing in', 'growing on', 'guiding', 'hanging from', 'hanging in', 'hanging off', 'hanging over', 'higher than', 'holding onto', 'hugging', 'in between', 'jumping off', 'jumping on', 'jumping over', 'kept in', 'larger than', 'leading', 'leaning over', 'leaving', 'licking', 'longer than', 'looking in', 'looking into', 'looking out', 'looking over', 'looking through', 'lying next to', 'lying on top of', 'making', 'mixed with', 'mounted on', 'moving', 'on the back of', 'on the edge of', 'on the front of', 'on the other side of', 'opening', 'painted on', 'parked at', 'parked beside', 'parked by', 'parked in', 'parked in front of', 'parked near', 'parked next to', 'perched on', 'petting', 'piled on', 'playing', 'playing in', 'playing on', 'playing with', 'pouring', 'reaching for', 'reading', 'reflected on', 'riding on', 'running in', 'running on', 'running through', 'seen through', 'sitting behind', 'sitting beside', 'sitting by', 'sitting in front of', 'sitting near', 'sitting next to', 'sitting under', 'skiing down', 'skiing on', 'sleeping in', 'sleeping on', 'smiling at', 'sniffing', 'splashing', 'sprinkled on', 'stacked on', 'standing against', 'standing around', 'standing behind', 'standing beside', 'standing in front of', 'standing near', 'standing next to', 'staring at', 'stuck in', 'surrounding', 'swimming in', 'swinging', 'talking to', 'topped with', 'touching', 'traveling down', 'traveling on', 'tying', 'typing on', 'underneath', 'wading in', 'waiting for', 'walking across', 'walking by', 'walking down', 'walking next to', 'walking through', 'working in', 'working on', 'worn on', 'wrapped around', 'wrapped in', 'by', 'of', 'near', 'next to', 'with', 'beside', 'on the side of', 'around']\n",
    "annotations = [x for x in annotations if not x['relation_name'] in symmetric]\n",
    "\n",
    "imdir = \"vl_models_are_bows/images/{}\"\n",
    "\n",
    "for a in tqdm(annotations):\n",
    "    r = a['relation_name']\n",
    "    if not r in positional_rel_v: continue\n",
    "    subj, obj = re.findall(rf'the ([a-zA-Z\\s-]+) is {r} the ([a-zA-Z\\s]+)', a['true_caption'])[0]\n",
    "    \n",
    "    #singularized subj & obj should belong to crux_nouns\n",
    "    singlular_subj = Word(subj).lemmatize()\n",
    "    if singlular_subj == False: singlular_subj = subj\n",
    "    singlular_obj = Word(obj).lemmatize() \n",
    "    if singlular_obj == False: singlular_obj = obj\n",
    "    \n",
    "    if singlular_subj in crux_nouns and singlular_obj in crux_nouns:\n",
    "        image_filename = imdir.format(a['image_path'])\n",
    "        aggregated_data.append([\n",
    "            a['true_caption'], \n",
    "            image_filename, \n",
    "            (singlular_subj, singlular_obj, map[r]),\n",
    "            #(subj, obj, r)\n",
    "        ])\n",
    "\n",
    "print(len(aggregated_data))"
   ]
  },
  {
   "cell_type": "code",
   "execution_count": 119,
   "metadata": {},
   "outputs": [
    {
     "name": "stderr",
     "output_type": "stream",
     "text": [
      "  0%|          | 0/45000 [00:00<?, ?it/s]"
     ]
    },
    {
     "name": "stderr",
     "output_type": "stream",
     "text": [
      "100%|██████████| 45000/45000 [00:52<00:00, 864.97it/s] \n"
     ]
    }
   ],
   "source": [
    "imdir = \"nocaps/images/{}\"\n",
    "J = json.load(open(\"../data/nocaps/nocaps_val_4500_captions.json\", \"r\"))\n",
    "annotations, image_info = J['annotations'], J['images']\n",
    "\n",
    "for a in tqdm(annotations):\n",
    "    for r in positional_rel_v:\n",
    "        if f\" {r} \" in a['caption']:\n",
    "            text = preprocess(a['caption'])\n",
    "            tuple = extract_tuple(text, r)\n",
    "            if tuple is None: continue\n",
    "            subj, obj, _ = tuple\n",
    "\n",
    "            #singularized subj & obj should belong to crux_nouns\n",
    "            singlular_subj = Word(subj).lemmatize()\n",
    "            if singlular_subj == False: singlular_subj = subj\n",
    "            singlular_obj = Word(obj).lemmatize() \n",
    "            if singlular_obj == False: singlular_obj = obj\n",
    "            \n",
    "            if singlular_subj in crux_nouns and singlular_obj in crux_nouns:\n",
    "                image_filename = imdir.format(image_info[a['image_id']]['file_name'])\n",
    "                aggregated_data.append([\n",
    "                    a['caption'], \n",
    "                    image_filename, \n",
    "                    (singlular_subj, singlular_obj, map[r]),\n",
    "                    #tuple\n",
    "                ])\n",
    "            \n",
    "            break\n",
    "print(\"#unique tuples = \", len(set([d[-1] for d in aggregated_data])))\n"
   ]
  },
  {
   "cell_type": "code",
   "execution_count": 121,
   "metadata": {},
   "outputs": [
    {
     "name": "stdout",
     "output_type": "stream",
     "text": [
      "7413\n"
     ]
    }
   ],
   "source": [
    "print(len(aggregated_data))\n",
    "json.dump(aggregated_data, open(\n",
    "    \"../data/aggregated/vgr_nocaps_both_complete.json\", \"w\"\n",
    "), indent=4)"
   ]
  },
  {
   "cell_type": "markdown",
   "metadata": {},
   "source": [
    "### Front-Behind"
   ]
  },
  {
   "cell_type": "code",
   "execution_count": 20,
   "metadata": {},
   "outputs": [
    {
     "name": "stdout",
     "output_type": "stream",
     "text": [
      "#unique subjects =  583\n",
      "#unique objects =  480\n",
      "#unique concepts =  765\n",
      "#instances =  3016\n",
      "2 765\n"
     ]
    }
   ],
   "source": [
    "heatmap = {}\n",
    "\n",
    "# get tuples\n",
    "SUBJ, OBJ = [], []\n",
    "tuples = []\n",
    "for r in annotations:\n",
    "    if not r in positional_rel_fb: continue\n",
    "\n",
    "    for a in annotations[r]:\n",
    "        subj, obj, _ = a[1]\n",
    "        #singularize\n",
    "        singlular_subj = Word(subj).lemmatize()\n",
    "        if not singlular_subj == False: subj = singlular_subj\n",
    "        singlular_obj = Word(obj).lemmatize() \n",
    "        if not singlular_obj == False: obj = singlular_obj\n",
    "\n",
    "        SUBJ.append(subj)\n",
    "        OBJ.append(obj)\n",
    "        tuples.append((subj, obj, r))\n",
    "\n",
    "print(\"#unique subjects = \", len(set(SUBJ)))\n",
    "print(\"#unique objects = \", len(set(OBJ)))\n",
    "nouns = sorted(list(set(SUBJ).union(set(OBJ))))\n",
    "num_nouns = len(nouns)\n",
    "print(\"#unique concepts = \", num_nouns)\n",
    "num_relations = len(positional_rel_fb)\n",
    "print(\"#instances = \", len(tuples))\n",
    "\n",
    "train_triplets = [] # convert tuple elements to indices\n",
    "n2i = {n:i for i, n in enumerate(nouns)}\n",
    "r2i = {r:i for i, r in enumerate(positional_rel_fb)}\n",
    "print(len(r2i), len(n2i))\n",
    "\n",
    "\n",
    "for transpose in [False, True]:\n",
    "    train_triplets = []\n",
    "    for subj, obj, r in tuples:\n",
    "        train_triplets.append((n2i[subj], n2i[obj], r2i[r]))\n",
    "    if transpose: train_triplets = Transpose(train_triplets)\n",
    "    c = Counter(train_triplets)\n",
    "    \n",
    "    prefix = \"image\" if transpose else \"linguistic\"\n",
    "    heatmap[prefix] = np.zeros((num_nouns, num_nouns))\n",
    "    X = []\n",
    "    for k, o1 in enumerate(nouns):\n",
    "        for l, o2 in enumerate(nouns):\n",
    "            x = c[(n2i[o1], n2i[o2], 0)] + c[(n2i[o1], n2i[o2], 1)]\n",
    "            X.append(x)\n",
    "            heatmap[prefix][k][l] = x\n"
   ]
  },
  {
   "cell_type": "code",
   "execution_count": 21,
   "metadata": {},
   "outputs": [
    {
     "name": "stdout",
     "output_type": "stream",
     "text": [
      "dead nouns = 571\n",
      "finish iter 1, \n",
      "            remaining examples = 1955.0 (image), \n",
      "            1955.0 (linguistic)\n",
      "dead nouns = 583\n",
      "finish iter 2, \n",
      "            remaining examples = 1929.0 (image), \n",
      "            1929.0 (linguistic)\n",
      "dead nouns = 583\n",
      "finish iter 3, \n",
      "            remaining examples = 1929.0 (image), \n",
      "            1929.0 (linguistic)\n"
     ]
    }
   ],
   "source": [
    "heatmap, dead = extract_complete_subset(\n",
    "    heatmap, \n",
    "    nouns, \n",
    "    image_complete=True,\n",
    "    linguistic_complete=True\n",
    ")"
   ]
  },
  {
   "cell_type": "code",
   "execution_count": 22,
   "metadata": {},
   "outputs": [
    {
     "name": "stdout",
     "output_type": "stream",
     "text": [
      "nouns with complete support\n",
      "182\n",
      "sanity check (linguistic): every row sum or col sum is positive\n",
      "1.0 1.0\n",
      "sanity check (image): every row sum or col sum is positive\n",
      "1.0 1.0\n",
      "182\n"
     ]
    }
   ],
   "source": [
    "alive = set(list(range(len(nouns)))) - set(dead)\n",
    "alive = sorted(list(alive))\n",
    "print(\"nouns with complete support\".format(alive))\n",
    "print(len(alive))\n",
    "rows = np.array(alive, dtype=np.intp)\n",
    "columns = np.array(alive, dtype=np.intp)\n",
    "\n",
    "bijective_heatmap = heatmap['linguistic'][np.ix_(rows, columns)]\n",
    "print(\"sanity check (linguistic): every row sum or col sum is positive\")\n",
    "print(np.min(np.sum(bijective_heatmap, axis=0)), np.min(np.sum(bijective_heatmap, axis=1)))\n",
    "\n",
    "bijective_heatmap = heatmap['image'][np.ix_(rows, columns)]\n",
    "print(\"sanity check (image): every row sum or col sum is positive\")\n",
    "print(np.min(np.sum(bijective_heatmap, axis=0)), np.min(np.sum(bijective_heatmap, axis=1)))\n",
    "\n",
    "crux = alive # They are both_complete_nouns' indices\n",
    "print(len(crux))\n",
    "crux_nouns = [nouns[i] for i in crux]\n",
    "#pprint(crux_nouns)"
   ]
  },
  {
   "cell_type": "code",
   "execution_count": 25,
   "metadata": {},
   "outputs": [
    {
     "name": "stdout",
     "output_type": "stream",
     "text": [
      "role intrinsic meanings: linguistic position\n",
      "\n",
      "#unique concepts =  182\n",
      "#instances =  1929\n",
      "2 182 \n",
      "\n",
      "#unique O1 =  182\n",
      "#unique O2 =  182\n",
      "concept_centric_entropy3 :  1.2052276967994722\n",
      "concept_centric_entropy4 :  0.4680361574297573\n",
      "concept_centric_entropy5 :  0.43482432999895443\n",
      "relation_centric_entropy3 :  6.984890064029102\n",
      "relation_centric_entropy4 :  3.985464699126752\n",
      "relation_centric_entropy5 :  4.0125795046060055\n",
      "count_all = 1929\n",
      "divergence :  -1.4562523291019742\n",
      "divergence2 :  -0.18404620763952317\n",
      "divergence3 :  -0.21725803507032615\n",
      "concept_role_entropy :  3.5352530690196624\n",
      "concept_role_entropy2 :  3.5955797019297195\n",
      "role_association :  2.3535608751873007\n",
      "role_association2 :  2.4138875080973587\n",
      "concept_entropy :  4.1695109067662885\n",
      "concept_entropy2 :  4.229837539676347\n",
      "concept_entropy0 :  4.220571196565527\n",
      "concept_role_index_entropy :  0.6124751363426303\n",
      "--------------------------------------------------------\n",
      "\n",
      "\n",
      "role intrinsic meanings: image position\n",
      "\n",
      "#unique concepts =  182\n",
      "#instances =  1929\n",
      "2 182 \n",
      "\n",
      "#unique O1 =  182\n",
      "#unique O2 =  182\n",
      "concept_centric_entropy3 :  1.2052276967994722\n",
      "concept_centric_entropy4 :  0.5675612251953029\n",
      "concept_centric_entropy5 :  0.5531407263513497\n",
      "relation_centric_entropy3 :  6.984890064029102\n",
      "relation_centric_entropy4 :  4.11429493355554\n",
      "relation_centric_entropy5 :  3.8837492701772174\n",
      "count_all = 1929\n",
      "divergence :  -1.4562523291019742\n",
      "divergence2 :  -0.08452113987397807\n",
      "divergence3 :  -0.09894163871793096\n",
      "concept_role_entropy :  3.3050348174808186\n",
      "concept_role_entropy2 :  3.088909652946444\n",
      "role_association :  2.3411840877664045\n",
      "role_association2 :  2.125058923232026\n",
      "concept_entropy :  4.198816073429533\n",
      "concept_entropy2 :  3.9826909088951647\n",
      "concept_entropy0 :  4.220571196565527\n",
      "concept_role_index_entropy :  0.5035544042836598\n",
      "--------------------------------------------------------\n",
      "\n",
      "\n"
     ]
    }
   ],
   "source": [
    "for transpose in [False, True]:\n",
    "    print(\"role intrinsic meanings: {} position\\n\".format(\"image\" if transpose else \"linguistic\"))\n",
    "    SUBJ, OBJ = [], []\n",
    "    tuples = []\n",
    "    for r in annotations:\n",
    "        if not r in positional_rel_fb: continue\n",
    "        \n",
    "        for a in annotations[r]:\n",
    "            subj, obj, _ = a[1]\n",
    "            #singularize\n",
    "            singlular_subj = Word(subj).lemmatize()\n",
    "            if not singlular_subj == False: subj = singlular_subj\n",
    "            singlular_obj = Word(obj).lemmatize() \n",
    "            if not singlular_obj == False: obj = singlular_obj\n",
    "\n",
    "            if subj in crux_nouns and obj in crux_nouns:\n",
    "                \n",
    "                SUBJ.append(subj)\n",
    "                OBJ.append(obj)\n",
    "                tuples.append((subj, obj, r))\n",
    "    \n",
    "    nouns = sorted(list(set(SUBJ).union(set(OBJ))))\n",
    "    num_nouns = len(nouns)\n",
    "    print(\"#unique concepts = \", num_nouns)\n",
    "    num_relations = len(positional_rel_fb)\n",
    "    print(\"#instances = \", len(tuples))\n",
    "    \n",
    "    train_triplets = [] # convert tuple elements to indices\n",
    "    n2i = {n:i for i, n in enumerate(nouns)}\n",
    "    r2i = {r:i for i, r in enumerate(positional_rel_fb)}\n",
    "    print(len(r2i), len(n2i), \"\\n\")\n",
    "    for subj, obj, r in tuples:\n",
    "        train_triplets.append((n2i[subj], n2i[obj], r2i[r]))\n",
    "    if transpose: train_triplets = Transpose(train_triplets)\n",
    "\n",
    "    # Sanity check crux_nouns are indeed complete under both linguistic & image positional roles\n",
    "    print(\"#unique O1 = \", len(set([t[0] for t in train_triplets])))\n",
    "    print(\"#unique O2 = \", len(set([t[1] for t in train_triplets])))\n",
    "    df = pd.DataFrame(train_triplets, columns =['O1', 'O2', 'R'])\n",
    "    for f in entropy_funcs:\n",
    "        score = eval(f)\n",
    "        print(f.split(\"(\")[0], \": \", score) \n",
    "    print(\"--------------------------------------------------------\\n\\n\")"
   ]
  },
  {
   "cell_type": "code",
   "execution_count": 12,
   "metadata": {},
   "outputs": [
    {
     "name": "stdout",
     "output_type": "stream",
     "text": [
      "1929\n",
      "train_triplets under image positional roles:\n",
      "[(4, 90, 0), (46, 90, 0), (66, 169, 0), (78, 169, 0), (108, 61, 0), (108, 61, 0), (76, 177, 0), (170, 59, 0), (36, 59, 0), (118, 173, 0), (64, 169, 0), (104, 38, 0), (104, 38, 0), (38, 20, 0), (86, 38, 0), (116, 38, 0), (107, 38, 0), (81, 176, 0), (180, 5, 0), (180, 5, 0), (78, 159, 0), (125, 28, 0), (125, 90, 0), (153, 178, 0), (148, 178, 0), (17, 159, 0), (17, 76, 0), (13, 87, 0), (45, 176, 0), (118, 93, 0), (141, 176, 0), (180, 176, 0), (143, 169, 0), (104, 38, 0), (180, 38, 0), (120, 178, 0), (21, 142, 0), (104, 125, 0), (180, 57, 0), (180, 116, 0), (180, 128, 0), (23, 123, 0), (104, 141, 0), (104, 141, 0), (104, 22, 0), (104, 22, 0), (159, 176, 0), (180, 176, 0), (22, 176, 0), (63, 116, 0), (63, 116, 0), (180, 176, 0), (60, 169, 0), (94, 37, 0), (53, 68, 0), (118, 90, 0), (63, 163, 0), (104, 28, 0), (55, 28, 0), (180, 177, 0), (13, 169, 0), (44, 159, 0), (107, 65, 0), (116, 0, 0), (180, 169, 0), (17, 169, 0), (104, 109, 0), (38, 28, 0), (175, 38, 0), (38, 83, 0), (165, 163, 0), (26, 163, 0), (26, 163, 0), (171, 169, 0), (180, 57, 0), (63, 180, 0), (111, 38, 0), (38, 169, 0), (38, 38, 0), (38, 28, 0), (159, 178, 0), (104, 28, 0), (173, 28, 0), (173, 28, 0), (104, 28, 0), (138, 28, 0), (118, 141, 0), (180, 176, 0), (116, 168, 0), (180, 104, 0), (180, 159, 0), (104, 107, 0), (63, 116, 0), (155, 64, 0), (61, 178, 0), (134, 38, 0), (134, 38, 0), (77, 51, 0), (51, 163, 0), (41, 59, 0), (41, 59, 0), (41, 59, 0), (41, 59, 0), (91, 44, 0), (180, 169, 0), (24, 5, 0), (43, 125, 0), (43, 176, 0), (116, 178, 0), (104, 102, 0), (104, 9, 0), (104, 57, 0), (108, 116, 0), (108, 57, 0), (108, 57, 0), (104, 175, 0), (169, 28, 0), (80, 169, 0), (80, 169, 0), (80, 169, 0), (118, 37, 0), (38, 28, 0), (38, 159, 0), (29, 57, 0), (154, 124, 0), (23, 178, 0), (102, 117, 0), (19, 5, 0), (180, 159, 0), (41, 178, 0), (41, 178, 0), (41, 109, 0), (117, 178, 0), (129, 178, 0), (80, 169, 0), (116, 79, 0), (85, 141, 0), (104, 134, 0), (180, 90, 0), (104, 61, 0), (104, 50, 0), (41, 38, 0), (41, 38, 0), (41, 38, 0), (64, 38, 0), (21, 141, 0), (180, 57, 0), (108, 177, 0), (139, 82, 0), (148, 176, 0), (173, 28, 0), (35, 60, 0), (28, 177, 0), (63, 180, 0), (104, 108, 0), (180, 176, 0), (32, 176, 0), (102, 169, 0), (159, 53, 0), (41, 178, 0), (96, 28, 0), (75, 176, 0), (64, 171, 0), (38, 171, 0), (89, 46, 0), (107, 28, 0), (89, 63, 0), (48, 48, 0), (104, 98, 0), (106, 65, 0), (161, 161, 0), (180, 179, 0), (180, 177, 0), (131, 43, 0), (7, 7, 0), (19, 169, 0), (145, 178, 0), (108, 104, 0), (180, 95, 0), (171, 64, 0), (175, 78, 0), (104, 17, 0), (104, 18, 0), (104, 17, 0), (104, 120, 0), (104, 120, 0), (63, 125, 0), (63, 125, 0), (132, 132, 0), (104, 176, 0), (180, 141, 0), (180, 22, 0), (180, 21, 0), (74, 125, 0), (124, 125, 0), (19, 125, 0), (180, 108, 0), (46, 180, 0), (17, 28, 0), (116, 28, 0), (26, 109, 0), (94, 25, 0), (77, 28, 0), (83, 169, 0), (46, 169, 0), (104, 176, 0), (30, 28, 0), (82, 69, 0), (30, 28, 0), (30, 28, 0), (38, 107, 0), (38, 107, 0), (38, 107, 0), (38, 176, 0), (171, 28, 0), (104, 57, 0), (104, 28, 0), (30, 169, 0), (100, 28, 0), (116, 28, 0), (116, 176, 0), (116, 176, 0), (116, 28, 0), (116, 139, 0), (116, 50, 0), (111, 28, 0), (118, 103, 0), (103, 153, 0), (103, 103, 0), (115, 57, 0), (104, 169, 0), (30, 28, 0), (104, 5, 0), (33, 176, 0), (62, 169, 0), (97, 79, 0), (16, 96, 0), (89, 39, 0), (104, 176, 0), (107, 176, 0), (104, 93, 0), (118, 120, 0), (38, 104, 0), (6, 116, 0), (9, 5, 0), (28, 38, 0), (180, 96, 0), (118, 158, 0), (26, 77, 0), (104, 74, 0), (83, 169, 0), (159, 148, 0), (153, 171, 0), (38, 28, 0), (30, 28, 0), (104, 141, 0), (104, 22, 0), (104, 22, 0), (104, 141, 0), (89, 28, 0), (128, 90, 0), (28, 128, 0), (128, 28, 0), (25, 159, 0), (63, 180, 0), (137, 116, 0), (180, 5, 0), (71, 99, 0), (2, 2, 0), (83, 169, 0), (114, 90, 0), (114, 90, 0), (180, 57, 0), (81, 68, 0), (67, 90, 0), (104, 176, 0), (104, 159, 0), (180, 137, 0), (134, 38, 0), (38, 176, 0), (180, 28, 0), (166, 176, 0), (35, 90, 0), (104, 90, 0), (38, 64, 0), (175, 64, 0), (43, 178, 0), (43, 178, 0), (29, 68, 0), (145, 178, 0), (145, 178, 0), (145, 178, 0), (116, 28, 0), (171, 28, 0), (116, 137, 0), (180, 104, 0), (38, 90, 0), (38, 169, 0), (38, 169, 0), (114, 3, 0), (52, 38, 0), (38, 28, 0), (7, 7, 0), (7, 7, 0), (104, 38, 0), (63, 180, 0), (43, 159, 0), (104, 176, 0), (180, 176, 0), (104, 28, 0), (171, 169, 0), (64, 159, 0), (127, 138, 0), (81, 169, 0), (81, 143, 0), (180, 159, 0), (153, 176, 0), (18, 169, 0), (104, 57, 0), (38, 164, 0), (25, 38, 0), (159, 49, 0), (38, 28, 0), (38, 116, 0), (111, 38, 0), (116, 28, 0), (38, 31, 0), (63, 116, 0), (114, 68, 0), (114, 68, 0), (104, 23, 0), (104, 65, 0), (94, 40, 0), (46, 34, 0), (180, 180, 0), (104, 98, 0), (107, 159, 0), (118, 170, 0), (74, 5, 0), (180, 176, 0), (180, 176, 0), (81, 176, 0), (180, 176, 0), (180, 163, 0), (116, 159, 0), (180, 178, 0), (180, 50, 0), (153, 54, 0), (128, 28, 0), (107, 156, 0), (104, 21, 0), (104, 116, 0), (104, 116, 0), (104, 116, 0), (93, 98, 0), (171, 83, 0), (104, 175, 0), (173, 28, 0), (34, 34, 0), (118, 140, 0), (118, 2, 0), (179, 179, 0), (150, 104, 0), (38, 28, 0), (38, 28, 0), (38, 28, 0), (154, 45, 0), (180, 109, 0), (142, 31, 0), (118, 147, 0), (104, 107, 0), (104, 85, 0), (104, 150, 0), (118, 137, 0), (38, 104, 0), (38, 28, 0), (118, 42, 0), (73, 28, 0), (110, 28, 0), (73, 28, 0), (73, 110, 0), (73, 28, 0), (31, 68, 0), (83, 80, 0), (118, 84, 0), (29, 33, 0), (71, 125, 0), (71, 99, 0), (160, 119, 0), (38, 38, 0), (134, 38, 0), (104, 176, 0), (65, 171, 0), (104, 171, 0), (104, 171, 0), (104, 171, 0), (104, 171, 0), (111, 90, 0), (111, 90, 0), (116, 153, 0), (104, 91, 0), (83, 68, 0), (180, 159, 0), (104, 126, 0), (104, 126, 0), (104, 29, 0), (104, 29, 0), (104, 29, 0), (38, 90, 0), (159, 21, 0), (180, 59, 0), (180, 178, 0), (122, 178, 0), (61, 137, 0), (118, 137, 0), (104, 137, 0), (40, 116, 0), (19, 169, 0), (116, 73, 0), (116, 73, 0), (116, 73, 0), (85, 108, 0), (104, 108, 0), (180, 104, 0), (180, 34, 0), (180, 59, 0), (104, 98, 0), (104, 108, 0), (104, 107, 0), (14, 14, 0), (53, 14, 0), (122, 14, 0), (53, 14, 0), (148, 14, 0), (148, 14, 0), (158, 158, 0), (81, 178, 0), (118, 43, 0), (175, 28, 0), (180, 28, 0), (43, 61, 0), (86, 71, 0), (125, 28, 0), (65, 15, 0), (180, 176, 0), (19, 71, 0), (175, 28, 0), (136, 136, 0), (180, 38, 0), (180, 38, 0), (173, 90, 0), (180, 153, 0), (95, 40, 0), (180, 120, 0), (180, 120, 0), (24, 176, 0), (104, 159, 0), (63, 36, 0), (63, 125, 0), (63, 125, 0), (63, 125, 0), (116, 116, 0), (116, 47, 0), (112, 106, 0), (157, 169, 0), (87, 176, 0), (14, 178, 0), (144, 38, 0), (107, 104, 0), (116, 71, 0), (104, 118, 0), (118, 71, 0), (104, 164, 0), (104, 43, 0), (180, 38, 0), (159, 90, 0), (116, 28, 0), (53, 98, 0), (8, 28, 0), (8, 28, 0), (8, 28, 0), (38, 144, 0), (123, 169, 0), (104, 11, 0), (62, 169, 0), (26, 109, 0), (4, 109, 0), (181, 60, 0), (89, 107, 0), (104, 169, 0), (159, 90, 0), (180, 64, 0), (65, 82, 0), (112, 58, 0), (7, 7, 0), (180, 21, 0), (180, 5, 0), (116, 28, 0), (104, 17, 0), (43, 159, 0), (172, 135, 0), (172, 71, 0), (180, 108, 0), (180, 108, 0), (118, 18, 0), (180, 159, 0), (180, 159, 0), (107, 144, 0), (18, 144, 0), (118, 61, 0), (104, 31, 0), (104, 31, 0), (104, 31, 0), (104, 31, 0), (104, 169, 0), (104, 31, 0), (104, 169, 0), (85, 108, 0), (85, 108, 0), (180, 43, 0), (180, 116, 0), (156, 69, 0), (156, 69, 0), (156, 69, 0), (156, 69, 0), (156, 69, 0), (133, 83, 0), (116, 29, 0), (83, 142, 0), (83, 125, 0), (175, 176, 0), (104, 57, 0), (180, 28, 0), (180, 176, 0), (169, 28, 0), (180, 176, 0), (108, 116, 0), (61, 50, 0), (160, 28, 0), (107, 56, 0), (15, 116, 0), (104, 84, 0), (104, 93, 0), (180, 141, 0), (104, 108, 0), (104, 137, 0), (180, 178, 0), (116, 68, 0), (16, 120, 0), (1, 28, 0), (1, 28, 0), (180, 176, 0), (43, 32, 0), (43, 32, 0), (104, 141, 0), (81, 178, 0), (81, 57, 0), (171, 180, 0), (98, 118, 0), (118, 98, 0), (104, 68, 0), (48, 176, 0), (73, 90, 0), (154, 28, 0), (104, 28, 0), (118, 32, 0), (118, 38, 0), (25, 109, 0), (104, 28, 0), (104, 28, 0), (63, 53, 0), (119, 176, 0), (121, 64, 0), (125, 121, 0), (125, 90, 0), (171, 68, 0), (175, 169, 0), (160, 92, 0), (166, 176, 0), (104, 159, 0), (81, 178, 0), (107, 28, 0), (175, 38, 0), (168, 28, 0), (92, 92, 0), (92, 92, 0), (134, 90, 0), (180, 96, 0), (107, 28, 0), (60, 169, 0), (180, 155, 0), (180, 155, 0), (18, 68, 0), (11, 57, 0), (5, 36, 0), (180, 36, 0), (104, 159, 0), (102, 169, 0), (131, 69, 0), (131, 69, 0), (131, 69, 0), (131, 69, 0), (131, 69, 0), (87, 5, 0), (144, 169, 0), (144, 169, 0), (134, 38, 0), (38, 38, 0), (38, 38, 0), (149, 149, 0), (118, 109, 0), (171, 28, 0), (171, 38, 0), (171, 28, 0), (107, 97, 0), (40, 40, 0), (54, 32, 0), (54, 157, 0), (43, 90, 0), (125, 90, 0), (17, 28, 0), (17, 28, 0), (104, 178, 0), (104, 137, 0), (104, 137, 0), (104, 137, 0), (41, 178, 0), (41, 48, 0), (104, 38, 0), (26, 8, 0), (26, 8, 0), (26, 8, 0), (26, 8, 0), (17, 32, 0), (131, 131, 0), (107, 150, 0), (107, 57, 0), (107, 57, 0), (154, 169, 0), (63, 118, 0), (19, 99, 0), (19, 71, 0), (17, 176, 0), (180, 159, 0), (180, 176, 0), (107, 29, 0), (13, 177, 0), (122, 88, 0), (68, 31, 0), (80, 169, 0), (104, 65, 0), (104, 159, 0), (104, 38, 0), (159, 75, 0), (71, 178, 0), (71, 178, 0), (118, 38, 0), (118, 118, 0), (118, 93, 0), (180, 116, 0), (21, 22, 0), (21, 22, 0), (104, 141, 0), (21, 22, 0), (175, 28, 0), (174, 178, 0), (180, 159, 0), (180, 59, 0), (180, 176, 0), (180, 98, 0), (47, 23, 0), (82, 23, 0), (104, 116, 0), (147, 169, 0), (116, 178, 0), (180, 171, 0), (180, 171, 0), (104, 176, 0), (104, 176, 0), (180, 28, 0), (3, 169, 0), (60, 169, 0), (116, 5, 0), (116, 176, 0), (82, 23, 0), (82, 23, 0), (81, 38, 0), (180, 38, 0), (37, 169, 0), (37, 169, 0), (35, 169, 0), (46, 180, 0), (60, 169, 0), (154, 169, 0), (38, 90, 0), (171, 90, 0), (171, 78, 0), (171, 90, 0), (171, 64, 0), (86, 100, 0), (116, 35, 0), (116, 35, 0), (116, 35, 0), (180, 35, 0), (35, 169, 0), (104, 23, 0), (159, 53, 0), (118, 22, 0), (92, 90, 0), (104, 67, 0), (28, 178, 0), (36, 175, 0), (116, 98, 0), (116, 98, 0), (116, 50, 0), (168, 28, 0), (38, 28, 0), (175, 90, 0), (38, 90, 0), (38, 90, 0), (38, 90, 0), (38, 28, 0), (180, 15, 0), (118, 133, 0), (180, 142, 0), (118, 129, 0), (127, 42, 0), (35, 35, 0), (180, 5, 0), (127, 116, 0), (64, 90, 0), (81, 125, 0), (19, 125, 0), (21, 47, 0), (21, 22, 0), (26, 21, 0), (21, 57, 0), (46, 144, 0), (38, 28, 0), (26, 81, 0), (81, 120, 0), (46, 120, 0), (26, 38, 0), (26, 38, 0), (26, 38, 0), (26, 38, 0), (26, 38, 0), (180, 57, 0), (180, 177, 0), (139, 108, 0), (38, 180, 0), (180, 168, 0), (17, 38, 0), (18, 38, 0), (104, 105, 0), (180, 141, 0), (180, 21, 0), (118, 29, 0), (104, 104, 0), (127, 57, 0), (180, 176, 0), (60, 169, 0), (152, 28, 0), (7, 104, 0), (28, 104, 0), (171, 169, 0), (41, 159, 0), (30, 169, 0), (55, 68, 0), (2, 169, 0), (30, 169, 0), (31, 28, 0), (46, 53, 0), (84, 118, 0), (34, 118, 0), (14, 88, 0), (80, 169, 0), (30, 169, 0), (169, 28, 0), (104, 28, 0), (104, 169, 0), (70, 166, 0), (16, 169, 0), (55, 176, 0), (30, 28, 0), (181, 68, 0), (80, 169, 0), (80, 169, 0), (17, 30, 0), (17, 30, 0), (171, 28, 0), (83, 0, 0), (81, 178, 0), (104, 53, 0), (80, 135, 0), (68, 181, 0), (68, 31, 0), (41, 176, 0), (41, 176, 0), (68, 66, 0), (176, 28, 0), (41, 176, 0), (28, 169, 0), (53, 176, 0), (89, 168, 0), (41, 180, 0), (39, 169, 0), (116, 53, 0), (159, 116, 0), (169, 28, 0), (48, 28, 0), (163, 41, 0), (118, 176, 0), (164, 28, 0), (181, 31, 0), (26, 68, 0), (176, 164, 0), (122, 88, 0), (122, 88, 0), (135, 13, 0), (68, 2, 0), (81, 169, 0), (169, 178, 0), (68, 56, 0), (68, 28, 0), (180, 68, 0), (169, 28, 0), (145, 109, 0), (43, 176, 0), (174, 176, 0), (56, 116, 0), (168, 28, 0), (43, 61, 0), (148, 176, 0), (104, 159, 0), (26, 169, 0), (43, 70, 0), (168, 169, 0), (127, 68, 0), (159, 43, 0), (53, 176, 0), (81, 16, 0), (16, 31, 0), (178, 16, 0), (12, 42, 0), (104, 138, 0), (55, 22, 0), (81, 22, 0), (26, 116, 0), (26, 176, 0), (111, 116, 0), (144, 28, 0), (111, 17, 0), (171, 90, 0), (126, 43, 0), (166, 176, 0), (104, 68, 0), (12, 104, 0), (168, 28, 0), (68, 80, 0), (2, 83, 0), (104, 144, 0), (104, 144, 0), (30, 28, 0), (166, 176, 0), (46, 55, 0), (66, 169, 0), (89, 28, 0), (176, 169, 0), (43, 61, 0), (180, 104, 0), (104, 176, 0), (66, 125, 0), (66, 125, 0), (81, 52, 0), (28, 30, 0), (80, 31, 0), (63, 68, 0), (58, 137, 0), (104, 10, 0), (66, 176, 0), (80, 169, 0), (16, 68, 0), (104, 169, 0), (40, 169, 0), (104, 68, 0), (66, 27, 0), (68, 169, 0), (181, 169, 0), (95, 104, 0), (144, 169, 0), (80, 169, 0), (26, 122, 0), (159, 95, 0), (180, 176, 0), (43, 178, 0), (24, 82, 0), (41, 137, 0), (104, 135, 0), (48, 176, 0), (56, 83, 0), (159, 53, 0), (43, 120, 0), (68, 169, 0), (90, 169, 0), (154, 90, 0), (169, 90, 0), (104, 169, 0), (174, 176, 0), (12, 42, 0), (168, 28, 0), (63, 38, 0), (26, 113, 0), (143, 151, 0), (144, 28, 0), (43, 176, 0), (176, 169, 0), (14, 176, 0), (118, 169, 0), (104, 28, 0), (18, 169, 0), (26, 176, 0), (180, 64, 0), (180, 176, 0), (176, 69, 0), (34, 165, 0), (63, 31, 0), (68, 31, 0), (95, 109, 0), (144, 169, 0), (111, 116, 0), (7, 13, 0), (66, 79, 0), (104, 28, 0), (125, 169, 0), (116, 144, 0), (2, 177, 0), (104, 176, 0), (26, 68, 0), (26, 28, 0), (2, 169, 0), (2, 28, 0), (64, 17, 0), (64, 17, 0), (104, 68, 0), (180, 176, 0), (118, 176, 0), (118, 141, 0), (98, 118, 0), (16, 175, 0), (104, 178, 0), (80, 169, 0), (104, 68, 0), (168, 28, 0), (169, 31, 0), (147, 169, 0), (111, 30, 0), (104, 109, 0), (88, 176, 0), (180, 176, 0), (68, 66, 0), (68, 66, 0), (14, 176, 0), (104, 176, 0), (180, 68, 0), (68, 80, 0), (56, 169, 0), (59, 178, 0), (177, 55, 0), (80, 176, 0), (12, 68, 0), (95, 176, 0), (181, 169, 0), (159, 104, 0), (111, 28, 0), (104, 68, 0), (68, 31, 0), (173, 40, 0), (98, 104, 0), (28, 169, 0), (125, 28, 0), (104, 31, 0), (0, 146, 0), (80, 169, 0), (68, 169, 0), (104, 31, 0), (30, 169, 0), (66, 68, 0), (66, 68, 0), (53, 176, 0), (181, 169, 0), (140, 68, 0), (41, 176, 0), (174, 178, 0), (41, 90, 0), (180, 25, 0), (144, 27, 0), (16, 31, 0), (24, 176, 0), (104, 176, 0), (104, 176, 0), (144, 169, 0), (80, 169, 0), (31, 80, 0), (169, 181, 0), (81, 113, 0), (178, 41, 0), (11, 115, 0), (104, 176, 0), (111, 176, 0), (104, 176, 0), (66, 19, 0), (80, 169, 0), (26, 169, 0), (26, 83, 0), (68, 80, 0), (66, 135, 0), (57, 169, 0), (80, 169, 0), (104, 59, 0), (43, 178, 0), (68, 169, 0), (80, 169, 0), (80, 169, 0), (118, 21, 0), (68, 56, 0), (105, 176, 0), (83, 176, 0), (30, 38, 0), (104, 177, 0), (34, 116, 0), (26, 152, 0), (41, 176, 0), (181, 68, 0), (180, 169, 0), (61, 43, 0), (43, 61, 0), (151, 28, 0), (2, 176, 0), (104, 169, 0), (159, 176, 0), (31, 28, 0), (81, 54, 0), (13, 169, 0), (104, 169, 0), (4, 104, 0), (156, 176, 0), (66, 169, 0), (81, 90, 0), (63, 177, 0), (180, 177, 0), (89, 169, 0), (46, 169, 0), (180, 176, 0), (19, 169, 0), (104, 176, 0), (87, 81, 0), (2, 68, 0), (154, 73, 0), (73, 169, 0), (56, 169, 0), (57, 64, 0), (180, 154, 0), (56, 83, 0), (41, 68, 0), (20, 169, 0), (57, 68, 0), (104, 176, 0), (171, 90, 0), (89, 68, 0), (81, 169, 0), (89, 68, 0), (68, 89, 0), (86, 176, 0), (169, 28, 0), (83, 30, 0), (180, 169, 0), (16, 31, 0), (16, 169, 0), (104, 169, 0), (111, 31, 0), (27, 144, 0), (80, 169, 0), (107, 176, 0), (159, 107, 0), (104, 176, 0), (167, 28, 0), (16, 68, 0), (16, 176, 0), (80, 68, 0), (109, 145, 0), (50, 59, 0), (144, 28, 0), (180, 104, 0), (118, 68, 0), (159, 54, 0), (104, 28, 0), (63, 177, 0), (104, 64, 0), (66, 169, 0), (166, 176, 0), (12, 68, 0), (42, 68, 0), (68, 169, 0), (180, 64, 0), (41, 178, 0), (19, 177, 0), (169, 167, 0), (159, 46, 0), (104, 169, 0), (16, 176, 0), (16, 28, 0), (42, 68, 0), (68, 104, 0), (80, 68, 0), (68, 83, 0), (68, 80, 0), (104, 176, 0), (81, 68, 0), (104, 176, 0), (175, 68, 0), (74, 164, 0), (63, 59, 0), (80, 169, 0), (104, 68, 0), (159, 148, 0), (104, 113, 0), (89, 169, 0), (104, 169, 0), (104, 176, 0), (104, 70, 0), (169, 28, 0), (43, 176, 0), (104, 83, 0), (144, 176, 0), (181, 169, 0), (68, 118, 0), (180, 176, 0), (26, 168, 0), (25, 43, 0), (53, 176, 0), (68, 31, 0), (81, 176, 0), (16, 83, 0), (143, 16, 0), (143, 16, 0), (16, 83, 0), (104, 152, 0), (104, 98, 0), (104, 68, 0), (19, 177, 0), (79, 164, 0), (68, 169, 0), (98, 176, 0), (80, 169, 0), (80, 169, 0), (104, 176, 0), (180, 143, 0), (80, 169, 0), (28, 20, 0), (104, 28, 0), (104, 16, 0), (177, 104, 0), (83, 68, 0), (68, 83, 0), (26, 90, 0), (140, 26, 0), (181, 169, 0), (68, 16, 0), (57, 28, 0), (16, 169, 0), (31, 28, 0), (104, 16, 0), (61, 176, 0), (118, 180, 0), (180, 64, 0), (99, 178, 0), (40, 104, 0), (171, 28, 0), (81, 169, 0), (66, 169, 0), (104, 176, 0), (104, 169, 0), (104, 169, 0), (95, 28, 0), (16, 31, 0), (68, 177, 0), (144, 28, 0), (68, 66, 0), (68, 169, 0), (180, 104, 0), (16, 31, 0), (14, 176, 0), (26, 68, 0), (68, 89, 0), (147, 28, 0), (13, 169, 0), (80, 135, 0), (68, 56, 0), (26, 177, 0), (20, 177, 0), (41, 118, 0), (104, 178, 0), (162, 81, 0), (116, 6, 0), (98, 176, 0), (14, 176, 0), (61, 43, 0), (147, 118, 0), (81, 176, 0), (41, 178, 0), (2, 68, 0), (2, 68, 0), (2, 68, 0), (68, 169, 0), (181, 176, 0), (181, 101, 0), (80, 169, 0), (19, 169, 0), (104, 169, 0), (30, 177, 0), (88, 178, 0), (30, 28, 0), (171, 169, 0), (86, 169, 0), (21, 162, 0), (68, 169, 0), (82, 28, 0), (104, 28, 0), (180, 30, 0), (63, 50, 0), (81, 90, 0), (68, 169, 0), (169, 90, 0), (104, 16, 0), (41, 176, 0), (104, 96, 0), (104, 111, 0), (111, 28, 0), (72, 72, 1), (38, 116, 1), (89, 118, 1), (5, 95, 1), (38, 38, 1), (164, 38, 1), (175, 118, 1), (38, 118, 1), (178, 81, 1), (63, 104, 1), (61, 104, 1), (125, 38, 1), (159, 104, 1), (125, 159, 1), (159, 116, 1), (112, 130, 1), (61, 148, 1), (178, 59, 1), (82, 24, 1), (38, 28, 1), (175, 175, 1), (141, 118, 1), (146, 171, 1), (68, 4, 1), (68, 83, 1), (68, 140, 1), (68, 140, 1), (169, 140, 1), (104, 180, 1), (61, 104, 1), (171, 38, 1), (173, 38, 1), (179, 180, 1), (179, 180, 1), (180, 104, 1), (57, 104, 1), (118, 118, 1), (104, 107, 1), (38, 171, 1), (38, 84, 1), (38, 38, 1), (159, 104, 1), (144, 104, 1), (61, 116, 1), (172, 19, 1), (38, 180, 1), (180, 81, 1), (180, 95, 1), (10, 30, 1), (68, 30, 1), (169, 168, 1), (89, 107, 1), (89, 107, 1), (178, 141, 1), (82, 176, 1), (178, 21, 1), (38, 118, 1), (98, 180, 1), (9, 107, 1), (68, 116, 1), (38, 104, 1), (61, 118, 1), (135, 140, 1), (153, 86, 1), (159, 104, 1), (38, 38, 1), (38, 134, 1), (38, 38, 1), (175, 38, 1), (5, 104, 1), (93, 118, 1), (100, 161, 1), (176, 13, 1), (125, 135, 1), (49, 49, 1), (168, 175, 1), (161, 111, 1), (17, 86, 1), (180, 104, 1), (159, 104, 1), (79, 90, 1), (79, 90, 1), (38, 104, 1), (20, 104, 1), (20, 104, 1), (114, 60, 1), (173, 104, 1), (180, 104, 1), (176, 104, 1), (17, 46, 1), (61, 104, 1), (61, 104, 1), (54, 160, 1), (7, 127, 1), (169, 28, 1), (73, 28, 1), (38, 38, 1), (26, 104, 1), (54, 180, 1), (159, 95, 1), (54, 180, 1), (54, 180, 1), (89, 118, 1), (135, 104, 1), (61, 116, 1), (61, 118, 1), (61, 107, 1), (118, 159, 1), (108, 85, 1), (118, 118, 1), (98, 104, 1), (82, 25, 1), (43, 50, 1), (1, 1, 1), (54, 180, 1), (90, 180, 1), (108, 104, 1), (159, 104, 1), (61, 107, 1), (144, 38, 1), (101, 2, 1), (161, 38, 1), (81, 116, 1), (180, 104, 1), (38, 30, 1), (178, 2, 1), (178, 59, 1), (175, 81, 1), (38, 180, 1), (144, 38, 1), (18, 104, 1), (180, 104, 1), (178, 169, 1), (159, 180, 1), (38, 180, 1), (108, 85, 1), (24, 118, 1), (61, 180, 1), (61, 180, 1), (61, 180, 1), (61, 180, 1), (61, 104, 1), (10, 104, 1), (69, 109, 1), (68, 63, 1), (68, 6, 1), (68, 63, 1), (68, 63, 1), (26, 104, 1), (26, 175, 1), (126, 42, 1), (82, 2, 1), (159, 107, 1), (68, 120, 1), (160, 62, 1), (54, 116, 1), (41, 63, 1), (43, 46, 1), (43, 61, 1), (43, 46, 1), (43, 46, 1), (43, 46, 1), (43, 61, 1), (43, 46, 1), (36, 180, 1), (36, 87, 1), (36, 180, 1), (36, 180, 1), (94, 94, 1), (126, 42, 1), (126, 104, 1), (126, 42, 1), (126, 42, 1), (126, 82, 1), (36, 180, 1), (159, 104, 1), (104, 180, 1), (38, 134, 1), (54, 44, 1), (40, 40, 1), (159, 76, 1), (68, 114, 1), (68, 114, 1), (68, 114, 1), (68, 114, 1), (2, 125, 1), (68, 114, 1), (34, 26, 1), (68, 116, 1), (10, 118, 1), (63, 104, 1), (159, 180, 1), (52, 126, 1), (68, 143, 1), (7, 118, 1), (180, 104, 1), (68, 28, 1), (68, 104, 1), (33, 12, 1), (169, 104, 1), (82, 179, 1), (130, 112, 1), (83, 172, 1), (38, 118, 1), (71, 99, 1), (38, 134, 1), (61, 46, 1), (82, 180, 1), (178, 180, 1), (126, 77, 1), (159, 59, 1), (35, 35, 1), (159, 180, 1), (31, 90, 1), (38, 175, 1), (38, 134, 1), (175, 1, 1), (38, 180, 1), (38, 180, 1), (127, 104, 1), (28, 104, 1), (171, 169, 1), (41, 159, 1), (30, 169, 1), (55, 68, 1), (2, 169, 1), (30, 169, 1), (31, 28, 1), (46, 53, 1), (84, 118, 1), (34, 118, 1), (80, 169, 1), (30, 169, 1), (169, 28, 1), (104, 28, 1), (16, 83, 1), (104, 169, 1), (70, 166, 1), (16, 169, 1), (55, 176, 1), (30, 28, 1), (181, 68, 1), (80, 169, 1), (80, 169, 1), (17, 30, 1), (17, 30, 1), (171, 28, 1), (83, 0, 1), (81, 178, 1), (104, 53, 1), (80, 135, 1), (68, 181, 1), (68, 31, 1), (41, 176, 1), (41, 176, 1), (68, 66, 1), (176, 28, 1), (41, 176, 1), (28, 169, 1), (53, 176, 1), (89, 168, 1), (41, 180, 1), (39, 169, 1), (116, 53, 1), (159, 116, 1), (48, 28, 1), (169, 28, 1), (163, 41, 1), (118, 176, 1), (164, 28, 1), (181, 31, 1), (26, 68, 1), (176, 164, 1), (135, 13, 1), (134, 169, 1), (68, 2, 1), (169, 178, 1), (81, 169, 1), (68, 56, 1), (68, 28, 1), (180, 68, 1), (169, 28, 1), (43, 176, 1), (174, 176, 1), (56, 116, 1), (168, 28, 1), (43, 61, 1), (148, 176, 1), (104, 159, 1), (26, 169, 1), (43, 70, 1), (168, 169, 1), (127, 68, 1), (159, 43, 1), (53, 176, 1), (16, 31, 1), (81, 16, 1), (178, 16, 1), (12, 42, 1), (62, 83, 1), (104, 138, 1), (81, 22, 1), (55, 22, 1), (26, 176, 1), (26, 116, 1), (111, 116, 1), (144, 28, 1), (180, 83, 1), (111, 17, 1), (171, 90, 1), (126, 43, 1), (166, 176, 1), (104, 68, 1), (12, 104, 1), (62, 16, 1), (168, 28, 1), (68, 80, 1), (2, 83, 1), (104, 144, 1), (104, 144, 1), (30, 28, 1), (166, 176, 1), (46, 55, 1), (66, 169, 1), (89, 28, 1), (176, 169, 1), (43, 61, 1), (180, 104, 1), (104, 176, 1), (66, 125, 1), (66, 125, 1), (81, 52, 1), (28, 30, 1), (80, 31, 1), (63, 68, 1), (58, 137, 1), (104, 10, 1), (66, 176, 1), (80, 169, 1), (16, 68, 1), (104, 169, 1), (40, 169, 1), (104, 68, 1), (66, 27, 1), (68, 169, 1), (181, 169, 1), (95, 104, 1), (144, 169, 1), (80, 169, 1), (26, 122, 1), (159, 95, 1), (180, 176, 1), (43, 178, 1), (24, 82, 1), (41, 137, 1), (104, 135, 1), (48, 176, 1), (56, 83, 1), (159, 53, 1), (43, 120, 1), (68, 169, 1), (154, 90, 1), (169, 90, 1), (90, 169, 1), (104, 169, 1), (174, 176, 1), (12, 42, 1), (168, 28, 1), (63, 38, 1), (68, 83, 1), (113, 83, 1), (26, 113, 1), (144, 28, 1), (43, 176, 1), (176, 169, 1), (14, 176, 1), (118, 169, 1), (104, 28, 1), (18, 169, 1), (80, 83, 1), (26, 176, 1), (180, 64, 1), (180, 176, 1), (176, 69, 1), (34, 165, 1), (63, 31, 1), (68, 31, 1), (95, 109, 1), (144, 169, 1), (111, 116, 1), (7, 13, 1), (66, 79, 1), (104, 28, 1), (125, 169, 1), (116, 144, 1), (2, 177, 1), (104, 176, 1), (26, 28, 1), (26, 68, 1), (2, 28, 1), (2, 169, 1), (64, 17, 1), (64, 17, 1), (104, 68, 1), (180, 176, 1), (118, 176, 1), (118, 141, 1), (98, 118, 1), (16, 175, 1), (104, 178, 1), (80, 169, 1), (104, 68, 1), (168, 28, 1), (169, 31, 1), (111, 30, 1), (104, 109, 1), (143, 28, 1), (180, 176, 1), (68, 66, 1), (68, 66, 1), (14, 176, 1), (104, 176, 1), (180, 68, 1), (68, 80, 1), (56, 169, 1), (59, 178, 1), (177, 55, 1), (80, 176, 1), (12, 68, 1), (95, 176, 1), (181, 169, 1), (159, 104, 1), (111, 28, 1), (104, 68, 1), (68, 31, 1), (173, 40, 1), (98, 104, 1), (125, 28, 1), (28, 169, 1), (104, 31, 1), (0, 146, 1), (80, 169, 1), (68, 169, 1), (104, 31, 1), (30, 169, 1), (66, 68, 1), (66, 68, 1), (53, 176, 1), (181, 169, 1), (140, 68, 1), (41, 176, 1), (174, 178, 1), (41, 90, 1), (180, 25, 1), (144, 27, 1), (16, 31, 1), (24, 176, 1), (104, 176, 1), (104, 176, 1), (144, 169, 1), (31, 80, 1), (80, 169, 1), (169, 181, 1), (81, 113, 1), (178, 41, 1), (11, 115, 1), (104, 176, 1), (111, 176, 1), (104, 176, 1), (66, 19, 1), (80, 169, 1), (26, 83, 1), (26, 169, 1), (68, 80, 1), (66, 135, 1), (57, 169, 1), (80, 169, 1), (104, 59, 1), (43, 178, 1), (68, 169, 1), (80, 169, 1), (80, 169, 1), (118, 21, 1), (68, 56, 1), (105, 176, 1), (176, 169, 1), (83, 176, 1), (30, 38, 1), (104, 177, 1), (34, 116, 1), (26, 152, 1), (41, 176, 1), (181, 68, 1), (180, 169, 1), (43, 61, 1), (61, 43, 1), (151, 28, 1), (2, 176, 1), (99, 174, 1), (104, 169, 1), (159, 176, 1), (31, 28, 1), (81, 54, 1), (13, 169, 1), (104, 169, 1), (4, 104, 1), (156, 176, 1), (66, 169, 1), (81, 90, 1), (63, 177, 1), (180, 177, 1), (89, 169, 1), (46, 169, 1), (180, 176, 1), (19, 169, 1), (104, 176, 1), (2, 68, 1), (154, 73, 1), (73, 169, 1), (56, 169, 1), (57, 64, 1), (180, 154, 1), (56, 83, 1), (41, 68, 1), (20, 169, 1), (57, 68, 1), (104, 176, 1), (171, 90, 1), (89, 68, 1), (81, 169, 1), (68, 89, 1), (89, 68, 1), (86, 176, 1), (169, 28, 1), (180, 169, 1), (16, 169, 1), (111, 31, 1), (104, 169, 1), (27, 144, 1), (80, 169, 1), (159, 107, 1), (107, 176, 1), (104, 176, 1), (167, 28, 1), (16, 68, 1), (16, 176, 1), (80, 68, 1), (109, 145, 1), (50, 59, 1), (144, 28, 1), (180, 104, 1), (118, 68, 1), (159, 54, 1), (104, 28, 1), (63, 177, 1), (104, 64, 1), (66, 169, 1), (166, 176, 1), (12, 68, 1), (42, 68, 1), (68, 169, 1), (180, 64, 1), (41, 178, 1), (19, 177, 1), (169, 167, 1), (159, 46, 1), (104, 169, 1), (16, 28, 1), (16, 176, 1), (42, 68, 1), (68, 104, 1), (68, 83, 1), (68, 80, 1), (80, 68, 1), (104, 176, 1), (81, 68, 1), (104, 176, 1), (175, 68, 1), (74, 164, 1), (63, 59, 1), (80, 169, 1), (104, 68, 1), (159, 148, 1), (104, 113, 1), (104, 169, 1), (89, 169, 1), (104, 176, 1), (104, 70, 1), (169, 28, 1), (43, 176, 1), (104, 83, 1), (144, 176, 1), (181, 169, 1), (68, 118, 1), (180, 176, 1), (26, 168, 1), (25, 43, 1), (53, 176, 1), (68, 31, 1), (81, 176, 1), (16, 83, 1), (16, 83, 1), (104, 152, 1), (104, 98, 1), (104, 68, 1), (19, 177, 1), (79, 164, 1), (68, 169, 1), (98, 176, 1), (80, 169, 1), (80, 169, 1), (104, 176, 1), (80, 169, 1), (28, 20, 1), (104, 16, 1), (104, 28, 1), (177, 104, 1), (68, 83, 1), (140, 26, 1), (26, 90, 1), (181, 169, 1), (68, 16, 1), (57, 28, 1), (16, 169, 1), (31, 28, 1), (104, 16, 1), (61, 176, 1), (118, 180, 1), (180, 64, 1), (99, 178, 1), (171, 28, 1), (81, 169, 1), (66, 169, 1), (104, 176, 1), (104, 169, 1), (104, 169, 1), (95, 28, 1), (16, 31, 1), (68, 177, 1), (144, 28, 1), (68, 66, 1), (68, 169, 1), (180, 104, 1), (16, 31, 1), (14, 176, 1), (26, 68, 1), (68, 89, 1), (13, 169, 1), (80, 135, 1), (68, 56, 1), (20, 177, 1), (26, 177, 1), (41, 118, 1), (104, 178, 1), (162, 81, 1), (116, 6, 1), (98, 176, 1), (14, 176, 1), (61, 43, 1), (147, 118, 1), (81, 176, 1), (41, 178, 1), (68, 169, 1), (2, 68, 1), (2, 68, 1), (2, 68, 1), (181, 176, 1), (181, 101, 1), (80, 169, 1), (19, 169, 1), (104, 169, 1), (30, 177, 1), (30, 28, 1), (171, 169, 1), (86, 169, 1), (21, 162, 1), (68, 169, 1), (104, 28, 1), (82, 28, 1), (180, 30, 1), (63, 50, 1), (81, 90, 1), (68, 169, 1), (169, 90, 1), (104, 16, 1), (41, 176, 1), (104, 96, 1), (14, 88, 1), (104, 111, 1), (111, 28, 1)]\n",
      "unique train_triplets = 1123\n",
      "diagonal supports:  {'bed', 'swan', 'magazine', 'cart', 'people', 'vehicle', 'car', 'woman', 'ball', 'cocktail', 'sportscar', 'clock', 'taxi', 'flowerpot', 'ambulance', 'puppy', 'pumpkin', 'jeep', 'man', 'animal', 'person', 'kid', 'cake', 'camel', 'scorpion', 'wine'}\n"
     ]
    }
   ],
   "source": [
    "if transpose:\n",
    "    print(len(train_triplets))\n",
    "    print(\"train_triplets under {} positional roles:\".format(\"image\" if transpose else \"linguistic\"))\n",
    "    print(train_triplets)\n",
    "    print(\"unique train_triplets = {}\".format(len(set(train_triplets))))\n",
    "print(\"diagonal supports: \", set([nouns[t[0]] for t in train_triplets if t[0] == t[1]]))"
   ]
  },
  {
   "cell_type": "markdown",
   "metadata": {},
   "source": [
    "##### Save aggregated complete set based on crux_nouns"
   ]
  },
  {
   "cell_type": "code",
   "execution_count": 13,
   "metadata": {},
   "outputs": [],
   "source": [
    "aggregated_data = []"
   ]
  },
  {
   "cell_type": "code",
   "execution_count": 15,
   "metadata": {},
   "outputs": [
    {
     "name": "stderr",
     "output_type": "stream",
     "text": [
      "100%|██████████| 21944/21944 [00:00<00:00, 1028239.87it/s]"
     ]
    },
    {
     "name": "stdout",
     "output_type": "stream",
     "text": [
      "945\n"
     ]
    },
    {
     "name": "stderr",
     "output_type": "stream",
     "text": [
      "\n"
     ]
    }
   ],
   "source": [
    "annotations = json.load(open(\"../data/vl_models_are_bows/visual_genome_relation.json\", \"r\"))\n",
    "symmetric = ['adjusting', 'attached to', 'between', 'bigger than', 'biting', 'boarding', 'brushing', 'chewing', 'cleaning', 'climbing', 'close to', 'coming from', 'coming out of', 'contain', 'crossing', 'dragging', 'draped over', 'drinking', 'drinking from', 'driving', 'driving down', 'driving on', 'eating from', 'eating in', 'enclosing', 'exiting', 'facing', 'filled with', 'floating in', 'floating on', 'flying', 'flying above', 'flying in', 'flying over', 'flying through', 'full of', 'going down', 'going into', 'going through', 'grazing in', 'growing in', 'growing on', 'guiding', 'hanging from', 'hanging in', 'hanging off', 'hanging over', 'higher than', 'holding onto', 'hugging', 'in between', 'jumping off', 'jumping on', 'jumping over', 'kept in', 'larger than', 'leading', 'leaning over', 'leaving', 'licking', 'longer than', 'looking in', 'looking into', 'looking out', 'looking over', 'looking through', 'lying next to', 'lying on top of', 'making', 'mixed with', 'mounted on', 'moving', 'on the back of', 'on the edge of', 'on the front of', 'on the other side of', 'opening', 'painted on', 'parked at', 'parked beside', 'parked by', 'parked in', 'parked in front of', 'parked near', 'parked next to', 'perched on', 'petting', 'piled on', 'playing', 'playing in', 'playing on', 'playing with', 'pouring', 'reaching for', 'reading', 'reflected on', 'riding on', 'running in', 'running on', 'running through', 'seen through', 'sitting behind', 'sitting beside', 'sitting by', 'sitting in front of', 'sitting near', 'sitting next to', 'sitting under', 'skiing down', 'skiing on', 'sleeping in', 'sleeping on', 'smiling at', 'sniffing', 'splashing', 'sprinkled on', 'stacked on', 'standing against', 'standing around', 'standing behind', 'standing beside', 'standing in front of', 'standing near', 'standing next to', 'staring at', 'stuck in', 'surrounding', 'swimming in', 'swinging', 'talking to', 'topped with', 'touching', 'traveling down', 'traveling on', 'tying', 'typing on', 'underneath', 'wading in', 'waiting for', 'walking across', 'walking by', 'walking down', 'walking next to', 'walking through', 'working in', 'working on', 'worn on', 'wrapped around', 'wrapped in', 'by', 'of', 'near', 'next to', 'with', 'beside', 'on the side of', 'around']\n",
    "annotations = [x for x in annotations if not x['relation_name'] in symmetric]\n",
    "\n",
    "imdir = \"vl_models_are_bows/images/{}\"\n",
    "\n",
    "for a in tqdm(annotations):\n",
    "    r = a['relation_name']\n",
    "    if not r in positional_rel_fb: continue\n",
    "    subj, obj = re.findall(rf'the ([a-zA-Z\\s-]+) is {r} the ([a-zA-Z\\s]+)', a['true_caption'])[0]\n",
    "    \n",
    "    #singularized subj & obj should belong to crux_nouns\n",
    "    singlular_subj = Word(subj).lemmatize()\n",
    "    if singlular_subj == False: singlular_subj = subj\n",
    "    singlular_obj = Word(obj).lemmatize() \n",
    "    if singlular_obj == False: singlular_obj = obj\n",
    "    \n",
    "    if singlular_subj in crux_nouns and singlular_obj in crux_nouns:\n",
    "        image_filename = imdir.format(a['image_path'])\n",
    "        aggregated_data.append([\n",
    "            a['true_caption'], \n",
    "            image_filename, \n",
    "            (singlular_subj, singlular_obj, r),\n",
    "            #(subj, obj, r)\n",
    "        ])\n",
    "\n",
    "print(len(aggregated_data))"
   ]
  },
  {
   "cell_type": "code",
   "execution_count": 16,
   "metadata": {},
   "outputs": [
    {
     "name": "stderr",
     "output_type": "stream",
     "text": [
      "100%|██████████| 45000/45000 [00:09<00:00, 4995.46it/s]"
     ]
    },
    {
     "name": "stdout",
     "output_type": "stream",
     "text": [
      "#unique tuples =  1123\n"
     ]
    },
    {
     "name": "stderr",
     "output_type": "stream",
     "text": [
      "\n"
     ]
    }
   ],
   "source": [
    "imdir = \"nocaps/images/{}\"\n",
    "J = json.load(open(\"../data/nocaps/nocaps_val_4500_captions.json\", \"r\"))\n",
    "annotations, image_info = J['annotations'], J['images']\n",
    "\n",
    "for a in tqdm(annotations):\n",
    "    for r in positional_rel_fb:\n",
    "        if f\" {r} \" in a['caption']:\n",
    "            text = preprocess(a['caption'])\n",
    "            tuple = extract_tuple(text, r)\n",
    "            if tuple is None: continue\n",
    "            subj, obj, _ = tuple\n",
    "\n",
    "            #singularized subj & obj should belong to crux_nouns\n",
    "            singlular_subj = Word(subj).lemmatize()\n",
    "            if singlular_subj == False: singlular_subj = subj\n",
    "            singlular_obj = Word(obj).lemmatize() \n",
    "            if singlular_obj == False: singlular_obj = obj\n",
    "            \n",
    "            if singlular_subj in crux_nouns and singlular_obj in crux_nouns:\n",
    "                image_filename = imdir.format(image_info[a['image_id']]['file_name'])\n",
    "                aggregated_data.append([\n",
    "                    a['caption'], \n",
    "                    image_filename, \n",
    "                    (singlular_subj, singlular_obj, r),\n",
    "                    #tuple\n",
    "                ])\n",
    "            \n",
    "            break\n",
    "print(\"#unique tuples = \", len(set([d[-1] for d in aggregated_data])))\n"
   ]
  },
  {
   "cell_type": "code",
   "execution_count": 17,
   "metadata": {},
   "outputs": [
    {
     "name": "stdout",
     "output_type": "stream",
     "text": [
      "1929\n"
     ]
    }
   ],
   "source": [
    "print(len(aggregated_data))\n",
    "json.dump(aggregated_data, open(\n",
    "    \"../data/aggregated/vgr_nocaps_fb_both_complete.json\", \"w\"\n",
    "), indent=4)"
   ]
  },
  {
   "cell_type": "code",
   "execution_count": null,
   "metadata": {},
   "outputs": [],
   "source": []
  },
  {
   "cell_type": "markdown",
   "metadata": {},
   "source": [
    "### Draft"
   ]
  },
  {
   "cell_type": "code",
   "execution_count": 30,
   "metadata": {},
   "outputs": [
    {
     "name": "stdout",
     "output_type": "stream",
     "text": [
      "A bald fat white man sits in a chair in front of many other white men in politics¬ ['man', 'men', 'in front of']\n"
     ]
    },
    {
     "data": {
      "image/jpeg": "[encoded data removed]",
      "image/png": "[encoded data removed]",
      "text/plain": [
       "<PIL.Image.Image image mode=RGB size=32x32>"
      ]
     },
     "execution_count": 30,
     "metadata": {},
     "output_type": "execute_result"
    }
   ],
   "source": [
    "# check real_dataset loader\n",
    "from PIL import Image\n",
    "import random\n",
    "annotations = json.load(open(\"../data/aggregated/vgr_nocaps_fb_both_complete.json\", \"r\"))\n",
    "imdir = \"/data/yingshac/clevr_control/data/\"\n",
    "a = random.choice(annotations)\n",
    "print(a[0], a[-1])\n",
    "\n",
    "im = Image.open(os.path.join(imdir, a[1])).convert(\"RGB\").resize((32, 32))\n",
    "im"
   ]
  },
  {
   "cell_type": "code",
   "execution_count": 7,
   "metadata": {},
   "outputs": [],
   "source": [
    "from datasets import load_dataset\n",
    "\n",
    "dataset_name = \"huggan/smithsonian_butterflies_subset\"\n",
    "dataset = load_dataset(dataset_name, split=\"train\")"
   ]
  },
  {
   "cell_type": "code",
   "execution_count": 5,
   "metadata": {},
   "outputs": [
    {
     "data": {
      "text/plain": [
       "{'image_url': 'https://ids.si.edu/ids/deliveryService?id=ark:/65665/m3b302800a43ef46b8a7a87a7b1eb06ab6',\n",
       " 'image_alt': 'view Paper Kite digital asset number 1',\n",
       " 'id': 'ark:/65665/m3b302800a43ef46b8a7a87a7b1eb06ab6',\n",
       " 'name': 'Paper Kite',\n",
       " 'scientific_name': 'Idea leuconoe',\n",
       " 'gender': None,\n",
       " 'taxonomy': 'Animalia, Arthropoda, Hexapoda, Insecta, Lepidoptera, Nymphalidae',\n",
       " 'region': 'US Mid Atlantic (PA, NJ, MD, DE, DC, VA, WV)',\n",
       " 'locality': 'NMNH Butterfly Pavilion, North America, United States, District of Columbia',\n",
       " 'date': None,\n",
       " 'usnm_no': 'EO401041',\n",
       " 'guid': 'http://n2t.net/ark:/65665/35f90bc1d-2e3c-4798-a33c-611d7b358636',\n",
       " 'edan_url': 'edanmdm:nmnheducation_11038234',\n",
       " 'source': 'Smithsonian Education and Outreach collections',\n",
       " 'stage': None,\n",
       " 'image': <PIL.PngImagePlugin.PngImageFile image mode=RGB size=512x283>,\n",
       " 'image_hash': 'fb0b8749d437efc70a26e54212b3572c',\n",
       " 'sim_score': 0.8055200576782227}"
      ]
     },
     "execution_count": 5,
     "metadata": {},
     "output_type": "execute_result"
    }
   ],
   "source": [
    "dataset[0]"
   ]
  },
  {
   "cell_type": "code",
   "execution_count": 13,
   "metadata": {},
   "outputs": [
    {
     "data": {
      "image/jpeg": "[encoded data removed]",
      "image/png": "[encoded data removed]",
      "text/plain": [
       "<PIL.Image.Image image mode=RGB size=64x64>"
      ]
     },
     "execution_count": 13,
     "metadata": {},
     "output_type": "execute_result"
    }
   ],
   "source": [
    "from PIL import Image\n",
    "im = Image.open(\"/data/yingshac/clevr_control/data/vl_models_are_bows/images/2326912.jpg\").resize((64, 64))\n",
    "im"
   ]
  },
  {
   "cell_type": "code",
   "execution_count": null,
   "metadata": {},
   "outputs": [],
   "source": []
  }
 ],
 "metadata": {
  "kernelspec": {
   "display_name": "venv",
   "language": "python",
   "name": "venv"
  },
  "language_info": {
   "codemirror_mode": {
    "name": "ipython",
    "version": 3
   },
   "file_extension": ".py",
   "mimetype": "text/x-python",
   "name": "python",
   "nbconvert_exporter": "python",
   "pygments_lexer": "ipython3",
   "version": "3.8.10"
  }
 },
 "nbformat": 4,
 "nbformat_minor": 2
}
