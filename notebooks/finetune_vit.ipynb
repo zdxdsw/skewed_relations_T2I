{
 "cells": [
  {
   "cell_type": "code",
   "execution_count": 1,
   "metadata": {},
   "outputs": [],
   "source": [
    "import os, json, random\n",
    "os.environ[\"CUDA_VISIBLE_DEVICES\"] = \"1\"\n",
    "import torch.nn as nn\n",
    "import torch\n",
    "import torch.optim as optim\n",
    "from torch.utils.data import Dataset, DataLoader, random_split\n",
    "from PIL import Image\n",
    "from typing import Any, Dict, Optional, Tuple, Union, List\n",
    "from collections import Counter, defaultdict\n",
    "import numpy as np\n",
    "from tqdm import tqdm, trange\n",
    "from transformers import ViTForImageClassification\n",
    "import pytz\n",
    "from datetime import datetime\n",
    "timezone = pytz.timezone('America/New_York') "
   ]
  },
  {
   "cell_type": "code",
   "execution_count": 2,
   "metadata": {},
   "outputs": [],
   "source": [
    "PATH = \"<largefiles_dir>/skewed_relations_T2I/\", # [Important]: update this to the correct path"
   ]
  },
  {
   "cell_type": "code",
   "execution_count": 3,
   "metadata": {},
   "outputs": [
    {
     "name": "stderr",
     "output_type": "stream",
     "text": [
      "/tmp/ipykernel_3924994/3253253806.py:6: FutureWarning: load_metric is deprecated and will be removed in the next major version of datasets. Use 'evaluate.load' instead, from the new library 🤗 Evaluate: https://huggingface.co/docs/evaluate\n",
      "  metric = load_metric(\"accuracy\")\n"
     ]
    }
   ],
   "source": [
    "from transformers import ViTImageProcessor\n",
    "model_name_or_path = 'google/vit-base-patch16-224-in21k'\n",
    "processor = ViTImageProcessor.from_pretrained(model_name_or_path)\n",
    "\n",
    "from datasets import load_metric\n",
    "metric = load_metric(\"accuracy\")\n"
   ]
  },
  {
   "cell_type": "code",
   "execution_count": 4,
   "metadata": {},
   "outputs": [],
   "source": [
    "def get_acc(output, gth, verbose=False):\n",
    "    output, gth = output.detach().cpu(), gth.detach().cpu()\n",
    "    if verbose:\n",
    "        print(\"pred = \", np.argmax(output, axis=1))\n",
    "        print(\"gth  = \", gth)\n",
    "    return metric.compute(predictions=np.argmax(output, axis=1), references=gth)['accuracy'], np.argmax(output, axis=1)\n",
    "\n",
    "def collate_fn(batch):\n",
    "    inputs = {}\n",
    "    inputs['pixel_values'] = processor([x['image'] for x in batch], return_tensors='pt')['pixel_values']\n",
    "    inputs['label'] = torch.LongTensor([x['label'] for x in batch])\n",
    "    return inputs"
   ]
  },
  {
   "cell_type": "markdown",
   "metadata": {},
   "source": [
    "### Finetune ViT"
   ]
  },
  {
   "cell_type": "code",
   "execution_count": 5,
   "metadata": {},
   "outputs": [],
   "source": [
    "class dataset(Dataset):\n",
    "    def __init__(self,\n",
    "                 classes: List[str], # used to define class_ids, order matters\n",
    "                 imdir: str,\n",
    "                 data: List,\n",
    "                 imsize = 64,\n",
    "                 ):\n",
    "        super().__init__()\n",
    "        self.imdir = imdir\n",
    "        self.data = data ## should be a list of tuples, e.g. (text, image, (mug, cup, left of))\n",
    "        self.imsize = imsize\n",
    "\n",
    "        #self.classes = classes\n",
    "        self.classes = [\"empty\"]+classes\n",
    "        self.n2i = {n:i for i, n in enumerate(self.classes)}\n",
    "\n",
    "    def __len__(self): return len(self.data)*2\n",
    "    \n",
    "    def __getitem__(self, i): \n",
    "        text, image_path, tuple = self.data[i//2]\n",
    "\n",
    "        # center crop to a square, then resize\n",
    "        image = Image.open(os.path.join(self.imdir, image_path))\n",
    "        width, height = image.size\n",
    "        new_dimension = min(image.size)\n",
    "        left = (width - new_dimension)/2\n",
    "        top = (height - new_dimension)/2\n",
    "        right = (width + new_dimension)/2\n",
    "        bottom = (height + new_dimension)/2\n",
    "        image = image.crop((left, top, right, bottom)).resize((self.imsize, self.imsize))\n",
    "        \n",
    "        H, W = self.imsize, self.imsize\n",
    "\n",
    "        if tuple[-1] in ['left of', 'right of']:\n",
    "            crop1 = image.crop((0, H//4, W//2, 3*H//4))\n",
    "            crop2 = image.crop((W//2, H//4, W, 3*H//4))\n",
    "\n",
    "            crop3 = image.crop((W//4, 0, 3*W//4, H//2))\n",
    "            crop4 = image.crop((W//4, H//2, 3*W//4, H))\n",
    "        else:\n",
    "            crop1 = image.crop((W//4, 0, 3*W//4, H//2))\n",
    "            crop2 = image.crop((W//4, H//2, 3*W//4, H))\n",
    "\n",
    "            crop3 = image.crop((0, H//4, W//2, 3*H//4))\n",
    "            crop4 = image.crop((W//2, H//4, W, 3*H//4))\n",
    "\n",
    "        f1, f2 = self.n2i[tuple[0]], self.n2i[tuple[1]]\n",
    "        if tuple[-1] in ['right of', 'in-front of']:\n",
    "            f1, f2 = f2, f1\n",
    "        f3, f4 = 0, 0\n",
    "        image = [crop1, crop2, crop3, crop4][i%4]\n",
    "        label = [f1, f2, f3, f4][i%4]\n",
    "\n",
    "        \"\"\"\n",
    "        dataset return\n",
    "        {\n",
    "            \"image\": pilimage,\n",
    "            \"labels\": int\n",
    "        }\n",
    "        \"\"\"\n",
    "        # res = {\n",
    "        #     \"sentence\": text,\n",
    "        #     'image': crop2 if i%2 else crop1,\n",
    "        #     'label': f2 if i%2 else f1,\n",
    "        # }\n",
    "        res = {\n",
    "            \"sentence\": text,\n",
    "            'image': image,\n",
    "            'label': label,\n",
    "        }\n",
    "        return res\n"
   ]
  },
  {
   "cell_type": "code",
   "execution_count": 6,
   "metadata": {},
   "outputs": [
    {
     "name": "stdout",
     "output_type": "stream",
     "text": [
      "['book', 'bowl', 'can', 'cap', 'cup', 'mug', 'plate', 'candle', 'flower', 'fork', 'headphones', 'knife', 'scissors', 'spoon', 'tape']\n",
      "554 training examples, 62 testing examples\n"
     ]
    }
   ],
   "source": [
    "J = json.load(open(\"../data/aggregated/whatsup_vlm_b.json\", \"r\"))\n",
    "annotations = []\n",
    "for a in J:\n",
    "    if a[-1][0] in [\"sunglasses\", \"remote\", \"phone\"] or a[-1][1] in [\"sunglasses\", \"remote\", \"phone\"]: continue\n",
    "    else: annotations.append(a)\n",
    "occurrences = [a[-1][0] for a in annotations] + [a[-1][1] for a in annotations]\n",
    "c = Counter(occurrences)\n",
    "\n",
    "classes = sorted(c.keys(), key=lambda x: (-c[x], x))\n",
    "\n",
    "print(classes)\n",
    "# Each whatsup image contains two objects. \n",
    "# We will resize the image to 64x64, and take two 32x32 single-obj crops\n",
    "D = dataset(\n",
    "    classes, \n",
    "    imdir = os.path.join(PATH, \"data\"),\n",
    "    data = annotations,\n",
    "    imsize=64 \n",
    ")\n",
    "\n",
    "train_ratio = 0.9\n",
    "train_num = int(train_ratio*len(D))\n",
    "val_num = len(D) - train_num\n",
    "train_data, val_data = random_split(D, [train_num, val_num])\n",
    "print(f\"{len(train_data)} training examples, {len(val_data)} testing examples\")"
   ]
  },
  {
   "cell_type": "code",
   "execution_count": 7,
   "metadata": {},
   "outputs": [],
   "source": [
    "def train(net, dataloader, optimizer, criterion, device):\n",
    "    net.train()\n",
    "    running_loss, running_acc = [], []\n",
    "    for batch in tqdm(dataloader):\n",
    "        # zero the parameter gradients\n",
    "        optimizer.zero_grad()\n",
    "\n",
    "        # forward + backward + optimize\n",
    "        bs = len(batch['pixel_values'])\n",
    "        outputs = net(batch['pixel_values'].to(device))['logits']# (bs, outputs_per_sample*num_classes)\n",
    "\n",
    "        labels = batch['label'].to(device)\n",
    "\n",
    "        loss = criterion(outputs, labels)\n",
    "        acc, _ = get_acc(outputs, labels)\n",
    "\n",
    "        loss.backward()\n",
    "        optimizer.step()\n",
    "\n",
    "        # print statistics\n",
    "        running_loss.append(loss.item())\n",
    "        #print(acc)\n",
    "        running_acc.append(acc)\n",
    "    return np.mean(running_loss), np.mean(running_acc)\n",
    "\n",
    "def val(net, dataloader, criterion, device, verbose):\n",
    "    net.eval()\n",
    "    epoch_loss, epoch_acc = [], []\n",
    "\n",
    "    with torch.no_grad():\n",
    "        for batch in dataloader:\n",
    "            bs = len(batch['pixel_values'])\n",
    "            outputs = net(batch['pixel_values'].to(device))['logits'] # (bs, outputs_per_sample*num_classes)\n",
    "\n",
    "            labels = batch['label'].to(device)\n",
    "\n",
    "            loss = criterion(outputs, labels)\n",
    "            acc, _ = get_acc(outputs, labels, verbose=verbose)\n",
    "\n",
    "            # print statistics\n",
    "            epoch_loss.append(loss.item())\n",
    "            epoch_acc.append(acc)\n",
    "        \n",
    "    return np.mean(epoch_loss), np.mean(epoch_acc)"
   ]
  },
  {
   "cell_type": "code",
   "execution_count": 8,
   "metadata": {},
   "outputs": [
    {
     "name": "stderr",
     "output_type": "stream",
     "text": [
      "Some weights of ViTForImageClassification were not initialized from the model checkpoint at google/vit-base-patch16-224-in21k and are newly initialized: ['classifier.bias', 'classifier.weight']\n",
      "You should probably TRAIN this model on a down-stream task to be able to use it for predictions and inference.\n"
     ]
    },
    {
     "name": "stdout",
     "output_type": "stream",
     "text": [
      "\n"
     ]
    }
   ],
   "source": [
    "labels = D.classes\n",
    "\n",
    "model = ViTForImageClassification.from_pretrained(\n",
    "    model_name_or_path,\n",
    "    num_labels=len(labels),\n",
    "    id2label={str(i): c for i, c in enumerate(labels)},\n",
    "    label2id={c: str(i) for i, c in enumerate(labels)}\n",
    ")\n",
    "device = \"cuda\"\n",
    "model.to(device)\n",
    "print()"
   ]
  },
  {
   "cell_type": "code",
   "execution_count": 9,
   "metadata": {},
   "outputs": [
    {
     "name": "stdout",
     "output_type": "stream",
     "text": [
      "['empty', 'book', 'bowl', 'can', 'cap', 'cup', 'mug', 'plate', 'candle', 'flower', 'fork', 'headphones', 'knife', 'scissors', 'spoon', 'tape']\n"
     ]
    }
   ],
   "source": [
    "print(labels)"
   ]
  },
  {
   "cell_type": "code",
   "execution_count": 10,
   "metadata": {},
   "outputs": [],
   "source": [
    "batch_size=16\n",
    "trainloader = torch.utils.data.DataLoader(train_data, batch_size=batch_size, shuffle=True, collate_fn=collate_fn, num_workers=2)\n",
    "testloader = torch.utils.data.DataLoader(val_data, batch_size=batch_size, shuffle=False, collate_fn=collate_fn, num_workers=2)\n",
    "criterion = nn.CrossEntropyLoss().to(device)\n",
    "optimizer = optim.Adam(model.parameters(), lr=2e-4) #, momentum=0.9)"
   ]
  },
  {
   "cell_type": "code",
   "execution_count": 11,
   "metadata": {},
   "outputs": [
    {
     "name": "stdout",
     "output_type": "stream",
     "text": [
      "pilimage image size from dataset.__getitem__():  (32, 32)\n"
     ]
    },
    {
     "name": "stdout",
     "output_type": "stream",
     "text": [
      "image tensor size after processor torch.Size([16, 3, 224, 224])\n"
     ]
    }
   ],
   "source": [
    "print(\"pilimage image size from dataset.__getitem__(): \", train_data[0]['image'].size)\n",
    "batch = next(iter(trainloader))\n",
    "print(\"image tensor size after processor\", batch['pixel_values'].size())"
   ]
  },
  {
   "cell_type": "code",
   "execution_count": 12,
   "metadata": {},
   "outputs": [
    {
     "name": "stdout",
     "output_type": "stream",
     "text": [
      "num_classes =  16\n"
     ]
    },
    {
     "name": "stderr",
     "output_type": "stream",
     "text": [
      "100%|██████████| 35/35 [00:08<00:00,  4.30it/s]\n"
     ]
    },
    {
     "name": "stdout",
     "output_type": "stream",
     "text": [
      "Epoch: 01\n",
      "\tTrain Loss: 1.434 | Train Acc: 66.14%\n",
      "\t Val. Loss: 0.672 |  Val. Acc: 93.75%\n"
     ]
    },
    {
     "name": "stderr",
     "output_type": "stream",
     "text": [
      "100%|██████████| 35/35 [00:06<00:00,  5.45it/s]\n"
     ]
    },
    {
     "name": "stdout",
     "output_type": "stream",
     "text": [
      "Epoch: 02\n",
      "\tTrain Loss: 0.462 | Train Acc: 96.96%\n",
      "\t Val. Loss: 0.374 |  Val. Acc: 98.44%\n"
     ]
    },
    {
     "name": "stderr",
     "output_type": "stream",
     "text": [
      " 26%|██▌       | 9/35 [00:02<00:06,  3.95it/s]\n"
     ]
    },
    {
     "ename": "KeyboardInterrupt",
     "evalue": "",
     "output_type": "error",
     "traceback": [
      "\u001b[0;31m---------------------------------------------------------------------------\u001b[0m",
      "\u001b[0;31mKeyboardInterrupt\u001b[0m                         Traceback (most recent call last)",
      "Cell \u001b[0;32mIn[12], line 10\u001b[0m\n\u001b[1;32m      7\u001b[0m date \u001b[38;5;241m=\u001b[39m datetime\u001b[38;5;241m.\u001b[39mnow(timezone)\u001b[38;5;241m.\u001b[39mstrftime(\u001b[38;5;124m\"\u001b[39m\u001b[38;5;124m%\u001b[39m\u001b[38;5;124mm\u001b[39m\u001b[38;5;132;01m%d\u001b[39;00m\u001b[38;5;124m_\u001b[39m\u001b[38;5;124m%\u001b[39m\u001b[38;5;124mH\u001b[39m\u001b[38;5;124m%\u001b[39m\u001b[38;5;124mM\u001b[39m\u001b[38;5;124m%\u001b[39m\u001b[38;5;124mS\u001b[39m\u001b[38;5;124m\"\u001b[39m)\n\u001b[1;32m      8\u001b[0m \u001b[38;5;28;01mfor\u001b[39;00m epc \u001b[38;5;129;01min\u001b[39;00m \u001b[38;5;28mrange\u001b[39m(\u001b[38;5;241m10\u001b[39m):\n\u001b[0;32m---> 10\u001b[0m     train_loss, train_acc \u001b[38;5;241m=\u001b[39m \u001b[43mtrain\u001b[49m\u001b[43m(\u001b[49m\u001b[43mmodel\u001b[49m\u001b[43m,\u001b[49m\u001b[43m \u001b[49m\u001b[43mtrainloader\u001b[49m\u001b[43m,\u001b[49m\u001b[43m \u001b[49m\u001b[43moptimizer\u001b[49m\u001b[43m,\u001b[49m\u001b[43m \u001b[49m\u001b[43mcriterion\u001b[49m\u001b[43m,\u001b[49m\u001b[43m \u001b[49m\u001b[43mdevice\u001b[49m\u001b[43m)\u001b[49m\n\u001b[1;32m     11\u001b[0m     val_loss, val_acc \u001b[38;5;241m=\u001b[39m val(model, testloader, criterion, device, verbose)\n\u001b[1;32m     13\u001b[0m     \u001b[38;5;28;01mif\u001b[39;00m val_acc \u001b[38;5;241m>\u001b[39m\u001b[38;5;241m=\u001b[39m best_val_acc:\n",
      "Cell \u001b[0;32mIn[7], line 21\u001b[0m, in \u001b[0;36mtrain\u001b[0;34m(net, dataloader, optimizer, criterion, device)\u001b[0m\n\u001b[1;32m     18\u001b[0m optimizer\u001b[38;5;241m.\u001b[39mstep()\n\u001b[1;32m     20\u001b[0m \u001b[38;5;66;03m# print statistics\u001b[39;00m\n\u001b[0;32m---> 21\u001b[0m running_loss\u001b[38;5;241m.\u001b[39mappend(\u001b[43mloss\u001b[49m\u001b[38;5;241;43m.\u001b[39;49m\u001b[43mitem\u001b[49m\u001b[43m(\u001b[49m\u001b[43m)\u001b[49m)\n\u001b[1;32m     22\u001b[0m \u001b[38;5;66;03m#print(acc)\u001b[39;00m\n\u001b[1;32m     23\u001b[0m running_acc\u001b[38;5;241m.\u001b[39mappend(acc)\n",
      "\u001b[0;31mKeyboardInterrupt\u001b[0m: "
     ]
    }
   ],
   "source": [
    "best_val_loss = float('inf')\n",
    "best_val_acc = 0.0\n",
    "verbose=False\n",
    "print(\"num_classes = \", len(labels))\n",
    "\n",
    "save_to_dir = os.path.join(PATH, \"autoeval\")\n",
    "date = datetime.now(timezone).strftime(\"%m%d_%H%M%S\")\n",
    "for epc in range(10):\n",
    "\n",
    "    train_loss, train_acc = train(model, trainloader, optimizer, criterion, device)\n",
    "    val_loss, val_acc = val(model, testloader, criterion, device, verbose)\n",
    "\n",
    "    if val_acc >= best_val_acc:\n",
    "        best_val_acc = val_acc\n",
    "        torch.save(model.state_dict(), os.path.join(save_to_dir, \"{}_{}.pt\".format(model_name_or_path.split(\"/\")[-1], date)))\n",
    "    \n",
    "    print(f'Epoch: {epc+1:02}')\n",
    "    print(f'\\tTrain Loss: {train_loss:.3f} | Train Acc: {train_acc*100:.2f}%')\n",
    "    print(f'\\t Val. Loss: {val_loss:.3f} |  Val. Acc: {val_acc*100:.2f}%')\n",
    "    \n",
    "print(\"Training: finish\\n\")\n",
    "\n"
   ]
  },
  {
   "cell_type": "markdown",
   "metadata": {},
   "source": [
    "### Test Finetuned ViT on Generated Samples (singleobj)"
   ]
  },
  {
   "cell_type": "code",
   "execution_count": 14,
   "metadata": {},
   "outputs": [],
   "source": [
    "#18 objs in original whatsup dataset (plus 'empty')\n",
    "#classes = ['empty', 'mug', 'plate', 'book', 'bowl', 'can', 'cap', 'cup', 'remote', 'sunglasses', \n",
    "#          'tape', 'candle', 'flower', 'fork', 'headphones', 'scissors', 'spoon', 'knife', 'phone']\n",
    "\n",
    "#15 objs (plus 'empty') after removing sunglasses, remote, phone\n",
    "classes = ['empty', 'book', 'bowl', 'can', 'cap', 'cup', 'mug', 'plate', 'candle', 'flower', 'fork', 'headphones', 'knife', 'scissors', 'spoon', 'tape']\n",
    "\n",
    "n2i = {n:i for i, n in enumerate(classes)}\n",
    "device = \"cuda\"\n",
    "ckpt_dir = os.path.join(PATH, \"autoeval/vit-base-patch16-224-in21k_0311_211459.pt\")"
   ]
  },
  {
   "cell_type": "code",
   "execution_count": 15,
   "metadata": {},
   "outputs": [
    {
     "name": "stdout",
     "output_type": "stream",
     "text": [
      "17 17\n",
      "34 34\n",
      "51 51\n",
      "68 68\n",
      "85 85\n",
      "102 102\n",
      "119 119\n",
      "136 136\n",
      "153 153\n",
      "170 170\n",
      "187 187\n",
      "resolution of generated images:  (32, 32)\n"
     ]
    }
   ],
   "source": [
    "handle = \"0304_002415\" #\"0514_083120\"\n",
    "whichset=\"test\"\n",
    "output_folder=\"output\" #output_rbt\"\n",
    "sample_dir = f\"../scripts/diffuser_real/{output_folder}/{handle}/samples\"\n",
    "\n",
    "# Load samples saved during training (from epoch 0 to completion)\n",
    "\n",
    "imsize = 32 #128\n",
    "\n",
    "pilimages, gth_captions = [], []\n",
    "for f in os.listdir(sample_dir):\n",
    "    if \".txt\" in f: continue\n",
    "    im = Image.open(f\"{sample_dir}/{f}\")\n",
    "    W, H = im.size\n",
    "    nrows, ncols = H//imsize, W//imsize\n",
    "    captions_file = f.replace(\".png\", \".txt\")\n",
    "    with open(f\"{sample_dir}/{captions_file}\", \"r\") as captions:\n",
    "        tmp_captions = [x.strip() for x in captions.readlines()]\n",
    "    tmp_pilimages = []\n",
    "    for r in range(nrows):\n",
    "        for c in range(ncols):\n",
    "            left, top = c*imsize, r*imsize\n",
    "            right, bottom = left+imsize, top+imsize\n",
    "            pilimage = im.crop((left, top, right, bottom))\n",
    "            if np.sum(pilimage) == 255*3*imsize*imsize: continue # skip placeholders which are purely white images\n",
    "            tmp_pilimages.append(pilimage)\n",
    "    for x, pilimage in zip(tmp_captions, tmp_pilimages):\n",
    "        if all([k not in x.split() for k in [\"sunglasses\", \"remote\", \"phone\"]]):\n",
    "            gth_captions.append(x)\n",
    "            pilimages.append(pilimage)\n",
    "    print(len(pilimages), len(gth_captions))\n",
    "print(\"resolution of generated images: \", pilimages[0].size)"
   ]
  },
  {
   "cell_type": "code",
   "execution_count": 16,
   "metadata": {},
   "outputs": [
    {
     "name": "stderr",
     "output_type": "stream",
     "text": [
      "Some weights of ViTForImageClassification were not initialized from the model checkpoint at google/vit-base-patch16-224-in21k and are newly initialized: ['classifier.bias', 'classifier.weight']\n",
      "You should probably TRAIN this model on a down-stream task to be able to use it for predictions and inference.\n"
     ]
    },
    {
     "name": "stdout",
     "output_type": "stream",
     "text": [
      "\n"
     ]
    }
   ],
   "source": [
    "model = ViTForImageClassification.from_pretrained(\n",
    "    model_name_or_path,\n",
    "    num_labels=len(classes),\n",
    "    id2label={str(i): c for i, c in enumerate(classes)},\n",
    "    label2id={c: str(i) for i, c in enumerate(classes)}\n",
    ")\n",
    "\n",
    "state_dict = torch.load(ckpt_dir, map_location=device)\n",
    "model.load_state_dict(state_dict)\n",
    "model.to(device)\n",
    "print()"
   ]
  },
  {
   "cell_type": "code",
   "execution_count": 17,
   "metadata": {},
   "outputs": [],
   "source": [
    "ACC = []\n",
    "gth_labels, vit_pred = [], []\n",
    "eval_batch_size = 18\n",
    "outer_batch = []\n",
    "dataiter = iter(zip(pilimages, gth_captions))\n",
    "\n",
    "while True:\n",
    "    try:\n",
    "        image, text = next(dataiter)\n",
    "        if any([k == text.split()[-1] for k in [\"sunglasses\", \"remote\", \"phone\"]]): continue\n",
    "        outer_batch.append({\n",
    "            \"image\": image,\n",
    "            \"label\": n2i[text.split()[-1]]\n",
    "        })\n",
    "        if len(outer_batch) == eval_batch_size:\n",
    "            input_batch = collate_fn(outer_batch)\n",
    "            labels = input_batch['label'].to(device)\n",
    "            outputs = model(input_batch['pixel_values'].to(device))['logits']\n",
    "\n",
    "            for b in range(eval_batch_size):\n",
    "                acc, pred = get_acc(outputs[b:b+1], labels[b:b+1], False)\n",
    "                ACC.append(acc)\n",
    "                vit_pred.append(pred.item())\n",
    "                gth_labels.append(labels[b])\n",
    "            outer_batch = []\n",
    "    except StopIteration:\n",
    "        if len(outer_batch):\n",
    "            input_batch = collate_fn(outer_batch)\n",
    "            labels = input_batch['label'].to(device)\n",
    "            outputs = model(input_batch['pixel_values'].to(device))['logits']\n",
    "            for b in range(len(outer_batch)):\n",
    "                acc, pred = get_acc(outputs[b:b+1], labels[b:b+1], False)\n",
    "                ACC.append(acc)\n",
    "                vit_pred.append(pred.item())\n",
    "                gth_labels.append(labels[b])\n",
    "        break\n",
    "\n",
    "\n",
    "    "
   ]
  },
  {
   "cell_type": "code",
   "execution_count": 18,
   "metadata": {},
   "outputs": [
    {
     "name": "stdout",
     "output_type": "stream",
     "text": [
      "187\n",
      "ACC autoevaluated by ViT:  0.877\n"
     ]
    }
   ],
   "source": [
    "print(len(ACC))\n",
    "print(\"ACC autoevaluated by ViT: \", round(np.mean(ACC), 4))"
   ]
  },
  {
   "cell_type": "code",
   "execution_count": 25,
   "metadata": {},
   "outputs": [
    {
     "name": "stdout",
     "output_type": "stream",
     "text": [
      "Text prompt: an image of a spoon\n",
      "Score judged by ViT:  0.0\n",
      "Generated objs judged by ViT: <knife>\n",
      "i =  132\n"
     ]
    },
    {
     "data": {
      "image/jpeg": "[encoded data removed]",
      "image/png": "[encoded data removed]",
      "text/plain": [
       "<PIL.Image.Image image mode=RGB size=32x32>"
      ]
     },
     "execution_count": 25,
     "metadata": {},
     "output_type": "execute_result"
    }
   ],
   "source": [
    "# Visualize imperfect generations \n",
    "while True:\n",
    "    i = random.choice(list(range(len(pilimages))))\n",
    "    if ACC[i] < 1:\n",
    "        print(\"Text prompt:\", gth_captions[i])\n",
    "        print(\"Score judged by ViT: \", ACC[i])\n",
    "        f = vit_pred[i]\n",
    "        print(f\"Generated objs judged by ViT: <{classes[f]}>\")\n",
    "        break\n",
    "print(\"i = \", i)\n",
    "pilimages[i]"
   ]
  },
  {
   "cell_type": "markdown",
   "metadata": {},
   "source": [
    "### Test Finetuned ViT on Generated Samples (two objects)"
   ]
  },
  {
   "cell_type": "code",
   "execution_count": 26,
   "metadata": {},
   "outputs": [],
   "source": [
    "#18 objs in original whatsup dataset:\n",
    "#classes = ['empty', 'mug', 'plate', 'book', 'bowl', 'can', 'cap', 'cup', 'remote', 'sunglasses', \n",
    "#          'tape', 'candle', 'flower', 'fork', 'headphones', 'scissors', 'spoon', 'knife', 'phone']\n",
    "\n",
    "#15 objs after removing sunglasses, remote, phone\n",
    "classes = ['empty', 'book', 'bowl', 'can', 'cap', 'cup', 'mug', 'plate', 'candle', 'flower', 'fork', 'headphones', 'knife', 'scissors', 'spoon', 'tape']\n",
    "n2i = {n:i for i, n in enumerate(classes)}\n",
    "device = \"cuda\"\n",
    "ckpt_dir = os.path.join(PATH, \"autoeval/vit-base-patch16-224-in21k_0311_211459.pt\")"
   ]
  },
  {
   "cell_type": "code",
   "execution_count": 27,
   "metadata": {},
   "outputs": [],
   "source": [
    "def process_gen_sample(pilimage, gth_caption, whichset):\n",
    "    W, H = pilimage.size\n",
    "    if W==H: \n",
    "        crop1 = pilimage.crop((W//4, 0, 3*W//4, H//2)) # behind\n",
    "        crop2 = pilimage.crop((W//4, H//2, 3*W//4, H)) # front\n",
    "        crop3 = pilimage.crop((0, H//4, W//2, 3*H//4)) # left\n",
    "        crop4 = pilimage.crop((W//2, H//4, W, 3*H//4)) # right\n",
    "    elif W == 2*H:\n",
    "        crop3 = pilimage.crop((0, 0, W//2, H)) # left\n",
    "        crop4 = pilimage.crop((W//2, 0, W, H)) # right\n",
    "    elif H == 2*W:\n",
    "        crop1 = pilimage.crop((0, 0, W, H//2)) # behind\n",
    "        crop2 = pilimage.crop((0, H//2, W, H)) # front\n",
    "        \n",
    "    tmp = gth_caption.split()\n",
    "    if whichset == \"train\":\n",
    "        f1, f2 = tmp[1], tmp[-1]\n",
    "        r = \" \".join(tmp[2:-2])\n",
    "    elif whichset == \"test\":\n",
    "        f1, f2 = tmp[0], tmp[-1]\n",
    "        r = \" \".join(tmp[1:-1])\n",
    "    else: raise ValueError(f\"Invalid whichset: {whichset}\")\n",
    "    T = (f1, f2, r)\n",
    "\n",
    "    if \"left of\" in r: labels, crops = [n2i[f1], n2i[f2]], [crop3, crop4]\n",
    "    elif \"right of\" in r: labels, crops = [n2i[f2], n2i[f1]], [crop3, crop4]\n",
    "    elif \"in-front of\" in r: labels, crops = [n2i[f2], n2i[f1]], [crop1, crop2]\n",
    "    elif \"behind\" in r: labels, crops = [n2i[f1], n2i[f2]], [crop1, crop2]\n",
    "    else: raise ValueError(f\"Invalid relation: {r}\")\n",
    "    \n",
    "    return [{\n",
    "        \"image\": crop,\n",
    "        \"label\": label,\n",
    "    } for crop, label in zip(crops, labels)], T"
   ]
  },
  {
   "cell_type": "code",
   "execution_count": 28,
   "metadata": {},
   "outputs": [
    {
     "name": "stdout",
     "output_type": "stream",
     "text": [
      "20 20\n",
      "40 40\n",
      "60 60\n",
      "80 80\n",
      "100 100\n"
     ]
    }
   ],
   "source": [
    "handle = \"0304_235058\"\n",
    "whichset=\"train\"\n",
    "sample_dir = f\"../scripts/diffuser_real/output/{handle}/samples\"\n",
    "\n",
    "# Load samples saved during training (from epoch 0 to completion)\n",
    "\n",
    "imsize_h, imsize_w = 32, 64\n",
    "\n",
    "pilimages, gth_captions = [], []\n",
    "\n",
    "for f in os.listdir(sample_dir):\n",
    "    if \".txt\" in f: continue\n",
    "    im = Image.open(f\"{sample_dir}/{f}\")\n",
    "    W, H = im.size\n",
    "    nrows, ncols = H//imsize_h, W//imsize_w\n",
    "    captions_file = f.replace(\".png\", \".txt\")\n",
    "    with open(f\"{sample_dir}/{captions_file}\", \"r\") as captions:\n",
    "        gth_captions.extend([x.strip() for x in captions.readlines()])\n",
    "    for r in range(nrows):\n",
    "        for c in range(ncols):\n",
    "            left, top = c*imsize_w, r*imsize_h\n",
    "            right, bottom = left+imsize_w, top+imsize_h\n",
    "            pilimage = im.crop((left, top, right, bottom))\n",
    "            if np.sum(pilimage) == 255*3*imsize_h*imsize_w: continue # skip placeholders which are purely white images\n",
    "            pilimages.append(pilimage)\n",
    "    print(len(pilimages), len(gth_captions))"
   ]
  },
  {
   "cell_type": "code",
   "execution_count": 29,
   "metadata": {},
   "outputs": [
    {
     "name": "stderr",
     "output_type": "stream",
     "text": [
      "Some weights of ViTForImageClassification were not initialized from the model checkpoint at google/vit-base-patch16-224-in21k and are newly initialized: ['classifier.bias', 'classifier.weight']\n",
      "You should probably TRAIN this model on a down-stream task to be able to use it for predictions and inference.\n"
     ]
    },
    {
     "name": "stdout",
     "output_type": "stream",
     "text": [
      "\n"
     ]
    }
   ],
   "source": [
    "model = ViTForImageClassification.from_pretrained(\n",
    "    model_name_or_path,\n",
    "    num_labels=len(classes),\n",
    "    id2label={str(i): c for i, c in enumerate(classes)},\n",
    "    label2id={c: str(i) for i, c in enumerate(classes)}\n",
    ")\n",
    "\n",
    "state_dict = torch.load(ckpt_dir, map_location=device)\n",
    "model.load_state_dict(state_dict)\n",
    "model.to(device)\n",
    "print()"
   ]
  },
  {
   "cell_type": "code",
   "execution_count": 30,
   "metadata": {},
   "outputs": [],
   "source": [
    "ACC = []\n",
    "vit_pred = []\n",
    "eval_batch_size = 16\n",
    "outer_batch = []\n",
    "dataiter = iter(zip(pilimages, gth_captions))\n",
    "\n",
    "while True:\n",
    "    try:\n",
    "        image, text = next(dataiter)\n",
    "        batch, T = process_gen_sample(image, text, whichset)\n",
    "        outer_batch.extend(batch)\n",
    "        if len(outer_batch) == 2*eval_batch_size:\n",
    "            input_batch = collate_fn(outer_batch)\n",
    "            labels = input_batch['label'].to(device)\n",
    "            outputs = model(input_batch['pixel_values'].to(device))['logits']\n",
    "\n",
    "            for b in range(eval_batch_size):\n",
    "                acc, pred = get_acc(outputs[2*b:2*b+2], labels[2*b:2*b+2], False)\n",
    "                ACC.append(acc)\n",
    "                vit_pred.append(pred)\n",
    "            outer_batch = []\n",
    "    except StopIteration:\n",
    "        if len(outer_batch):\n",
    "            input_batch = collate_fn(outer_batch)\n",
    "            labels = input_batch['label'].to(device)\n",
    "            outputs = model(input_batch['pixel_values'].to(device))['logits']\n",
    "            for b in range(len(outer_batch)//2):\n",
    "                acc, pred = get_acc(outputs[2*b:2*b+2], labels[2*b:2*b+2], False)\n",
    "                ACC.append(acc)\n",
    "                vit_pred.append(pred)\n",
    "        break\n",
    "\n",
    "\n",
    "    "
   ]
  },
  {
   "cell_type": "code",
   "execution_count": 31,
   "metadata": {},
   "outputs": [
    {
     "name": "stdout",
     "output_type": "stream",
     "text": [
      "100\n",
      "0.765\n",
      "ACC autoevaluated by ViT:  0.69\n"
     ]
    }
   ],
   "source": [
    "print(len(ACC))\n",
    "print(np.mean(ACC))\n",
    "print(\"ACC autoevaluated by ViT: \", np.mean([a==1 for a in ACC]))"
   ]
  },
  {
   "cell_type": "code",
   "execution_count": 33,
   "metadata": {},
   "outputs": [
    {
     "name": "stdout",
     "output_type": "stream",
     "text": [
      "Text prompt: A can to the left of a fork\n",
      "Score judged by ViT:  0.5\n",
      "Generated objs judged by ViT: <fork> on the left, <fork> on the right\n",
      "i =  28\n"
     ]
    },
    {
     "data": {
      "image/jpeg": "[encoded data removed]",
      "image/png": "[encoded data removed]",
      "text/plain": [
       "<PIL.Image.Image image mode=RGB size=64x32>"
      ]
     },
     "execution_count": 33,
     "metadata": {},
     "output_type": "execute_result"
    }
   ],
   "source": [
    "# Visualize imperfect generations \n",
    "while True:\n",
    "    i = random.choice(list(range(len(pilimages))))\n",
    "    if ACC[i] < 1:\n",
    "        print(\"Text prompt:\", gth_captions[i])\n",
    "        print(\"Score judged by ViT: \", ACC[i])\n",
    "        f1, f2 = vit_pred[i]\n",
    "        print(f\"Generated objs judged by ViT: <{classes[f1]}> on the left, <{classes[f2]}> on the right\")\n",
    "        break\n",
    "print(\"i = \", i)\n",
    "pilimages[i]"
   ]
  },
  {
   "cell_type": "code",
   "execution_count": null,
   "metadata": {},
   "outputs": [],
   "source": []
  }
 ],
 "metadata": {
  "kernelspec": {
   "display_name": "venv",
   "language": "python",
   "name": "venv"
  },
  "language_info": {
   "codemirror_mode": {
    "name": "ipython",
    "version": 3
   },
   "file_extension": ".py",
   "mimetype": "text/x-python",
   "name": "python",
   "nbconvert_exporter": "python",
   "pygments_lexer": "ipython3",
   "version": "3.8.10"
  }
 },
 "nbformat": 4,
 "nbformat_minor": 2
}
