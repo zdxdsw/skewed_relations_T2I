{
 "cells": [
  {
   "cell_type": "code",
   "execution_count": 2,
   "metadata": {},
   "outputs": [],
   "source": [
    "import os, sys, json, re, random\n",
    "from tqdm import tqdm \n",
    "import pandas as pd"
   ]
  },
  {
   "cell_type": "code",
   "execution_count": 86,
   "metadata": {},
   "outputs": [
    {
     "name": "stdout",
     "output_type": "stream",
     "text": [
      "76\n"
     ]
    }
   ],
   "source": [
    "handles_in_sheets = []\n",
    "for sheet in sorted(os.listdir(\"/home/yingshac/workspace/clevr_control/data/sheets_icons_tidy\")):\n",
    "    header = int(\"_latent\" in sheet) # use the second row as header for whatsup_results_latent.csv\n",
    "    if \"whatsup_results\" in sheet:\n",
    "        df = pd.read_csv(f\"/home/yingshac/workspace/clevr_control/data/sheets_icons_tidy/{sheet}\", header=header)\n",
    "        for n in df.columns.to_list():\n",
    "            handles_in_sheets.extend(re.findall(r'\\d\\d\\d\\d\\_\\d\\d\\d\\d\\d\\d', n))\n",
    "print(len(handles_in_sheets))"
   ]
  },
  {
   "cell_type": "code",
   "execution_count": 33,
   "metadata": {},
   "outputs": [
    {
     "name": "stdout",
     "output_type": "stream",
     "text": [
      "173\n",
      "179\n"
     ]
    }
   ],
   "source": [
    "light_output_dir = \"/home/yingshac/workspace/clevr_control/scripts/diffuser_icons/output\"\n",
    "light_output_handles = os.listdir(light_output_dir)\n",
    "print(len(light_output_handles))\n",
    "light_output_dir = \"/home/yingshac/workspace/clevr_control/scripts/diffuser_icons/output_rbt\"\n",
    "light_output_handles.extend(os.listdir(light_output_dir))\n",
    "print(len(light_output_handles))"
   ]
  },
  {
   "cell_type": "code",
   "execution_count": null,
   "metadata": {},
   "outputs": [],
   "source": [
    "for handle in sorted(light_output_handles):\n",
    "    if not handle in handles_in_sheets:\n",
    "        print(handle)"
   ]
  },
  {
   "cell_type": "code",
   "execution_count": 36,
   "metadata": {},
   "outputs": [
    {
     "name": "stdout",
     "output_type": "stream",
     "text": [
      "134\n",
      "0514_082837 5 4999\n",
      "0514_133607 30 599\n",
      "0514_162018 30 599\n",
      "0514_204132 30 599\n",
      "0514_213638 30 599\n",
      "0514_214526 30 599\n",
      "1213_154255 5 4999\n",
      "1217_160404 1 4999\n"
     ]
    }
   ],
   "source": [
    "ckpt_dir = \"/data/yingshac/clevr_control/scripts/diffuser_icons/output\"\n",
    "handles = sorted(os.listdir(ckpt_dir))\n",
    "print(len(handles))\n",
    "commands = []\n",
    "for handle in handles:\n",
    "    if os.path.exists(os.path.join(ckpt_dir, handle, \"ckpts\")):\n",
    "        handle_ckpts = os.listdir(os.path.join(ckpt_dir, handle, \"ckpts\"))\n",
    "    else:\n",
    "        handle_ckpts = []\n",
    "    \n",
    "    epochs = [int(ckpt.split(\"_\")[0]) for ckpt in handle_ckpts]\n",
    "    if not handle in handles_in_sheets:\n",
    "    #if len(handle_ckpts) > 30 or max(epochs) >= 6000:\n",
    "        print(handle, len(handle_ckpts), max(epochs))\n",
    "        #commands.append(\"rm -rf \" + os.path.join(ckpt_dir, handle))\n",
    "    # for ckpt in handle_ckpts:\n",
    "    #     epoch = int(ckpt.split(\"_\")[0])\n",
    "    #     if epoch % 200 == 99:\n",
    "    #         print(handle, len(handle_ckpts))\n",
    "    #         commands.append(\"rm -rf \" + os.path.join(ckpt_dir, handle))\n",
    "    "
   ]
  },
  {
   "cell_type": "code",
   "execution_count": 29,
   "metadata": {},
   "outputs": [
    {
     "name": "stderr",
     "output_type": "stream",
     "text": [
      " 12%|█▏        | 2/17 [00:00<00:00, 16.20it/s]"
     ]
    },
    {
     "name": "stdout",
     "output_type": "stream",
     "text": [
      "rm -rf /data/yingshac/clevr_control/scripts/diffuser_icons/output/0204_223110\n",
      "rm -rf /data/yingshac/clevr_control/scripts/diffuser_icons/output/0204_223140\n",
      "rm -rf /data/yingshac/clevr_control/scripts/diffuser_icons/output/0204_223204\n",
      "rm -rf /data/yingshac/clevr_control/scripts/diffuser_icons/output/0204_223541\n"
     ]
    },
    {
     "name": "stderr",
     "output_type": "stream",
     "text": [
      " 41%|████      | 7/17 [00:00<00:00, 18.41it/s]"
     ]
    },
    {
     "name": "stdout",
     "output_type": "stream",
     "text": [
      "rm -rf /data/yingshac/clevr_control/scripts/diffuser_icons/output/0206_080053\n",
      "rm -rf /data/yingshac/clevr_control/scripts/diffuser_icons/output/0206_080131\n",
      "rm -rf /data/yingshac/clevr_control/scripts/diffuser_icons/output/0206_080222\n",
      "rm -rf /data/yingshac/clevr_control/scripts/diffuser_icons/output/0206_135505\n"
     ]
    },
    {
     "name": "stderr",
     "output_type": "stream",
     "text": [
      " 76%|███████▋  | 13/17 [00:00<00:00, 22.81it/s]"
     ]
    },
    {
     "name": "stdout",
     "output_type": "stream",
     "text": [
      "rm -rf /data/yingshac/clevr_control/scripts/diffuser_icons/output/0213_123701\n",
      "rm -rf /data/yingshac/clevr_control/scripts/diffuser_icons/output/0213_235533\n",
      "rm -rf /data/yingshac/clevr_control/scripts/diffuser_icons/output/1213_173443\n",
      "rm -rf /data/yingshac/clevr_control/scripts/diffuser_icons/output/1214_123539\n",
      "rm -rf /data/yingshac/clevr_control/scripts/diffuser_icons/output/1214_143604\n",
      "rm -rf /data/yingshac/clevr_control/scripts/diffuser_icons/output/1214_152456\n"
     ]
    },
    {
     "name": "stderr",
     "output_type": "stream",
     "text": [
      "100%|██████████| 17/17 [00:00<00:00, 21.10it/s]"
     ]
    },
    {
     "name": "stdout",
     "output_type": "stream",
     "text": [
      "rm -rf /data/yingshac/clevr_control/scripts/diffuser_icons/output/1214_230146\n",
      "rm -rf /data/yingshac/clevr_control/scripts/diffuser_icons/output/1214_230316\n",
      "rm -rf /data/yingshac/clevr_control/scripts/diffuser_icons/output/1215_221832\n"
     ]
    },
    {
     "name": "stderr",
     "output_type": "stream",
     "text": [
      "\n"
     ]
    }
   ],
   "source": [
    "for c in tqdm(commands):\n",
    "    print(c)\n",
    "    #os.system(c)"
   ]
  },
  {
   "cell_type": "markdown",
   "metadata": {},
   "source": [
    "## Clean output in /home"
   ]
  },
  {
   "cell_type": "code",
   "execution_count": 88,
   "metadata": {},
   "outputs": [
    {
     "name": "stdout",
     "output_type": "stream",
     "text": [
      "53\n",
      "0304_002415\n",
      "0304_074913\n",
      "0304_174853\n",
      "0304_214209\n",
      "0\n"
     ]
    }
   ],
   "source": [
    "light_output_dir = \"/home/yingshac/workspace/clevr_control/scripts/diffuser_real/output\"\n",
    "light_output_handles = os.listdir(light_output_dir)\n",
    "print(len(light_output_handles))\n",
    "commands = []\n",
    "handles = []\n",
    "for handle in sorted(light_output_handles):\n",
    "    #tmp = os.path.join(light_output_dir, f\"{handle}/tensorboard\")\n",
    "    #if os.path.exists(tmp): commands.append(\"rm -rf \" + tmp) # delete tensorboard\n",
    "    if (not handle in handles_in_sheets) and os.path.exists(os.path.join(light_output_dir, f\"{handle}/infr\")):\n",
    "        print(handle)\n",
    "    #samples = os.listdir(os.path.join(light_output_dir, f\"{handle}/samples\"))\n",
    "    # if len(samples)//2 > 10: \n",
    "    #     print(handle, len(samples)//2)\n",
    "    #     handles.append(handle)\n",
    "print(len(commands))"
   ]
  },
  {
   "cell_type": "code",
   "execution_count": 78,
   "metadata": {},
   "outputs": [
    {
     "name": "stdout",
     "output_type": "stream",
     "text": [
      "308\n"
     ]
    }
   ],
   "source": [
    "### Delete samples saved during training --- would reduce the number of individual files\n",
    "\n",
    "#handle = \"0227_003340\"\n",
    "#handles = [\"0515_125424\", \"0515_222148\", \"0515_223043\", \"0516_082219\", \"0516_131742\"]\n",
    "commands = []\n",
    "\n",
    "for handle in handles:\n",
    "    for s in sorted(os.listdir(os.path.join(light_output_dir, handle, \"samples\")), key=lambda x: int(x.split(\"_\")[0])*1000000 + int(x.split(\"_\")[1].split(\".\")[0]))[:-2]:\n",
    "        epoch, step = s.split(\".\")[0].split(\"_\")\n",
    "        epoch, step = int(epoch), int(step)\n",
    "        if step % 5000:\n",
    "            commands.append(f\"rm -rf {os.path.join(light_output_dir, handle, 'samples', s)}\")\n",
    "print(len(commands))"
   ]
  },
  {
   "cell_type": "code",
   "execution_count": 80,
   "metadata": {},
   "outputs": [
    {
     "name": "stderr",
     "output_type": "stream",
     "text": [
      "100%|██████████| 308/308 [00:01<00:00, 197.57it/s]\n"
     ]
    }
   ],
   "source": [
    "for c in tqdm(commands):\n",
    "    #print(c)\n",
    "    #os.system(c)"
   ]
  },
  {
   "cell_type": "code",
   "execution_count": null,
   "metadata": {},
   "outputs": [],
   "source": []
  }
 ],
 "metadata": {
  "kernelspec": {
   "display_name": "venv",
   "language": "python",
   "name": "venv"
  },
  "language_info": {
   "codemirror_mode": {
    "name": "ipython",
    "version": 3
   },
   "file_extension": ".py",
   "mimetype": "text/x-python",
   "name": "python",
   "nbconvert_exporter": "python",
   "pygments_lexer": "ipython3",
   "version": "3.8.10"
  }
 },
 "nbformat": 4,
 "nbformat_minor": 2
}
