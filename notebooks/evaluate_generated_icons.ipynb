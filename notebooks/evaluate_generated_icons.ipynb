{
 "cells": [
  {
   "cell_type": "code",
   "execution_count": 1,
   "metadata": {},
   "outputs": [],
   "source": [
    "import os\n",
    "os.chdir(\"../scripts/diffuser_icons\")"
   ]
  },
  {
   "cell_type": "code",
   "execution_count": 2,
   "metadata": {},
   "outputs": [],
   "source": [
    "from PIL import Image, ImageDraw, ImageFont\n",
    "import json, random\n",
    "import numpy as np\n",
    "from dataset import draw_icon\n",
    "import torch\n",
    "from torch.nn import Conv2d"
   ]
  },
  {
   "cell_type": "markdown",
   "metadata": {},
   "source": [
    "### Draw Icons"
   ]
  },
  {
   "cell_type": "code",
   "execution_count": 3,
   "metadata": {},
   "outputs": [],
   "source": [
    "with open(\"../../data/matplotlib/unicode.jsonl\", \"r\", encoding=\"unicode-escape\") as f: lines = f.readlines()"
   ]
  },
  {
   "cell_type": "code",
   "execution_count": 6,
   "metadata": {},
   "outputs": [
    {
     "name": "stdout",
     "output_type": "stream",
     "text": [
      "icon: ♉ (taurus)\n"
     ]
    },
    {
     "data": {
      "image/jpeg": "[encoded data removed]",
      "image/png": "[encoded data removed]",
      "text/plain": [
       "<PIL.Image.Image image mode=RGB size=32x32>"
      ]
     },
     "execution_count": 6,
     "metadata": {},
     "output_type": "execute_result"
    }
   ],
   "source": [
    "# draw a single icon\n",
    "tmp = random.choice(lines)\n",
    "tmp = json.loads(tmp)\n",
    "unicode = (tmp[0], tmp[2])\n",
    "print(f\"icon: {tmp[0]} ({tmp[1]})\")\n",
    "im = draw_icon(unicode, unicode2=None, canvas_size=32, icon_size=32, fontsize=28)\n",
    "im"
   ]
  },
  {
   "cell_type": "code",
   "execution_count": 12,
   "metadata": {},
   "outputs": [
    {
     "name": "stdout",
     "output_type": "stream",
     "text": [
      "icon1: ♯ (sharp_music)\n",
      "icon2: ❝ (quotation_open)\n"
     ]
    },
    {
     "data": {
      "image/jpeg": "[encoded data removed]",
      "image/png": "[encoded data removed]",
      "text/plain": [
       "<PIL.Image.Image image mode=RGB size=32x64>"
      ]
     },
     "execution_count": 12,
     "metadata": {},
     "output_type": "execute_result"
    }
   ],
   "source": [
    "# draw a two icons \n",
    "tmp1, tmp2 = random.sample(lines, 2)\n",
    "tmp1, tmp2 = json.loads(tmp1), json.loads(tmp2)\n",
    "unicode1 = (tmp1[0], tmp1[2])\n",
    "unicode2 = (tmp2[0], tmp2[2])\n",
    "print(f\"icon1: {tmp1[0]} ({tmp1[1]})\\nicon2: {tmp2[0]} ({tmp2[1]})\")\n",
    "im = draw_icon(unicode1, unicode2, canvas_size=(64, 32), icon_size=32, fontsize=28)\n",
    "im"
   ]
  },
  {
   "cell_type": "markdown",
   "metadata": {},
   "source": [
    "### Evaluate Generated Icons"
   ]
  },
  {
   "cell_type": "code",
   "execution_count": 13,
   "metadata": {},
   "outputs": [
    {
     "name": "stdout",
     "output_type": "stream",
     "text": [
      "200 icons in total, filter shape = torch.Size([200, 3, 32, 32])\n"
     ]
    }
   ],
   "source": [
    "### Create all filters\n",
    "icon_size, font_size = 32, 28\n",
    "#icon_size, font_size = 128, 128, 120\n",
    "GTHS = []\n",
    "with open(\"../../data/nouns/all_nouns.txt\", \"r\") as f: nouns = [x.strip() for x in f.readlines()]\n",
    "with open(\"../../data/matplotlib/unicode.jsonl\", \"r\", encoding=\"unicode-escape\") as f: lines = f.readlines()\n",
    "icons_names = [json.loads(x)[1] for x in lines]\n",
    "nouns_to_names = {n:m for n, m in zip(nouns, icons_names)}\n",
    "for l in lines:\n",
    "    im = Image.new(\"RGB\", (icon_size, icon_size), (255,255,255))\n",
    "    draw = ImageDraw.Draw(im)\n",
    "    unicode_text, _, font = json.loads(l)\n",
    "    unicode_font = ImageFont.truetype(f\"fonts/{font}.ttf\", font_size)\n",
    "    _, _, w, h = draw.textbbox((0, 0), unicode_text, font=unicode_font)\n",
    "    draw.text(((icon_size-w)/2,(icon_size-h)/2), unicode_text, font=unicode_font, fill=\"black\")\n",
    "    y = torch.Tensor(np.asarray(im)/255 - 0.5).permute(2, 0, 1)\n",
    "    GTHS.append(y)\n",
    "GTHS = torch.stack(GTHS)\n",
    "print(f\"{len(lines)} icons in total, filter shape = {GTHS.shape}\")\n",
    "\n",
    "filter = Conv2d(\n",
    "    in_channels=3,\n",
    "    out_channels=1,\n",
    "    kernel_size=(icon_size, icon_size),\n",
    "    bias=False\n",
    ")\n"
   ]
  },
  {
   "cell_type": "code",
   "execution_count": 15,
   "metadata": {},
   "outputs": [
    {
     "name": "stdout",
     "output_type": "stream",
     "text": [
      "Evaluated 20 samples\n",
      "Acc = 1.0 (20/20)\n"
     ]
    }
   ],
   "source": [
    "### Eval single object\n",
    "\n",
    "img_path = \"output/1213_154255/samples/4999_30000.png\" # a batch of generated images is saved to the same file\n",
    "\n",
    "im = Image.open(img_path).convert(\"RGB\")\n",
    "im_array = np.array(im, dtype=np.float64)\n",
    "h, w, d = tuple(im_array.shape)\n",
    "\n",
    "# Process the image collage and recover the batch_size dimension\n",
    "num_rows, num_cols = int(h // icon_size), int(w // icon_size)\n",
    "bs = num_rows * num_cols\n",
    "pixels = np.reshape(im_array, (num_rows, icon_size, w, d))\n",
    "pixels = np.reshape(pixels, (num_rows, icon_size, num_cols, icon_size, d))\n",
    "pixels = np.transpose(pixels, (0, 2, 1, 3, 4))\n",
    "pixels = np.reshape(pixels, (bs, icon_size, icon_size, d))\n",
    "\n",
    "# Read the text prompts\n",
    "with open(img_path.replace(\".png\", \".txt\"), \"r\") as txt:\n",
    "    input_texts = []\n",
    "    for l in txt.readlines():\n",
    "        if \"=========\" in l: break\n",
    "        input_texts.append(l.strip())   \n",
    "\n",
    "em, count = 0, 0           \n",
    "for m, sentence in zip(pixels, input_texts):\n",
    "    x = torch.Tensor(np.asarray(m)/255 - 0.5).permute(2, 0, 1)\n",
    "    filter.weight.data = x.unsqueeze(0)\n",
    "    output = filter(GTHS).squeeze()\n",
    "    em += int(nouns[output.argmax().item()] == sentence.replace(\".\", \"\").split()[-1])\n",
    "    count += 1\n",
    "\n",
    "\n",
    "print(f\"Evaluated {count} samples\")\n",
    "print(f\"Acc = {em/count} ({em}/{count})\")"
   ]
  },
  {
   "cell_type": "code",
   "execution_count": 16,
   "metadata": {},
   "outputs": [
    {
     "name": "stdout",
     "output_type": "stream",
     "text": [
      "Evaluated 20 samples\n",
      "Acc = 0.65 (13/20)\n"
     ]
    }
   ],
   "source": [
    "## Eval two objects\n",
    "\n",
    "img_path = \"output/0213_235617/samples/599_58802.png\" # a batch of generated images is saved to the same file\n",
    "\n",
    "im = Image.open(img_path).convert(\"RGB\")\n",
    "im_array = np.array(im, dtype=np.float64)\n",
    "h, w, d = tuple(im_array.shape)\n",
    "\n",
    "# Process the image collage and recover the batch_size dimension\n",
    "image_height, image_width, icon_size = 64, 32, 32\n",
    "num_rows, num_cols = int(h // image_height), int(w // image_width)\n",
    "bs = num_rows * num_cols\n",
    "pixels = np.reshape(im_array, (num_rows, image_height, w, d))\n",
    "pixels = np.reshape(pixels, (num_rows, image_height, num_cols, image_width, d))\n",
    "pixels = np.transpose(pixels, (0, 2, 1, 3, 4))\n",
    "pixels = np.reshape(pixels, (bs, image_height, image_width, d))\n",
    "\n",
    "# Read the text prompts\n",
    "with open(img_path.replace(\".png\", \".txt\"), \"r\") as txt:\n",
    "    l = \"\".join(txt.readlines()).split(\"============\")[0].strip().split(\"\\n\")\n",
    "    input_texts = [x.strip() for x in l]\n",
    "\n",
    "em, count = 0, 0\n",
    "for m, sentence in zip(pixels, input_texts):\n",
    "    upper_m, lower_m = m[:icon_size,:], m[icon_size:,:] \n",
    "    objects = [w for w in sentence.replace(\".\", \"\").split() if w in nouns]\n",
    "    if \"bottom\" in sentence: objects = objects[::-1]\n",
    "    upper_o, lower_o = objects # gth objects\n",
    "\n",
    "    x = torch.Tensor(np.asarray(upper_m)/255 - 0.5).permute(2, 0, 1)\n",
    "    filter.weight.data = x.unsqueeze(0)\n",
    "    output = filter(GTHS).squeeze()\n",
    "    upper_gen = nouns[output.argmax().item()]\n",
    "    upper_em = int(upper_gen == upper_o)\n",
    "\n",
    "    x = torch.Tensor(np.asarray(lower_m)/255 - 0.5).permute(2, 0, 1)\n",
    "    filter.weight.data = x.unsqueeze(0)\n",
    "    output = filter(GTHS).squeeze()\n",
    "    lower_gen = nouns[output.argmax().item()]\n",
    "    lower_em = int(lower_gen == lower_o)\n",
    "    \n",
    "    em += upper_em * lower_em # em = 1 if both objects are correct\n",
    "    count += 1\n",
    "\n",
    "print(f\"Evaluated {count} samples\")\n",
    "print(f\"Acc = {em/count} ({em}/{count})\")\n"
   ]
  },
  {
   "cell_type": "code",
   "execution_count": null,
   "metadata": {},
   "outputs": [],
   "source": []
  }
 ],
 "metadata": {
  "kernelspec": {
   "display_name": "venv",
   "language": "python",
   "name": "venv"
  },
  "language_info": {
   "codemirror_mode": {
    "name": "ipython",
    "version": 3
   },
   "file_extension": ".py",
   "mimetype": "text/x-python",
   "name": "python",
   "nbconvert_exporter": "python",
   "pygments_lexer": "ipython3",
   "version": "3.8.10"
  }
 },
 "nbformat": 4,
 "nbformat_minor": 2
}
