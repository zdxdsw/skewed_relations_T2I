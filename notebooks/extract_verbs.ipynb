{
 "cells": [
  {
   "cell_type": "code",
   "execution_count": 2,
   "metadata": {},
   "outputs": [],
   "source": [
    "import json, random, os\n",
    "from tqdm import tqdm\n",
    "import multiprocessing as mp\n",
    "from joblib import Parallel, delayed\n",
    "from pprint import pprint\n",
    "import pytz\n",
    "from datetime import datetime\n",
    "timezone = pytz.timezone('America/New_York') \n",
    "import spacy\n",
    "nlp = spacy.load(\"en_core_web_lg\")"
   ]
  },
  {
   "cell_type": "code",
   "execution_count": 2,
   "metadata": {},
   "outputs": [
    {
     "name": "stdout",
     "output_type": "stream",
     "text": [
      "Apple Apple PROPN nsubj Xxxxx True False\n",
      "is be AUX aux xx True True\n",
      "looking look VERB ROOT xxxx True False\n",
      "at at ADP prep xx True True\n",
      "buying buy VERB pcomp xxxx True False\n",
      "U.K. U.K. PROPN dobj X.X. False False\n",
      "startup startup NOUN ccomp xxxx True False\n",
      "for for ADP prep xxx True True\n",
      "$ $ SYM quantmod $ False False\n",
      "1 1 NUM compound d False False\n",
      "billion billion NUM pobj xxxx True False\n"
     ]
    }
   ],
   "source": [
    "doc = nlp(\"Apple is looking at buying U.K. startup for $1 billion\")\n",
    "\n",
    "for token in doc:\n",
    "    print(token.text, token.lemma_, token.pos_, token.dep_,\n",
    "            token.shape_, token.is_alpha, token.is_stop)"
   ]
  },
  {
   "cell_type": "code",
   "execution_count": 2,
   "metadata": {},
   "outputs": [
    {
     "name": "stdout",
     "output_type": "stream",
     "text": [
      "616767\n",
      "593968\n"
     ]
    }
   ],
   "source": [
    "captions = []\n",
    "coco_annotation = json.load(open(\"../data/coco/annotations/dataset_coco.json\", \"r\"))['images']\n",
    "for ex in coco_annotation:\n",
    "    captions.extend([s[\"raw\"] for s in ex['sentences']])\n",
    "print(len(captions))\n",
    "captions = list(set(captions))\n",
    "print(len(captions))"
   ]
  },
  {
   "cell_type": "code",
   "execution_count": 9,
   "metadata": {},
   "outputs": [
    {
     "name": "stdout",
     "output_type": "stream",
     "text": [
      "ditransitive 0\n",
      "transitive 2073\n",
      "intransitive 3154\n",
      "unclear 23\n"
     ]
    }
   ],
   "source": [
    "## Merge extracted & categorized verbs from tmp\n",
    "verbs = {\n",
    "    \"ditransitive\": set(),\n",
    "    \"transitive\": set(),\n",
    "    \"intransitive\": set(),\n",
    "    \"unclear\": set()\n",
    "} \n",
    "files = os.listdir(\"../data/coco_verbs/tmp\")\n",
    "for file in files:\n",
    "    with open(f\"../data/coco_verbs/tmp/{file}\", \"r\") as f:\n",
    "        d = json.loads(f.readlines()[1])\n",
    "    for k, v in d.items():\n",
    "        verbs[k] = verbs[k].union(set([x.lower() for x in v]))\n",
    "for k, v in verbs.items():\n",
    "    print(k, len(v))\n",
    "#json.dump({k:sorted(list(v)) for k, v in verbs.items()}, open(\"../data/coco_verbs/coco_verbs.json\", \"w\"), indent=4)"
   ]
  },
  {
   "cell_type": "code",
   "execution_count": 12,
   "metadata": {},
   "outputs": [],
   "source": []
  },
  {
   "cell_type": "code",
   "execution_count": null,
   "metadata": {},
   "outputs": [],
   "source": []
  }
 ],
 "metadata": {
  "kernelspec": {
   "display_name": "venv",
   "language": "python",
   "name": "python3"
  },
  "language_info": {
   "codemirror_mode": {
    "name": "ipython",
    "version": 3
   },
   "file_extension": ".py",
   "mimetype": "text/x-python",
   "name": "python",
   "nbconvert_exporter": "python",
   "pygments_lexer": "ipython3",
   "version": "3.8.10"
  },
  "orig_nbformat": 4
 },
 "nbformat": 4,
 "nbformat_minor": 2
}
