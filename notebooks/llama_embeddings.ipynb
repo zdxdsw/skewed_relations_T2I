{
 "cells": [
  {
   "cell_type": "code",
   "execution_count": 1,
   "metadata": {},
   "outputs": [
    {
     "name": "stderr",
     "output_type": "stream",
     "text": [
      "/home/yingshac/workspace/2023/venv/lib/python3.8/site-packages/tqdm/auto.py:21: TqdmWarning: IProgress not found. Please update jupyter and ipywidgets. See https://ipywidgets.readthedocs.io/en/stable/user_install.html\n",
      "  from .autonotebook import tqdm as notebook_tqdm\n"
     ]
    }
   ],
   "source": [
    "from transformers import LlamaForCausalLM, LlamaTokenizer\n",
    "import torch\n",
    "import random, json, argparse, re, os, sys\n",
    "sys.path.append(\"../clevr_control/scripts\")\n",
    "#os.environ[\"CUDA_VISIBLE_DEVICES\"] = \"1\"  \n",
    "from collections import defaultdict\n",
    "from tqdm import tqdm\n",
    "import pytz\n",
    "from datetime import datetime\n",
    "timezone = pytz.timezone('America/New_York') \n",
    "from helper import *"
   ]
  },
  {
   "cell_type": "code",
   "execution_count": 2,
   "metadata": {},
   "outputs": [
    {
     "name": "stderr",
     "output_type": "stream",
     "text": [
      "Loading checkpoint shards: 100%|██████████| 2/2 [00:07<00:00,  3.80s/it]\n"
     ]
    }
   ],
   "source": [
    "tokenizer = LlamaTokenizer.from_pretrained(\"/data/yingshac/LLM/vicuna-7b\")\n",
    "model = LlamaForCausalLM.from_pretrained(\"/data/yingshac/LLM/vicuna-7b\")"
   ]
  },
  {
   "cell_type": "code",
   "execution_count": 3,
   "metadata": {},
   "outputs": [
    {
     "data": {
      "text/plain": [
       "LlamaForCausalLM(\n",
       "  (model): LlamaModel(\n",
       "    (embed_tokens): Embedding(32000, 4096, padding_idx=0)\n",
       "    (layers): ModuleList(\n",
       "      (0-31): 32 x LlamaDecoderLayer(\n",
       "        (self_attn): LlamaAttention(\n",
       "          (q_proj): Linear(in_features=4096, out_features=4096, bias=False)\n",
       "          (k_proj): Linear(in_features=4096, out_features=4096, bias=False)\n",
       "          (v_proj): Linear(in_features=4096, out_features=4096, bias=False)\n",
       "          (o_proj): Linear(in_features=4096, out_features=4096, bias=False)\n",
       "          (rotary_emb): LlamaRotaryEmbedding()\n",
       "        )\n",
       "        (mlp): LlamaMLP(\n",
       "          (gate_proj): Linear(in_features=4096, out_features=11008, bias=False)\n",
       "          (down_proj): Linear(in_features=11008, out_features=4096, bias=False)\n",
       "          (up_proj): Linear(in_features=4096, out_features=11008, bias=False)\n",
       "          (act_fn): SiLUActivation()\n",
       "        )\n",
       "        (input_layernorm): LlamaRMSNorm()\n",
       "        (post_attention_layernorm): LlamaRMSNorm()\n",
       "      )\n",
       "    )\n",
       "    (norm): LlamaRMSNorm()\n",
       "  )\n",
       "  (lm_head): Linear(in_features=4096, out_features=32000, bias=False)\n",
       ")"
      ]
     },
     "execution_count": 3,
     "metadata": {},
     "output_type": "execute_result"
    }
   ],
   "source": [
    "model.cuda()"
   ]
  },
  {
   "cell_type": "code",
   "execution_count": 4,
   "metadata": {},
   "outputs": [],
   "source": [
    "with open(\"/home/yingshac/workspace/2023/MathQA/feed_vicuna/zero_shot.jsonl\", \"r\") as f:\n",
    "    prompts = [l.strip() for l in f.readlines()]"
   ]
  },
  {
   "cell_type": "code",
   "execution_count": 4,
   "metadata": {},
   "outputs": [
    {
     "name": "stdout",
     "output_type": "stream",
     "text": [
      "364 725\n"
     ]
    }
   ],
   "source": [
    "verbs = [l.strip() for l in open(\"/home/yingshac/workspace/2023/clevr_control/feed_decoder_LM/verbs.txt\", \"r\").readlines()]\n",
    "complementary_verbs = [l.strip() for l in open(\"/home/yingshac/workspace/2023/clevr_control/feed_decoder_LM/complementary_transitive_verbs.txt\", \"r\").readlines()]\n",
    "print(len(verbs), len(complementary_verbs))"
   ]
  },
  {
   "cell_type": "code",
   "execution_count": 41,
   "metadata": {},
   "outputs": [
    {
     "name": "stdout",
     "output_type": "stream",
     "text": [
      "If you were to generate an image according to the caption 'a red cube beats a blue cube', would you put the red or the blue cube at the bottom?\n",
      "Answer:\n"
     ]
    }
   ],
   "source": [
    "template1 = (\"Question: The verb '{verb}' entails which of the following information about the spatial relationship between the subject and the object?\\n\\n\"\n",
    "      \"Options:\\n\"\n",
    "      \"A. The subject is at the bottom of the object\\n\" # The subject is on the top and the object is at the bottom\\n\"\n",
    "      \"B. The subject is on top of the object\\n\" #The subject is at the bottom and the object is on the top\\n\"\n",
    "      #\"C. The verb '{verb}' entails a spatial relationship other than option A or option B\\n\"\n",
    "      #\"D. The verb '{verb}' does not entail a specific spatial relationship between the subject and the object\\n\"\n",
    "      \"\\n\"\n",
    "      \"Answer: The correct option is\"\n",
    "     )\n",
    "template2 = (\n",
    "      \"Suppose X {verb_third_singular} Y. Question: X is at the bottom of Y, yes or no?\\n\"\n",
    "      \"Answer:\"\n",
    ")\n",
    "template3 = (\n",
    "      \"Suppose X {verb_third_singular} Y. Question: X is on top of Y, true or false?\\n\"\n",
    "      \"Answer:\"\n",
    ")\n",
    "template4 = (\n",
    "      \"Given X {verb_third_singular} Y. Question: Should we assume X is on top of Y?\\n\"\n",
    "      \"Answer:\"\n",
    ")\n",
    "template5 = (\n",
    "      \"Given X {verb_third_singular} Y. Question: Does this imply that X is on top of Y?\\n?\"\n",
    "      \"Answer:\"\n",
    ")\n",
    "template6 = (\n",
    "      \"If you were to generate an image according to the caption 'a red cube {verb_third_singular} a blue cube', \"\n",
    "      \"would you put the red or the blue cube at the bottom?\\n\"\n",
    "      \"Answer:\"\n",
    ")\n",
    "template7 = (\n",
    "      \"Question: An image corresponding to the caption 'a red cube {verb_third_singular} a blue cube' probably has which object on the top?\"\n",
    "      \"Answer:\"\n",
    ")\n",
    "template = template6\n",
    "print(template.format(**{\"verb_third_singular\": \"beats\"}))"
   ]
  },
  {
   "cell_type": "code",
   "execution_count": 8,
   "metadata": {},
   "outputs": [],
   "source": [
    "def create_in_context_ex(template, template_arg, gth_completion, ex_separator=\"\\n\\n\"):\n",
    "    try:\n",
    "        return template.format(**template_arg) + gth_completion + ex_separator\n",
    "    except KeyError:\n",
    "        print(\"The question template and template args doesn't match!\")\n",
    "        raise"
   ]
  },
  {
   "cell_type": "code",
   "execution_count": null,
   "metadata": {},
   "outputs": [],
   "source": [
    "\"\"\"\n",
    "examples = [\n",
    "    (\"cover\", \"B\"),\n",
    "    (\"press\", \"B\"),\n",
    "    (\"ride\", \"B\"),\n",
    "    (\"overlay\", \"B\"),\n",
    "    (\"lock\", \"B\"),\n",
    "    (\"dangle\", \"A\"),\n",
    "    (\"hide\", \"A\"),\n",
    "    (\"underpin\", \"A\"),\n",
    "    (\"submerge\", \"A\"),\n",
    "    (\"support\", \"A\"),\n",
    "\n",
    "    #(\"bake\", \"C\"),\n",
    "    #(\"chase\", \"C\"),\n",
    "    #(\"throw\", \"C\"),\n",
    "    #(\"use\", \"D\"),\n",
    "    #(\"specify\", \"D\"),\n",
    "    #(\"dream\", \"D\")\n",
    "]\n",
    "\n",
    "examples = [\n",
    "    (\"cover\", \"Yes\"),\n",
    "    (\"press\", \"Yes\"),\n",
    "    (\"ride\", \"Yes\"),\n",
    "    (\"overlay\", \"Yes\"),\n",
    "    (\"lock\", \"Yes\"),\n",
    "    (\"dangle\", \"No\"),\n",
    "    (\"hide\", \"No\"),\n",
    "    (\"underpin\", \"No\"),\n",
    "    (\"submerge\", \"No\"),\n",
    "    (\"support\", \"No\"),\n",
    "]\n",
    "\n",
    "examples = [\n",
    "    (\"cover\", \"True\"),\n",
    "    (\"press\", \"True\"),\n",
    "    (\"ride\", \"True\"),\n",
    "    (\"overlay\", \"True\"),\n",
    "    (\"lock\", \"True\"),\n",
    "    (\"dangle\", \"False\"),\n",
    "    (\"hide\", \"False\"),\n",
    "    (\"underpin\", \"False\"),\n",
    "    (\"submerge\", \"False\"),\n",
    "    (\"support\", \"False\"),\n",
    "]\n",
    "\n",
    "examples = [\n",
    "    (\"cover\", \"Yes, we should\"),\n",
    "    (\"press\", \"Yes, we should\"),\n",
    "    (\"ride\", \"Yes, we should\"),\n",
    "    (\"overlay\", \"Yes, we should\"),\n",
    "    (\"lock\", \"Yes, we should\"),\n",
    "    (\"dangle\", \"No, we should not\"),\n",
    "    (\"hide\", \"No, we should not\"),\n",
    "    (\"underpin\", \"No, we should not\"),\n",
    "    (\"submerge\", \"No, we should not\"),\n",
    "    (\"support\", \"No, we should not\"),\n",
    "]\n",
    "\n",
    "examples = [\n",
    "    (\"cover\", \"Yes, it does\"),\n",
    "    (\"press\", \"Yes, it does\"),\n",
    "    (\"ride\", \"Yes, it does\"),\n",
    "    (\"overlay\", \"Yes, it does\"),\n",
    "    (\"lock\", \"Yes, it does\"),\n",
    "    (\"dangle\", \"No, it does not\"),\n",
    "    (\"hide\", \"No, it does not\"),\n",
    "    (\"underpin\", \"No, it does not\"),\n",
    "    (\"submerge\", \"No, it does not\"),\n",
    "    (\"support\", \"No, it does not\"),\n",
    "]\n",
    "\n",
    "examples = [\n",
    "    (\"cover\", \"The blue cube\"),\n",
    "    (\"press\", \"The blue cube\"),\n",
    "    (\"ride\", \"The blue cube\"),\n",
    "    (\"overlay\", \"The blue cube\"),\n",
    "    (\"lock\", \"The blue cube\"),\n",
    "    (\"dangle\", \"The red cube\"),\n",
    "    (\"hide\", \"The red cube\"),\n",
    "    (\"underpin\", \"The red cube\"),\n",
    "    (\"submerge\", \"The red cube\"),\n",
    "    (\"support\", \"The red cube\"),\n",
    "    (\"bake\", \"Unclear\"),\n",
    "    (\"chase\", \"Unclear\"),\n",
    "    (\"use\", \"Unclear\"),\n",
    "    (\"specify\", \"Unclear\"),\n",
    "    (\"dream\", \"Unclear\")\n",
    "]\n",
    "\n",
    "examples = [\n",
    "    (\"cover\", \"The blue cube\"),\n",
    "    (\"press\", \"The blue cube\"),\n",
    "    (\"overlay\", \"The blue cube\"),\n",
    "    (\"dangle\", \"The red cube\"),\n",
    "    (\"submerge\", \"The red cube\"),\n",
    "    (\"support\", \"The red cube\"),\n",
    "    (\"bake\", \"Unclear\"),\n",
    "    (\"use\", \"Unclear\"),\n",
    "    (\"specify\", \"Unclear\"),\n",
    "    (\"dream\", \"Unclear\")\n",
    "]\n",
    "\"\"\""
   ]
  },
  {
   "cell_type": "code",
   "execution_count": 49,
   "metadata": {},
   "outputs": [
    {
     "name": "stdout",
     "output_type": "stream",
     "text": [
      "If you were to generate an image according to the caption 'a red cube rides a blue cube', would you put the red or the blue cube at the bottom?\n",
      "Answer: The blue cube.\n",
      "\n",
      "If you were to generate an image according to the caption 'a red cube chases a blue cube', would you put the red or the blue cube at the bottom?\n",
      "Answer: Unclear.\n",
      "\n",
      "If you were to generate an image according to the caption 'a red cube bakes a blue cube', would you put the red or the blue cube at the bottom?\n",
      "Answer: Unclear.\n",
      "\n",
      "If you were to generate an image according to the caption 'a red cube specifies a blue cube', would you put the red or the blue cube at the bottom?\n",
      "Answer: Unclear.\n",
      "\n",
      "If you were to generate an image according to the caption 'a red cube covers a blue cube', would you put the red or the blue cube at the bottom?\n",
      "Answer: The blue cube.\n",
      "\n",
      "If you were to generate an image according to the caption 'a red cube presses a blue cube', would you put the red or the blue cube at the bottom?\n",
      "Answer: The blue cube.\n",
      "\n",
      "If you were to generate an image according to the caption 'a red cube underpins a blue cube', would you put the red or the blue cube at the bottom?\n",
      "Answer: The red cube.\n",
      "\n",
      "If you were to generate an image according to the caption 'a red cube supports a blue cube', would you put the red or the blue cube at the bottom?\n",
      "Answer: The red cube.\n",
      "\n",
      "If you were to generate an image according to the caption 'a red cube uses a blue cube', would you put the red or the blue cube at the bottom?\n",
      "Answer: Unclear.\n",
      "\n",
      "If you were to generate an image according to the caption 'a red cube dangles a blue cube', would you put the red or the blue cube at the bottom?\n",
      "Answer: The red cube.\n",
      "\n",
      "If you were to generate an image according to the caption 'a red cube hides a blue cube', would you put the red or the blue cube at the bottom?\n",
      "Answer: The red cube.\n",
      "\n",
      "If you were to generate an image according to the caption 'a red cube locks a blue cube', would you put the red or the blue cube at the bottom?\n",
      "Answer: The blue cube.\n",
      "\n",
      "If you were to generate an image according to the caption 'a red cube dreams a blue cube', would you put the red or the blue cube at the bottom?\n",
      "Answer: Unclear.\n",
      "\n",
      "If you were to generate an image according to the caption 'a red cube overlays a blue cube', would you put the red or the blue cube at the bottom?\n",
      "Answer: The blue cube.\n",
      "\n",
      "If you were to generate an image according to the caption 'a red cube submerges a blue cube', would you put the red or the blue cube at the bottom?\n",
      "Answer: The red cube.\n",
      "\n",
      "\n"
     ]
    }
   ],
   "source": [
    "# Create 10 in-context examples\n",
    "examples = [\n",
    "    (\"cover\", \"The blue cube\"),\n",
    "    (\"press\", \"The blue cube\"),\n",
    "    (\"ride\", \"The blue cube\"),\n",
    "    (\"overlay\", \"The blue cube\"),\n",
    "    (\"lock\", \"The blue cube\"),\n",
    "    (\"dangle\", \"The red cube\"),\n",
    "    (\"hide\", \"The red cube\"),\n",
    "    (\"underpin\", \"The red cube\"),\n",
    "    (\"submerge\", \"The red cube\"),\n",
    "    (\"support\", \"The red cube\"),\n",
    "    (\"bake\", \"Unclear\"),\n",
    "    (\"chase\", \"Unclear\"),\n",
    "    (\"use\", \"Unclear\"),\n",
    "    (\"specify\", \"Unclear\"),\n",
    "    (\"dream\", \"Unclear\")\n",
    "]\n",
    "random.shuffle(examples)\n",
    "\n",
    "in_context_ex = \"\"\n",
    "for ex in examples:\n",
    "    in_context_ex += create_in_context_ex(\n",
    "        template,\n",
    "        {\"verb_third_singular\": convert_to_third_person_singular(ex[0])},\n",
    "        f\" {ex[1]}.\"\n",
    "    )\n",
    "print(in_context_ex)\n"
   ]
  },
  {
   "cell_type": "code",
   "execution_count": 34,
   "metadata": {},
   "outputs": [
    {
     "name": "stdout",
     "output_type": "stream",
     "text": [
      "present\n"
     ]
    }
   ],
   "source": [
    "v = random.choice(verbs)\n",
    "prompt = in_context_ex + template.format(**{\"verb_third_singular\": convert_to_third_person_singular(v)})\n",
    "#print(prompt)\n",
    "print(v)\n",
    "\n",
    "input_ids = tokenizer([prompt]).input_ids\n",
    "output_ids = model.generate(\n",
    "    torch.as_tensor(input_ids).cuda(),\n",
    "    do_sample=False, # do_sample=False == Greedy\n",
    "    #temperature=0.7,\n",
    "    max_new_tokens=4,\n",
    ")\n",
    "output_ids = output_ids[0][len(input_ids[0]) :]\n",
    "outputs = tokenizer.decode(output_ids, skip_special_tokens=True).strip()"
   ]
  },
  {
   "cell_type": "code",
   "execution_count": 35,
   "metadata": {},
   "outputs": [
    {
     "name": "stdout",
     "output_type": "stream",
     "text": [
      "The red cube.\n"
     ]
    },
    {
     "data": {
      "text/plain": [
       "'red cube'"
      ]
     },
     "execution_count": 35,
     "metadata": {},
     "output_type": "execute_result"
    }
   ],
   "source": [
    "print(outputs)\n",
    "match = re.match(r\".*(?P<output>(blue cube|red cube|Unclear)).*\\.\", outputs)\n",
    "match.group(\"output\")"
   ]
  },
  {
   "cell_type": "code",
   "execution_count": 50,
   "metadata": {},
   "outputs": [
    {
     "name": "stderr",
     "output_type": "stream",
     "text": [
      "100%|██████████| 364/364 [06:34<00:00,  1.08s/it]\n"
     ]
    }
   ],
   "source": [
    "### run model.generate across all verbs\n",
    "all_outputs = defaultdict(list)\n",
    "for v in tqdm(verbs):# + complementary_verbs):\n",
    "    prompt = in_context_ex + template.format(**{\"verb_third_singular\": convert_to_third_person_singular(v)})\n",
    "\n",
    "    input_ids = tokenizer([prompt]).input_ids\n",
    "    output_ids = model.generate(\n",
    "        torch.as_tensor(input_ids).cuda(),\n",
    "        do_sample=False, # do_sample=False == Greedy\n",
    "        #temperature=0.7,\n",
    "        max_new_tokens=4,\n",
    "    )\n",
    "    output_ids = output_ids[0][len(input_ids[0]) :]\n",
    "    outputs = tokenizer.decode(output_ids, skip_special_tokens=True).strip()\n",
    "    #match = re.match(r\"(?P<output>[A-B])\\.\", outputs)\n",
    "    match = re.match(r\".*(?P<output>(blue cube|red cube|Unclear)).*\\.\", outputs)\n",
    "\n",
    "    if match is None: all_outputs[\"unmatched\"].append(v)\n",
    "    else: all_outputs[match.group(\"output\")].append(v)\n"
   ]
  },
  {
   "cell_type": "code",
   "execution_count": 51,
   "metadata": {},
   "outputs": [
    {
     "name": "stdout",
     "output_type": "stream",
     "text": [
      "red cube 301\n",
      "Unclear 26\n",
      "blue cube 37\n"
     ]
    }
   ],
   "source": [
    "for k, v in all_outputs.items():\n",
    "    print(k, len(v))"
   ]
  },
  {
   "cell_type": "code",
   "execution_count": 52,
   "metadata": {},
   "outputs": [
    {
     "name": "stdout",
     "output_type": "stream",
     "text": [
      "0905_202948\n"
     ]
    }
   ],
   "source": [
    "date = datetime.now(timezone).strftime(\"%m%d_%H%M%S\")\n",
    "print(date)\n",
    "json.dump(all_outputs, open(f\"../clevr_control/output_decoder_LM/vicuna7b_{date}.json\", \"w\"), indent=4)"
   ]
  },
  {
   "cell_type": "code",
   "execution_count": 47,
   "metadata": {},
   "outputs": [
    {
     "name": "stdout",
     "output_type": "stream",
     "text": [
      "If you were to generate an image according to the caption 'a red cube uses a blue cube', would you put the red or the blue cube at the bottom?\n",
      "Answer: Unclear.\n",
      "\n",
      "If you were to generate an image according to the caption 'a red cube underpins a blue cube', would you put the red or the blue cube at the bottom?\n",
      "Answer: The red cube.\n",
      "\n",
      "If you were to generate an image according to the caption 'a red cube bakes a blue cube', would you put the red or the blue cube at the bottom?\n",
      "Answer: Unclear.\n",
      "\n",
      "If you were to generate an image according to the caption 'a red cube submerges a blue cube', would you put the red or the blue cube at the bottom?\n",
      "Answer: The red cube.\n",
      "\n",
      "If you were to generate an image according to the caption 'a red cube presses a blue cube', would you put the red or the blue cube at the bottom?\n",
      "Answer: The blue cube.\n",
      "\n",
      "If you were to generate an image according to the caption 'a red cube supports a blue cube', would you put the red or the blue cube at the bottom?\n",
      "Answer: The red cube.\n",
      "\n",
      "If you were to generate an image according to the caption 'a red cube chases a blue cube', would you put the red or the blue cube at the bottom?\n",
      "Answer: Unclear.\n",
      "\n",
      "If you were to generate an image according to the caption 'a red cube dreams a blue cube', would you put the red or the blue cube at the bottom?\n",
      "Answer: Unclear.\n",
      "\n",
      "If you were to generate an image according to the caption 'a red cube hides a blue cube', would you put the red or the blue cube at the bottom?\n",
      "Answer: The red cube.\n",
      "\n",
      "If you were to generate an image according to the caption 'a red cube specifies a blue cube', would you put the red or the blue cube at the bottom?\n",
      "Answer: Unclear.\n",
      "\n",
      "If you were to generate an image according to the caption 'a red cube rides a blue cube', would you put the red or the blue cube at the bottom?\n",
      "Answer: The blue cube.\n",
      "\n",
      "If you were to generate an image according to the caption 'a red cube dangles a blue cube', would you put the red or the blue cube at the bottom?\n",
      "Answer: The red cube.\n",
      "\n",
      "If you were to generate an image according to the caption 'a red cube overlays a blue cube', would you put the red or the blue cube at the bottom?\n",
      "Answer: The blue cube.\n",
      "\n",
      "If you were to generate an image according to the caption 'a red cube locks a blue cube', would you put the red or the blue cube at the bottom?\n",
      "Answer: The blue cube.\n",
      "\n",
      "If you were to generate an image according to the caption 'a red cube covers a blue cube', would you put the red or the blue cube at the bottom?\n",
      "Answer: The blue cube.\n",
      "\n",
      "\n"
     ]
    }
   ],
   "source": [
    "print(in_context_ex)"
   ]
  },
  {
   "cell_type": "code",
   "execution_count": null,
   "metadata": {},
   "outputs": [],
   "source": []
  }
 ],
 "metadata": {
  "kernelspec": {
   "display_name": "venv",
   "language": "python",
   "name": "python3"
  },
  "language_info": {
   "codemirror_mode": {
    "name": "ipython",
    "version": 3
   },
   "file_extension": ".py",
   "mimetype": "text/x-python",
   "name": "python",
   "nbconvert_exporter": "python",
   "pygments_lexer": "ipython3",
   "version": "3.8.3"
  },
  "orig_nbformat": 4
 },
 "nbformat": 4,
 "nbformat_minor": 2
}
