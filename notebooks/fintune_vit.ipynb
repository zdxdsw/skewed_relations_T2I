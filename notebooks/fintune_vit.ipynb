{
 "cells": [
  {
   "cell_type": "code",
   "execution_count": 4,
   "metadata": {},
   "outputs": [],
   "source": [
    "import torch.nn as nn\n",
    "import torch.nn.functional as F\n",
    "import torch\n",
    "import torchvision.transforms as transforms\n",
    "import torch.optim as optim\n",
    "from torch.utils.data import Dataset, DataLoader, random_split\n",
    "from PIL import Image\n",
    "from typing import Any, Dict, Optional, Tuple, Union, List\n",
    "import os, json, random\n",
    "from collections import Counter, defaultdict\n",
    "from pprint import pprint\n",
    "import numpy as np\n",
    "from tqdm import tqdm, trange\n",
    "from transformers import ViTForImageClassification\n",
    "#os.environ[\"HF_DATASETS_CACHE\"] = \"/data/yingshac/hf_cache\"\n",
    "#os.environ[\"CUDA_VISIBLE_DEVICES\"] = \"1\"\n",
    "import pytz\n",
    "from datetime import datetime\n",
    "timezone = pytz.timezone('America/New_York') "
   ]
  },
  {
   "cell_type": "code",
   "execution_count": 5,
   "metadata": {},
   "outputs": [
    {
     "name": "stderr",
     "output_type": "stream",
     "text": [
      "/tmp/ipykernel_2811307/3253253806.py:6: FutureWarning: load_metric is deprecated and will be removed in the next major version of datasets. Use 'evaluate.load' instead, from the new library 🤗 Evaluate: https://huggingface.co/docs/evaluate\n",
      "  metric = load_metric(\"accuracy\")\n"
     ]
    }
   ],
   "source": [
    "from transformers import ViTImageProcessor\n",
    "model_name_or_path = 'google/vit-base-patch16-224-in21k'\n",
    "processor = ViTImageProcessor.from_pretrained(model_name_or_path)\n",
    "\n",
    "from datasets import load_metric\n",
    "metric = load_metric(\"accuracy\")\n"
   ]
  },
  {
   "cell_type": "code",
   "execution_count": 13,
   "metadata": {},
   "outputs": [],
   "source": [
    "def get_acc(output, gth, verbose=False):\n",
    "    output, gth = output.detach().cpu(), gth.detach().cpu()\n",
    "    if verbose:\n",
    "        print(\"pred = \", np.argmax(output, axis=1))\n",
    "        print(\"gth  = \", gth)\n",
    "    return metric.compute(predictions=np.argmax(output, axis=1), references=gth)['accuracy'], np.argmax(output, axis=1)\n",
    "\n",
    "def collate_fn(batch):\n",
    "    inputs = {}\n",
    "    inputs['pixel_values'] = processor([x['image'] for x in batch], return_tensors='pt')['pixel_values']\n",
    "    inputs['label'] = torch.LongTensor([x['label'] for x in batch])\n",
    "    return inputs"
   ]
  },
  {
   "cell_type": "markdown",
   "metadata": {},
   "source": [
    "### Finetune ViT"
   ]
  },
  {
   "cell_type": "code",
   "execution_count": 4,
   "metadata": {},
   "outputs": [],
   "source": [
    "class dataset(Dataset):\n",
    "    def __init__(self,\n",
    "                 classes: List[str], # used to define class_ids, order matters\n",
    "                 imdir: str,\n",
    "                 data: List,\n",
    "                 imsize = 64,\n",
    "                 ):\n",
    "        super().__init__()\n",
    "        self.imdir = imdir\n",
    "        self.data = data ## should be a list of tuples, e.g. (text, image, (mug, cup, left of))\n",
    "        self.imsize = imsize\n",
    "\n",
    "        #self.classes = classes\n",
    "        self.classes = [\"empty\"]+classes\n",
    "        self.n2i = {n:i for i, n in enumerate(self.classes)}\n",
    "\n",
    "    def __len__(self): return len(self.data)*2\n",
    "    \n",
    "    def __getitem__(self, i): \n",
    "        text, image_path, tuple = self.data[i//2]\n",
    "\n",
    "        # center crop to a square, then resize\n",
    "        image = Image.open(os.path.join(self.imdir, image_path))\n",
    "        width, height = image.size\n",
    "        new_dimension = min(image.size)\n",
    "        left = (width - new_dimension)/2\n",
    "        top = (height - new_dimension)/2\n",
    "        right = (width + new_dimension)/2\n",
    "        bottom = (height + new_dimension)/2\n",
    "        image = image.crop((left, top, right, bottom)).resize((self.imsize, self.imsize))\n",
    "        \n",
    "        H, W = self.imsize, self.imsize\n",
    "\n",
    "        if tuple[-1] in ['left of', 'right of']:\n",
    "            crop1 = image.crop((0, H//4, W//2, 3*H//4))\n",
    "            crop2 = image.crop((W//2, H//4, W, 3*H//4))\n",
    "\n",
    "            crop3 = image.crop((W//4, 0, 3*W//4, H//2))\n",
    "            crop4 = image.crop((W//4, H//2, 3*W//4, H))\n",
    "        else:\n",
    "            crop1 = image.crop((W//4, 0, 3*W//4, H//2))\n",
    "            crop2 = image.crop((W//4, H//2, 3*W//4, H))\n",
    "\n",
    "            crop3 = image.crop((0, H//4, W//2, 3*H//4))\n",
    "            crop4 = image.crop((W//2, H//4, W, 3*H//4))\n",
    "\n",
    "        f1, f2 = self.n2i[tuple[0]], self.n2i[tuple[1]]\n",
    "        if tuple[-1] in ['right of', 'in-front of']:\n",
    "            f1, f2 = f2, f1\n",
    "        f3, f4 = 0, 0\n",
    "        image = [crop1, crop2, crop3, crop4][i%4]\n",
    "        label = [f1, f2, f3, f4][i%4]\n",
    "\n",
    "        \"\"\"\n",
    "        dataset return\n",
    "        {\n",
    "            \"image\": pilimage,\n",
    "            \"labels\": int\n",
    "        }\n",
    "        \"\"\"\n",
    "        # res = {\n",
    "        #     \"sentence\": text,\n",
    "        #     'image': crop2 if i%2 else crop1,\n",
    "        #     'label': f2 if i%2 else f1,\n",
    "        # }\n",
    "        res = {\n",
    "            \"sentence\": text,\n",
    "            'image': image,\n",
    "            'label': label,\n",
    "        }\n",
    "        return res\n"
   ]
  },
  {
   "cell_type": "code",
   "execution_count": 5,
   "metadata": {},
   "outputs": [
    {
     "name": "stdout",
     "output_type": "stream",
     "text": [
      "['book', 'bowl', 'can', 'cap', 'cup', 'mug', 'plate', 'candle', 'flower', 'fork', 'headphones', 'knife', 'scissors', 'spoon', 'tape']\n",
      "554 training examples, 62 testing examples\n"
     ]
    }
   ],
   "source": [
    "J = json.load(open(\"../data/aggregated/whatsup_vlm_b.json\", \"r\"))\n",
    "annotations = []\n",
    "for a in J:\n",
    "    if a[-1][0] in [\"sunglasses\", \"remote\", \"phone\"] or a[-1][1] in [\"sunglasses\", \"remote\", \"phone\"]: continue\n",
    "    else: annotations.append(a)\n",
    "occurrences = [a[-1][0] for a in annotations] + [a[-1][1] for a in annotations]\n",
    "c = Counter(occurrences)\n",
    "\n",
    "classes = sorted(c.keys(), key=lambda x: (-c[x], x))\n",
    "\n",
    "print(classes)\n",
    "D = dataset(\n",
    "    classes, \n",
    "    imdir = \"/data/yingshac/clevr_control/data/\",\n",
    "    data = annotations,\n",
    "    imsize=64\n",
    ")\n",
    "train_ratio = 0.9\n",
    "train_num = int(train_ratio*len(D))\n",
    "val_num = len(D) - train_num\n",
    "train_data, val_data = random_split(D, [train_num, val_num])\n",
    "print(f\"{len(train_data)} training examples, {len(val_data)} testing examples\")"
   ]
  },
  {
   "cell_type": "code",
   "execution_count": 26,
   "metadata": {},
   "outputs": [],
   "source": [
    "def train(net, dataloader, optimizer, criterion, device):\n",
    "    net.train()\n",
    "    running_loss, running_acc = [], []\n",
    "    for batch in tqdm(dataloader):\n",
    "        # zero the parameter gradients\n",
    "        optimizer.zero_grad()\n",
    "\n",
    "        # forward + backward + optimize\n",
    "        bs = len(batch['pixel_values'])\n",
    "        outputs = net(batch['pixel_values'].to(device))['logits']# (bs, outputs_per_sample*num_classes)\n",
    "\n",
    "        labels = batch['label'].to(device)\n",
    "\n",
    "        loss = criterion(outputs, labels)\n",
    "        acc, _ = get_acc(outputs, labels)\n",
    "\n",
    "        loss.backward()\n",
    "        optimizer.step()\n",
    "\n",
    "        # print statistics\n",
    "        running_loss.append(loss.item())\n",
    "        #print(acc)\n",
    "        running_acc.append(acc)\n",
    "    return np.mean(running_loss), np.mean(running_acc)\n",
    "\n",
    "def val(net, dataloader, criterion, device, verbose):\n",
    "    net.eval()\n",
    "    epoch_loss, epoch_acc = [], []\n",
    "\n",
    "    with torch.no_grad():\n",
    "        for batch in dataloader:\n",
    "            bs = len(batch['pixel_values'])\n",
    "            outputs = net(batch['pixel_values'].to(device))['logits'] # (bs, outputs_per_sample*num_classes)\n",
    "\n",
    "            labels = batch['label'].to(device)\n",
    "\n",
    "            loss = criterion(outputs, labels)\n",
    "            acc, _ = get_acc(outputs, labels, verbose=verbose)\n",
    "\n",
    "            # print statistics\n",
    "            epoch_loss.append(loss.item())\n",
    "            epoch_acc.append(acc)\n",
    "        \n",
    "    return np.mean(epoch_loss), np.mean(epoch_acc)"
   ]
  },
  {
   "cell_type": "code",
   "execution_count": 27,
   "metadata": {},
   "outputs": [
    {
     "name": "stderr",
     "output_type": "stream",
     "text": [
      "Some weights of ViTForImageClassification were not initialized from the model checkpoint at google/vit-base-patch16-224-in21k and are newly initialized: ['classifier.weight', 'classifier.bias']\n",
      "You should probably TRAIN this model on a down-stream task to be able to use it for predictions and inference.\n"
     ]
    },
    {
     "name": "stdout",
     "output_type": "stream",
     "text": [
      "\n"
     ]
    }
   ],
   "source": [
    "labels = D.classes\n",
    "\n",
    "model = ViTForImageClassification.from_pretrained(\n",
    "    model_name_or_path,\n",
    "    num_labels=len(labels),\n",
    "    id2label={str(i): c for i, c in enumerate(labels)},\n",
    "    label2id={c: str(i) for i, c in enumerate(labels)}\n",
    ")\n",
    "device = \"cuda\"\n",
    "model.to(device)\n",
    "print()"
   ]
  },
  {
   "cell_type": "code",
   "execution_count": 32,
   "metadata": {},
   "outputs": [
    {
     "name": "stdout",
     "output_type": "stream",
     "text": [
      "['empty', 'book', 'bowl', 'can', 'cap', 'cup', 'mug', 'plate', 'candle', 'flower', 'fork', 'headphones', 'knife', 'scissors', 'spoon', 'tape']\n"
     ]
    }
   ],
   "source": [
    "print(labels)"
   ]
  },
  {
   "cell_type": "code",
   "execution_count": 28,
   "metadata": {},
   "outputs": [],
   "source": [
    "batch_size=16\n",
    "trainloader = torch.utils.data.DataLoader(train_data, batch_size=batch_size, shuffle=True, collate_fn=collate_fn, num_workers=2)\n",
    "testloader = torch.utils.data.DataLoader(val_data, batch_size=batch_size, shuffle=False, collate_fn=collate_fn, num_workers=2)\n",
    "criterion = nn.CrossEntropyLoss().to(device)\n",
    "optimizer = optim.Adam(model.parameters(), lr=2e-4) #, momentum=0.9)"
   ]
  },
  {
   "cell_type": "code",
   "execution_count": 29,
   "metadata": {},
   "outputs": [
    {
     "name": "stdout",
     "output_type": "stream",
     "text": [
      "pilimage image size from dataset.__getitem__():  (32, 32)\n"
     ]
    },
    {
     "name": "stdout",
     "output_type": "stream",
     "text": [
      "image tensor size after processor torch.Size([16, 3, 224, 224])\n"
     ]
    }
   ],
   "source": [
    "print(\"pilimage image size from dataset.__getitem__(): \", train_data[0]['image'].size)\n",
    "batch = next(iter(trainloader))\n",
    "print(\"image tensor size after processor\", batch['pixel_values'].size())"
   ]
  },
  {
   "cell_type": "code",
   "execution_count": 30,
   "metadata": {},
   "outputs": [
    {
     "name": "stdout",
     "output_type": "stream",
     "text": [
      "num_classes =  16\n"
     ]
    },
    {
     "name": "stderr",
     "output_type": "stream",
     "text": [
      "100%|██████████| 35/35 [00:05<00:00,  6.82it/s]\n"
     ]
    },
    {
     "name": "stdout",
     "output_type": "stream",
     "text": [
      "Epoch: 01\n",
      "\tTrain Loss: 1.474 | Train Acc: 66.43%\n",
      "\t Val. Loss: 0.813 |  Val. Acc: 96.65%\n"
     ]
    },
    {
     "name": "stderr",
     "output_type": "stream",
     "text": [
      "100%|██████████| 35/35 [00:05<00:00,  6.85it/s]\n"
     ]
    },
    {
     "name": "stdout",
     "output_type": "stream",
     "text": [
      "Epoch: 02\n",
      "\tTrain Loss: 0.480 | Train Acc: 97.50%\n",
      "\t Val. Loss: 0.311 |  Val. Acc: 98.44%\n"
     ]
    },
    {
     "name": "stderr",
     "output_type": "stream",
     "text": [
      "100%|██████████| 35/35 [00:05<00:00,  6.81it/s]\n"
     ]
    },
    {
     "name": "stdout",
     "output_type": "stream",
     "text": [
      "Epoch: 03\n",
      "\tTrain Loss: 0.203 | Train Acc: 99.64%\n",
      "\t Val. Loss: 0.156 |  Val. Acc: 100.00%\n"
     ]
    },
    {
     "name": "stderr",
     "output_type": "stream",
     "text": [
      "100%|██████████| 35/35 [00:05<00:00,  6.78it/s]\n"
     ]
    },
    {
     "name": "stdout",
     "output_type": "stream",
     "text": [
      "Epoch: 04\n",
      "\tTrain Loss: 0.117 | Train Acc: 100.00%\n",
      "\t Val. Loss: 0.103 |  Val. Acc: 100.00%\n"
     ]
    },
    {
     "name": "stderr",
     "output_type": "stream",
     "text": [
      "100%|██████████| 35/35 [00:05<00:00,  6.74it/s]\n"
     ]
    },
    {
     "name": "stdout",
     "output_type": "stream",
     "text": [
      "Epoch: 05\n",
      "\tTrain Loss: 0.078 | Train Acc: 100.00%\n",
      "\t Val. Loss: 0.074 |  Val. Acc: 100.00%\n"
     ]
    },
    {
     "name": "stderr",
     "output_type": "stream",
     "text": [
      "100%|██████████| 35/35 [00:05<00:00,  6.75it/s]\n"
     ]
    },
    {
     "name": "stdout",
     "output_type": "stream",
     "text": [
      "Epoch: 06\n",
      "\tTrain Loss: 0.058 | Train Acc: 100.00%\n",
      "\t Val. Loss: 0.056 |  Val. Acc: 100.00%\n"
     ]
    },
    {
     "name": "stderr",
     "output_type": "stream",
     "text": [
      " 37%|███▋      | 13/35 [00:02<00:04,  5.29it/s]\n"
     ]
    },
    {
     "ename": "KeyboardInterrupt",
     "evalue": "",
     "output_type": "error",
     "traceback": [
      "\u001b[0;31m---------------------------------------------------------------------------\u001b[0m",
      "\u001b[0;31mKeyboardInterrupt\u001b[0m                         Traceback (most recent call last)",
      "Cell \u001b[0;32mIn[30], line 9\u001b[0m\n\u001b[1;32m      6\u001b[0m date \u001b[38;5;241m=\u001b[39m datetime\u001b[38;5;241m.\u001b[39mnow(timezone)\u001b[38;5;241m.\u001b[39mstrftime(\u001b[38;5;124m\"\u001b[39m\u001b[38;5;124m%\u001b[39m\u001b[38;5;124mm\u001b[39m\u001b[38;5;132;01m%d\u001b[39;00m\u001b[38;5;124m_\u001b[39m\u001b[38;5;124m%\u001b[39m\u001b[38;5;124mH\u001b[39m\u001b[38;5;124m%\u001b[39m\u001b[38;5;124mM\u001b[39m\u001b[38;5;124m%\u001b[39m\u001b[38;5;124mS\u001b[39m\u001b[38;5;124m\"\u001b[39m)\n\u001b[1;32m      7\u001b[0m \u001b[38;5;28;01mfor\u001b[39;00m epc \u001b[38;5;129;01min\u001b[39;00m \u001b[38;5;28mrange\u001b[39m(\u001b[38;5;241m10\u001b[39m):\n\u001b[0;32m----> 9\u001b[0m     train_loss, train_acc \u001b[38;5;241m=\u001b[39m \u001b[43mtrain\u001b[49m\u001b[43m(\u001b[49m\u001b[43mmodel\u001b[49m\u001b[43m,\u001b[49m\u001b[43m \u001b[49m\u001b[43mtrainloader\u001b[49m\u001b[43m,\u001b[49m\u001b[43m \u001b[49m\u001b[43moptimizer\u001b[49m\u001b[43m,\u001b[49m\u001b[43m \u001b[49m\u001b[43mcriterion\u001b[49m\u001b[43m,\u001b[49m\u001b[43m \u001b[49m\u001b[43mdevice\u001b[49m\u001b[43m)\u001b[49m\n\u001b[1;32m     10\u001b[0m     val_loss, val_acc \u001b[38;5;241m=\u001b[39m val(model, testloader, criterion, device, verbose)\n\u001b[1;32m     12\u001b[0m     \u001b[38;5;28;01mif\u001b[39;00m val_acc \u001b[38;5;241m>\u001b[39m\u001b[38;5;241m=\u001b[39m best_val_acc:\n",
      "Cell \u001b[0;32mIn[26], line 12\u001b[0m, in \u001b[0;36mtrain\u001b[0;34m(net, dataloader, optimizer, criterion, device)\u001b[0m\n\u001b[1;32m      9\u001b[0m bs \u001b[38;5;241m=\u001b[39m \u001b[38;5;28mlen\u001b[39m(batch[\u001b[38;5;124m'\u001b[39m\u001b[38;5;124mpixel_values\u001b[39m\u001b[38;5;124m'\u001b[39m])\n\u001b[1;32m     10\u001b[0m outputs \u001b[38;5;241m=\u001b[39m net(batch[\u001b[38;5;124m'\u001b[39m\u001b[38;5;124mpixel_values\u001b[39m\u001b[38;5;124m'\u001b[39m]\u001b[38;5;241m.\u001b[39mto(device))[\u001b[38;5;124m'\u001b[39m\u001b[38;5;124mlogits\u001b[39m\u001b[38;5;124m'\u001b[39m]\u001b[38;5;66;03m# (bs, outputs_per_sample*num_classes)\u001b[39;00m\n\u001b[0;32m---> 12\u001b[0m labels \u001b[38;5;241m=\u001b[39m \u001b[43mbatch\u001b[49m\u001b[43m[\u001b[49m\u001b[38;5;124;43m'\u001b[39;49m\u001b[38;5;124;43mlabel\u001b[39;49m\u001b[38;5;124;43m'\u001b[39;49m\u001b[43m]\u001b[49m\u001b[38;5;241;43m.\u001b[39;49m\u001b[43mto\u001b[49m\u001b[43m(\u001b[49m\u001b[43mdevice\u001b[49m\u001b[43m)\u001b[49m\n\u001b[1;32m     14\u001b[0m loss \u001b[38;5;241m=\u001b[39m criterion(outputs, labels)\n\u001b[1;32m     15\u001b[0m acc, _ \u001b[38;5;241m=\u001b[39m get_acc(outputs, labels)\n",
      "\u001b[0;31mKeyboardInterrupt\u001b[0m: "
     ]
    }
   ],
   "source": [
    "best_val_loss = float('inf')\n",
    "best_val_acc = 0.0\n",
    "verbose=False\n",
    "print(\"num_classes = \", len(labels))\n",
    "\n",
    "date = datetime.now(timezone).strftime(\"%m%d_%H%M%S\")\n",
    "for epc in range(10):\n",
    "\n",
    "    train_loss, train_acc = train(model, trainloader, optimizer, criterion, device)\n",
    "    val_loss, val_acc = val(model, testloader, criterion, device, verbose)\n",
    "\n",
    "    if val_acc >= best_val_acc:\n",
    "        best_val_acc = val_acc\n",
    "        torch.save(model.state_dict(), os.path.join(\"/data/yingshac/clevr_control/autoeval\", \"{}_{}.pt\".format(model_name_or_path.split(\"/\")[-1], date)))\n",
    "    \n",
    "    print(f'Epoch: {epc+1:02}')\n",
    "    print(f'\\tTrain Loss: {train_loss:.3f} | Train Acc: {train_acc*100:.2f}%')\n",
    "    print(f'\\t Val. Loss: {val_loss:.3f} |  Val. Acc: {val_acc*100:.2f}%')\n",
    "    \n",
    "print(\"Training: finish\\n\")\n",
    "\n"
   ]
  },
  {
   "cell_type": "code",
   "execution_count": 145,
   "metadata": {},
   "outputs": [
    {
     "data": {
      "image/jpeg": "[encoded data removed]",
      "image/png": "[encoded data removed]",
      "text/plain": [
       "<PIL.Image.Image image mode=RGB size=32x32>"
      ]
     },
     "execution_count": 145,
     "metadata": {},
     "output_type": "execute_result"
    }
   ],
   "source": [
    "i = random.choice(list(range(len(train_data))))\n",
    "train_data[i]['image']"
   ]
  },
  {
   "cell_type": "code",
   "execution_count": 146,
   "metadata": {},
   "outputs": [
    {
     "name": "stdout",
     "output_type": "stream",
     "text": [
      "empty 0\n",
      "A cap to the right of a knife\n"
     ]
    }
   ],
   "source": [
    "print(D.classes[train_data[i]['label']], train_data[i]['label'])\n",
    "print(train_data[i]['sentence'])"
   ]
  },
  {
   "cell_type": "markdown",
   "metadata": {},
   "source": [
    "### Test Finetuned ViT on Generated Samples (singleobj)"
   ]
  },
  {
   "cell_type": "code",
   "execution_count": 18,
   "metadata": {},
   "outputs": [],
   "source": [
    "#classes = ['empty', 'mug', 'plate', 'book', 'bowl', 'can', 'cap', 'cup', 'remote', 'sunglasses', \n",
    "#          'tape', 'candle', 'flower', 'fork', 'headphones', 'scissors', 'spoon', 'knife', 'phone']\n",
    "classes = ['empty', 'book', 'bowl', 'can', 'cap', 'cup', 'mug', 'plate', 'candle', 'flower', 'fork', 'headphones', 'knife', 'scissors', 'spoon', 'tape']\n",
    "\n",
    "n2i = {n:i for i, n in enumerate(classes)}\n",
    "device = \"cuda\"\n",
    "ckpt_dir = \"/data/yingshac/clevr_control/autoeval/vit-base-patch16-224-in21k_0311_211459.pt\""
   ]
  },
  {
   "cell_type": "code",
   "execution_count": 19,
   "metadata": {},
   "outputs": [
    {
     "data": {
      "text/plain": [
       "16"
      ]
     },
     "execution_count": 19,
     "metadata": {},
     "output_type": "execute_result"
    }
   ],
   "source": [
    "len(classes)"
   ]
  },
  {
   "cell_type": "code",
   "execution_count": 29,
   "metadata": {},
   "outputs": [
    {
     "name": "stdout",
     "output_type": "stream",
     "text": [
      "18 18\n",
      "36 36\n",
      "54 54\n",
      "72 72\n",
      "90 90\n",
      "108 108\n",
      "126 126\n",
      "144 144\n",
      "162 162\n",
      "180 180\n",
      "198 198\n",
      "216 216\n",
      "234 234\n",
      "252 252\n",
      "270 270\n",
      "288 288\n",
      "306 306\n",
      "324 324\n",
      "342 342\n",
      "360 360\n",
      "378 378\n",
      "396 396\n",
      "414 414\n",
      "432 432\n",
      "450 450\n",
      "468 468\n",
      "486 486\n",
      "504 504\n",
      "522 522\n",
      "540 540\n",
      "558 558\n",
      "576 576\n",
      "594 594\n",
      "612 612\n",
      "630 630\n",
      "648 648\n",
      "666 666\n",
      "684 684\n",
      "702 702\n",
      "720 720\n",
      "738 738\n",
      "756 756\n",
      "774 774\n",
      "792 792\n",
      "810 810\n",
      "828 828\n",
      "846 846\n",
      "864 864\n",
      "882 882\n",
      "900 900\n",
      "918 918\n",
      "936 936\n",
      "954 954\n",
      "972 972\n",
      "990 990\n",
      "1008 1008\n",
      "1026 1026\n",
      "1044 1044\n",
      "1062 1062\n",
      "1080 1080\n",
      "1098 1098\n",
      "1116 1116\n",
      "1134 1134\n",
      "1152 1152\n",
      "1170 1170\n",
      "1188 1188\n",
      "1206 1206\n",
      "1224 1224\n",
      "1242 1242\n",
      "1260 1260\n",
      "1278 1278\n",
      "1296 1296\n",
      "1314 1314\n",
      "1332 1332\n",
      "1350 1350\n",
      "1368 1368\n",
      "1386 1386\n",
      "1404 1404\n",
      "1422 1422\n",
      "1440 1440\n",
      "1458 1458\n",
      "1476 1476\n",
      "1494 1494\n",
      "1512 1512\n",
      "1530 1530\n",
      "1548 1548\n",
      "1566 1566\n",
      "1584 1584\n",
      "1602 1602\n",
      "1620 1620\n",
      "1638 1638\n",
      "1656 1656\n",
      "1674 1674\n",
      "1692 1692\n",
      "1710 1710\n",
      "1728 1728\n",
      "1746 1746\n",
      "1764 1764\n",
      "1782 1782\n",
      "1800 1800\n"
     ]
    }
   ],
   "source": [
    "handle = \"0514_083120\"\n",
    "whichset=\"test\"\n",
    "output_folder=\"output_rbt\"\n",
    "sample_dir = f\"../scripts/diffuser_real/{output_folder}/{handle}/infr/{whichset}_sentences\"\n",
    "epc = sorted([f for f in os.listdir(sample_dir)], key=lambda x: int(x[5:].split(\"_\")[0]))[-1]\n",
    "imsize = 128\n",
    "\n",
    "pilimages, gth_captions = [], []\n",
    "\n",
    "for f in os.listdir(f\"{sample_dir}/{epc}/samples\"):\n",
    "    if \".txt\" in f: continue\n",
    "    im = Image.open(f\"{sample_dir}/{epc}/samples/{f}\")\n",
    "    W, H = im.size\n",
    "    nrows, ncols = H//imsize, W//imsize\n",
    "    captions_file = f.replace(\".png\", \".txt\")\n",
    "    with open(f\"{sample_dir}/{epc}/samples/{captions_file}\", \"r\") as captions:\n",
    "        gth_captions.extend([x.strip() for x in captions.readlines()])\n",
    "    for r in range(nrows):\n",
    "        for c in range(ncols):\n",
    "            left, top = c*imsize, r*imsize\n",
    "            right, bottom = left+imsize, top+imsize\n",
    "            pilimage = im.crop((left, top, right, bottom))\n",
    "            if np.sum(pilimage) == 255*3*imsize*imsize: continue # skip placeholders which are purely white images\n",
    "            pilimages.append(pilimage)\n",
    "    print(len(pilimages), len(gth_captions))"
   ]
  },
  {
   "cell_type": "code",
   "execution_count": 21,
   "metadata": {},
   "outputs": [
    {
     "name": "stderr",
     "output_type": "stream",
     "text": [
      "Some weights of ViTForImageClassification were not initialized from the model checkpoint at google/vit-base-patch16-224-in21k and are newly initialized: ['classifier.weight', 'classifier.bias']\n",
      "You should probably TRAIN this model on a down-stream task to be able to use it for predictions and inference.\n"
     ]
    },
    {
     "name": "stdout",
     "output_type": "stream",
     "text": [
      "\n"
     ]
    }
   ],
   "source": [
    "model = ViTForImageClassification.from_pretrained(\n",
    "    model_name_or_path,\n",
    "    num_labels=len(classes),\n",
    "    id2label={str(i): c for i, c in enumerate(classes)},\n",
    "    label2id={c: str(i) for i, c in enumerate(classes)}\n",
    ")\n",
    "\n",
    "state_dict = torch.load(ckpt_dir, map_location=device)\n",
    "model.load_state_dict(state_dict)\n",
    "model.to(device)\n",
    "print()"
   ]
  },
  {
   "cell_type": "code",
   "execution_count": 41,
   "metadata": {},
   "outputs": [],
   "source": [
    "ACC = []\n",
    "gth_labels, vit_pred = [], []\n",
    "eval_batch_size = 16\n",
    "outer_batch = []\n",
    "dataiter = iter(zip(pilimages, gth_captions))\n",
    "\n",
    "#i = random.choice(list(range(len(pilimages))))\n",
    "#image, text = pilimages[i], gth_captions[i]\n",
    "# filename = random.choice(os.listdir(\"/data/yingshac/clevr_control/data/whatsup_vlms/controlled_clevr/\"))[:-5]\n",
    "# image = Image.open(f\"/data/yingshac/clevr_control/data/whatsup_vlms/controlled_clevr/{filename}.jpeg\").crop((160, 0, 1120, 960)).resize((64, 64))\n",
    "# text = \" \".join(filename.split(\"_\"))\n",
    "while True:\n",
    "    try:\n",
    "        image, text = next(dataiter)\n",
    "        if any([k == text.split()[-1] for k in [\"sunglasses\", \"remote\", \"phone\"]]): continue\n",
    "        outer_batch.append({\n",
    "            \"image\": image,\n",
    "            \"label\": n2i[text.split()[-1]]\n",
    "        })\n",
    "        if len(outer_batch) == eval_batch_size:\n",
    "            input_batch = collate_fn(outer_batch)\n",
    "            labels = input_batch['label'].to(device)\n",
    "            outputs = model(input_batch['pixel_values'].to(device))['logits']\n",
    "\n",
    "            for b in range(eval_batch_size):\n",
    "                acc, pred = get_acc(outputs[b:b+1], labels[b:b+1], False)\n",
    "                ACC.append(acc)\n",
    "                vit_pred.append(pred.item())\n",
    "                gth_labels.append(labels[b])\n",
    "            outer_batch = []\n",
    "    except StopIteration:\n",
    "        if len(outer_batch):\n",
    "            input_batch = collate_fn(outer_batch)\n",
    "            labels = input_batch['label'].to(device)\n",
    "            outputs = model(input_batch['pixel_values'].to(device))['logits']\n",
    "            for b in range(len(outer_batch)):\n",
    "                acc, pred = get_acc(outputs[b:b+1], labels[b:b+1], False)\n",
    "                ACC.append(acc)\n",
    "                vit_pred.append(pred.item())\n",
    "                gth_labels.append(labels[b])\n",
    "        break\n",
    "\n",
    "\n",
    "    "
   ]
  },
  {
   "cell_type": "code",
   "execution_count": 42,
   "metadata": {},
   "outputs": [
    {
     "name": "stdout",
     "output_type": "stream",
     "text": [
      "1500\n",
      "acc =  0.9827\n"
     ]
    }
   ],
   "source": [
    "print(len(ACC))\n",
    "print(\"acc = \", round(np.mean(ACC), 4))\n",
    "#print(np.mean([a==1 for a in ACC]))"
   ]
  },
  {
   "cell_type": "code",
   "execution_count": 47,
   "metadata": {},
   "outputs": [
    {
     "data": {
      "text/plain": [
       "(128, 128)"
      ]
     },
     "execution_count": 47,
     "metadata": {},
     "output_type": "execute_result"
    }
   ],
   "source": [
    "pilimages[0].size"
   ]
  },
  {
   "cell_type": "code",
   "execution_count": 46,
   "metadata": {},
   "outputs": [
    {
     "name": "stdout",
     "output_type": "stream",
     "text": [
      "mistake plate for bowl\n",
      "mistake plate for bowl\n",
      "mistake headphones for scissors\n",
      "mistake plate for bowl\n",
      "mistake headphones for scissors\n",
      "mistake plate for bowl\n",
      "mistake plate for bowl\n",
      "mistake plate for bowl\n",
      "mistake cup for can\n",
      "mistake plate for bowl\n",
      "mistake headphones for scissors\n",
      "mistake plate for bowl\n",
      "mistake plate for bowl\n",
      "mistake plate for bowl\n",
      "mistake headphones for scissors\n",
      "mistake plate for bowl\n",
      "mistake plate for bowl\n",
      "mistake plate for bowl\n",
      "mistake plate for bowl\n",
      "mistake headphones for scissors\n",
      "mistake plate for bowl\n",
      "mistake tape for candle\n",
      "mistake plate for bowl\n",
      "mistake plate for bowl\n",
      "mistake plate for bowl\n",
      "mistake plate for bowl\n"
     ]
    }
   ],
   "source": [
    "for gth_label, acc, pred_lable in zip(gth_labels, ACC, vit_pred):\n",
    "    if acc == 0:\n",
    "        print(f\"mistake {classes[gth_label]} for {classes[pred_lable]}\")"
   ]
  },
  {
   "cell_type": "markdown",
   "metadata": {},
   "source": [
    "### Test Finetuned ViT on Generated Samples (two objects)"
   ]
  },
  {
   "cell_type": "code",
   "execution_count": null,
   "metadata": {},
   "outputs": [],
   "source": [
    "classes = ['empty', 'mug', 'plate', 'book', 'bowl', 'can', 'cap', 'cup', 'remote', 'sunglasses', \n",
    "          'tape', 'candle', 'flower', 'fork', 'headphones', 'scissors', 'spoon', 'knife', 'phone']\n",
    "n2i = {n:i for i, n in enumerate(classes)}\n",
    "device = \"cuda\"\n",
    "ckpt_dir = \"/data/yingshac/clevr_control/autoeval/vit-base-patch16-224-in21k_0303_182910.pt\""
   ]
  },
  {
   "cell_type": "code",
   "execution_count": 62,
   "metadata": {},
   "outputs": [],
   "source": [
    "def process_gen_sample(pilimage, gth_caption, whichset):\n",
    "    W, H = pilimage.size\n",
    "    crop1 = pilimage.crop((W//4, 0, 3*W//4, H//2)) # behind\n",
    "    crop2 = pilimage.crop((W//4, H//2, 3*W//4, H)) # front\n",
    "    crop3 = pilimage.crop((0, H//4, W//2, 3*H//4)) # left\n",
    "    crop4 = pilimage.crop((W//2, H//4, W, 3*H//4)) # right\n",
    "    tmp = gth_caption.split()\n",
    "    if whichset == \"train\":\n",
    "        f1, f2 = tmp[1], tmp[-1]\n",
    "        r = \" \".join(tmp[2:-2])\n",
    "    elif whichset == \"test\":\n",
    "        f1, f2 = tmp[0], tmp[-1]\n",
    "        r = \" \".join(tmp[1:-1])\n",
    "    else: raise ValueError(f\"Invalid whichset: {whichset}\")\n",
    "    T = (f1, f2, r)\n",
    "\n",
    "    if \"left of\" in r: labels, crops = [n2i[f1], n2i[f2]], [crop3, crop4]\n",
    "    elif \"right of\" in r: labels, crops = [n2i[f2], n2i[f1]], [crop3, crop4]\n",
    "    elif \"in-front of\" in r: labels, crops = [n2i[f2], n2i[f1]], [crop1, crop2]\n",
    "    elif \"behind\" in r: labels, crops = [n2i[f1], n2i[f2]], [crop1, crop2]\n",
    "    else: raise ValueError(f\"Invalid relation: {r}\")\n",
    "    \n",
    "    return [{\n",
    "        \"image\": crop,\n",
    "        \"label\": label,\n",
    "    } for crop, label in zip(crops, labels)], T"
   ]
  },
  {
   "cell_type": "code",
   "execution_count": 110,
   "metadata": {},
   "outputs": [
    {
     "name": "stdout",
     "output_type": "stream",
     "text": [
      "60 60\n",
      "108 108\n",
      "168 168\n",
      "228 228\n",
      "288 288\n",
      "348 348\n",
      "408 408\n"
     ]
    }
   ],
   "source": [
    "handle = \"0303_195048\"\n",
    "whichset=\"train\"\n",
    "sample_dir = f\"../scripts/diffuser_real/output/{handle}/infr/{whichset}_sentences\"\n",
    "epc = sorted([f for f in os.listdir(sample_dir)], key=lambda x: int(x[5:].split(\"_\")[0]))[-1]\n",
    "imsize = 64\n",
    "\n",
    "pilimages, gth_captions = [], []\n",
    "\n",
    "for f in os.listdir(f\"{sample_dir}/{epc}/samples\"):\n",
    "    if \".txt\" in f: continue\n",
    "    im = Image.open(f\"{sample_dir}/{epc}/samples/{f}\")\n",
    "    W, H = im.size\n",
    "    nrows, ncols = H//imsize, W//imsize\n",
    "    captions_file = f.replace(\".png\", \".txt\")\n",
    "    with open(f\"{sample_dir}/{epc}/samples/{captions_file}\", \"r\") as captions:\n",
    "        gth_captions.extend([x.strip() for x in captions.readlines()])\n",
    "    for r in range(nrows):\n",
    "        for c in range(ncols):\n",
    "            left, top = c*imsize, r*imsize\n",
    "            right, bottom = left+imsize, top+imsize\n",
    "            pilimage = im.crop((left, top, right, bottom))\n",
    "            if np.sum(pilimage) == 255*3*64*64: continue # skip placeholders which are purely white images\n",
    "            pilimages.append(pilimage)\n",
    "    print(len(pilimages), len(gth_captions))"
   ]
  },
  {
   "cell_type": "code",
   "execution_count": 111,
   "metadata": {},
   "outputs": [
    {
     "name": "stderr",
     "output_type": "stream",
     "text": [
      "Some weights of ViTForImageClassification were not initialized from the model checkpoint at google/vit-base-patch16-224-in21k and are newly initialized: ['classifier.weight', 'classifier.bias']\n",
      "You should probably TRAIN this model on a down-stream task to be able to use it for predictions and inference.\n"
     ]
    },
    {
     "name": "stdout",
     "output_type": "stream",
     "text": [
      "\n"
     ]
    }
   ],
   "source": [
    "model = ViTForImageClassification.from_pretrained(\n",
    "    model_name_or_path,\n",
    "    num_labels=len(classes),\n",
    "    id2label={str(i): c for i, c in enumerate(classes)},\n",
    "    label2id={c: str(i) for i, c in enumerate(classes)}\n",
    ")\n",
    "\n",
    "state_dict = torch.load(ckpt_dir, map_location=device)\n",
    "model.load_state_dict(state_dict)\n",
    "model.to(device)\n",
    "print()"
   ]
  },
  {
   "cell_type": "code",
   "execution_count": 113,
   "metadata": {},
   "outputs": [],
   "source": [
    "ACC = []\n",
    "vit_pred = []\n",
    "eval_batch_size = 16\n",
    "outer_batch = []\n",
    "dataiter = iter(zip(pilimages, gth_captions))\n",
    "\n",
    "#i = random.choice(list(range(len(pilimages))))\n",
    "#image, text = pilimages[i], gth_captions[i]\n",
    "# filename = random.choice(os.listdir(\"/data/yingshac/clevr_control/data/whatsup_vlms/controlled_clevr/\"))[:-5]\n",
    "# image = Image.open(f\"/data/yingshac/clevr_control/data/whatsup_vlms/controlled_clevr/{filename}.jpeg\").crop((160, 0, 1120, 960)).resize((64, 64))\n",
    "# text = \" \".join(filename.split(\"_\"))\n",
    "while True:\n",
    "    try:\n",
    "        image, text = next(dataiter)\n",
    "        batch, T = process_gen_sample(image, text, whichset)\n",
    "        outer_batch.extend(batch)\n",
    "        if len(outer_batch) == 2*eval_batch_size:\n",
    "            input_batch = collate_fn(outer_batch)\n",
    "            labels = input_batch['label'].to(device)\n",
    "            outputs = model(input_batch['pixel_values'].to(device))['logits']\n",
    "\n",
    "            for b in range(eval_batch_size):\n",
    "                acc, pred = get_acc(outputs[2*b:2*b+2], labels[2*b:2*b+2], False)\n",
    "                ACC.append(acc)\n",
    "                vit_pred.append(pred)\n",
    "            outer_batch = []\n",
    "    except StopIteration:\n",
    "        if len(outer_batch):\n",
    "            input_batch = collate_fn(outer_batch)\n",
    "            labels = input_batch['label'].to(device)\n",
    "            outputs = model(input_batch['pixel_values'].to(device))['logits']\n",
    "            for b in range(len(outer_batch)//2):\n",
    "                acc, pred = get_acc(outputs[2*b:2*b+2], labels[2*b:2*b+2], False)\n",
    "                ACC.append(acc)\n",
    "                vit_pred.append(pred)\n",
    "        break\n",
    "\n",
    "\n",
    "    "
   ]
  },
  {
   "cell_type": "code",
   "execution_count": 114,
   "metadata": {},
   "outputs": [
    {
     "name": "stdout",
     "output_type": "stream",
     "text": [
      "408\n",
      "0.4411764705882353\n",
      "0.3088235294117647\n"
     ]
    }
   ],
   "source": [
    "print(len(ACC))\n",
    "print(np.mean(ACC))\n",
    "print(np.mean([a==1 for a in ACC]))"
   ]
  },
  {
   "cell_type": "code",
   "execution_count": 115,
   "metadata": {},
   "outputs": [
    {
     "data": {
      "text/plain": [
       "['0_0_0.txt',\n",
       " '0_0_2.png',\n",
       " '1_0_1.txt',\n",
       " '1_0_2.png',\n",
       " '0_0_1.txt',\n",
       " '1_0_0.txt',\n",
       " '0_0_3.png',\n",
       " '0_0_0.png',\n",
       " '1_0_1.png',\n",
       " '0_0_2.txt',\n",
       " '0_0_1.png',\n",
       " '1_0_2.txt',\n",
       " '0_0_3.txt',\n",
       " '1_0_0.png']"
      ]
     },
     "execution_count": 115,
     "metadata": {},
     "output_type": "execute_result"
    }
   ],
   "source": [
    "os.listdir(f\"{sample_dir}/{epc}/samples\")"
   ]
  },
  {
   "cell_type": "code",
   "execution_count": 107,
   "metadata": {},
   "outputs": [
    {
     "name": "stdout",
     "output_type": "stream",
     "text": [
      "1 1.0\n",
      "2 1.0\n",
      "3 1.0\n",
      "4 0.0\n",
      "5 1.0\n",
      "6 0.0\n",
      "7 0.5\n",
      "8 1.0\n",
      "9 1.0\n",
      "10 0.0\n",
      "11 0.0\n",
      "12 0.0\n",
      "13 0.0\n",
      "14 1.0\n",
      "15 0.5\n",
      "16 1.0\n",
      "17 0.5\n",
      "18 1.0\n",
      "19 0.5\n",
      "20 0.0\n",
      "21 0.5\n",
      "22 0.0\n",
      "23 1.0\n",
      "24 0.0\n",
      "25 0.0\n",
      "26 0.0\n",
      "27 1.0\n",
      "28 1.0\n",
      "29 1.0\n",
      "30 0.0\n",
      "31 0.0\n",
      "32 0.0\n",
      "33 0.5\n",
      "34 1.0\n",
      "35 1.0\n",
      "36 0.0\n",
      "37 1.0\n",
      "38 1.0\n",
      "39 0.0\n",
      "40 0.0\n",
      "41 0.5\n",
      "42 1.0\n",
      "43 0.0\n",
      "44 0.0\n",
      "45 0.5\n",
      "46 0.5\n",
      "47 1.0\n",
      "48 1.0\n",
      "49 1.0\n",
      "50 0.5\n",
      "51 1.0\n",
      "52 0.5\n",
      "53 1.0\n",
      "54 1.0\n",
      "55 1.0\n",
      "56 1.0\n",
      "57 0.0\n",
      "58 0.0\n",
      "59 0.0\n",
      "60 1.0\n",
      "61 0.5\n",
      "62 0.0\n",
      "63 0.5\n",
      "64 1.0\n",
      "65 0.0\n",
      "66 0.0\n",
      "67 0.0\n",
      "68 1.0\n",
      "69 0.0\n",
      "70 0.0\n",
      "71 1.0\n",
      "72 0.0\n",
      "73 0.0\n",
      "74 0.0\n",
      "75 1.0\n",
      "76 1.0\n",
      "77 0.5\n",
      "78 0.0\n",
      "79 0.0\n",
      "80 0.0\n",
      "81 0.5\n",
      "82 0.5\n",
      "83 0.0\n",
      "84 0.5\n",
      "85 0.0\n",
      "86 0.0\n",
      "87 0.5\n",
      "88 1.0\n",
      "89 1.0\n",
      "90 1.0\n",
      "91 0.5\n",
      "92 0.0\n",
      "93 0.0\n",
      "94 1.0\n",
      "95 0.0\n",
      "96 1.0\n",
      "97 1.0\n",
      "98 1.0\n",
      "99 1.0\n",
      "100 0.0\n",
      "101 1.0\n",
      "102 1.0\n",
      "103 0.0\n",
      "104 0.0\n",
      "105 1.0\n",
      "106 1.0\n",
      "107 0.0\n",
      "108 0.0\n",
      "109 0.0\n",
      "110 1.0\n",
      "111 0.5\n",
      "112 1.0\n",
      "113 0.0\n",
      "114 0.0\n",
      "115 0.0\n",
      "116 0.5\n",
      "117 0.0\n",
      "118 1.0\n",
      "119 1.0\n",
      "120 0.0\n",
      "121 1.0\n",
      "122 1.0\n",
      "123 0.0\n",
      "124 1.0\n",
      "125 0.5\n",
      "126 0.0\n",
      "127 0.5\n",
      "128 0.0\n",
      "129 0.0\n",
      "130 0.0\n",
      "131 0.0\n",
      "132 1.0\n",
      "133 0.0\n",
      "134 0.0\n",
      "135 0.0\n",
      "136 0.0\n",
      "137 0.0\n",
      "138 0.0\n",
      "139 0.5\n",
      "140 0.0\n",
      "141 0.0\n",
      "142 1.0\n",
      "143 1.0\n",
      "144 0.5\n",
      "145 1.0\n",
      "146 1.0\n",
      "147 0.0\n",
      "148 1.0\n",
      "149 0.0\n",
      "150 1.0\n",
      "151 1.0\n",
      "152 0.0\n",
      "153 0.0\n",
      "154 1.0\n",
      "155 1.0\n",
      "156 0.5\n",
      "157 0.0\n",
      "158 1.0\n",
      "159 0.0\n",
      "160 0.5\n",
      "161 0.0\n",
      "162 0.0\n",
      "163 1.0\n",
      "164 0.0\n",
      "165 0.5\n",
      "166 0.0\n",
      "167 0.0\n",
      "168 1.0\n",
      "169 0.5\n",
      "170 0.0\n",
      "171 0.5\n",
      "172 0.0\n",
      "173 0.0\n",
      "174 0.0\n",
      "175 1.0\n",
      "176 1.0\n",
      "177 1.0\n",
      "178 1.0\n",
      "179 0.0\n",
      "180 1.0\n",
      "181 0.5\n",
      "182 0.0\n",
      "183 0.0\n",
      "184 0.5\n",
      "185 1.0\n",
      "186 0.0\n",
      "187 0.5\n",
      "188 0.0\n",
      "189 0.5\n",
      "190 0.0\n",
      "191 1.0\n",
      "192 1.0\n",
      "193 0.5\n",
      "194 0.5\n",
      "195 1.0\n",
      "196 1.0\n",
      "197 0.5\n",
      "198 1.0\n",
      "199 1.0\n",
      "200 1.0\n",
      "201 0.0\n",
      "202 0.0\n",
      "203 0.5\n",
      "204 1.0\n"
     ]
    }
   ],
   "source": [
    "for i, a in enumerate(ACC):\n",
    "    print(i+1, a)"
   ]
  },
  {
   "cell_type": "code",
   "execution_count": 133,
   "metadata": {},
   "outputs": [
    {
     "data": {
      "image/jpeg": "[encoded data removed]",
      "image/png": "[encoded data removed]",
      "text/plain": [
       "<PIL.Image.Image image mode=RGB size=64x64>"
      ]
     },
     "execution_count": 133,
     "metadata": {},
     "output_type": "execute_result"
    }
   ],
   "source": [
    "i = random.choice(list(range(len(pilimages))))\n",
    "#i=9\n",
    "pilimages[i]"
   ]
  },
  {
   "cell_type": "code",
   "execution_count": 134,
   "metadata": {},
   "outputs": [
    {
     "name": "stdout",
     "output_type": "stream",
     "text": [
      "A cup to the left of a flower\n",
      "1.0\n",
      "cup flower\n"
     ]
    }
   ],
   "source": [
    "print(gth_captions[i])\n",
    "print(ACC[i])\n",
    "f1, f2 = vit_pred[i]\n",
    "print(classes[f1], classes[f2])"
   ]
  },
  {
   "cell_type": "markdown",
   "metadata": {},
   "source": [
    "### Visualization for examning color distortion"
   ]
  },
  {
   "cell_type": "code",
   "execution_count": 20,
   "metadata": {},
   "outputs": [],
   "source": [
    "import os, random\n",
    "from PIL import Image \n",
    "from diffusers.utils import make_image_grid"
   ]
  },
  {
   "cell_type": "code",
   "execution_count": 21,
   "metadata": {},
   "outputs": [],
   "source": [
    "imdir = \"/data/yingshac/clevr_control/data/whatsup_vlms/controlled_clevr\"\n",
    "avail_files = [x for x in os.listdir(imdir) if \"left\" in x or \"right\" in x]\n",
    "\n",
    "pilimages = []\n",
    "for f in random.sample(avail_files, 48):\n",
    "    im = Image.open(os.path.join(imdir, f))\n",
    "    W, H = im.size\n",
    "    square_size = min(H, W)\n",
    "    left, top, right, bottom = (W-square_size)//2, (H-square_size)//2, (W-square_size)//2+square_size, (H-square_size)//2+square_size\n",
    "    im = im.crop((left, top, right, bottom)).crop((0, square_size//4, square_size, 3*square_size//4)).resize((64, 32))\n",
    "    pilimages.append(im)\n"
   ]
  },
  {
   "cell_type": "code",
   "execution_count": 22,
   "metadata": {},
   "outputs": [],
   "source": [
    "image_grid = make_image_grid(pilimages, 16, 3)\n",
    "image_grid.save(\"tmp/image_grid.png\")"
   ]
  },
  {
   "cell_type": "code",
   "execution_count": null,
   "metadata": {},
   "outputs": [],
   "source": [
    "pilimages = []\n",
    "pilimage = im.crop((left, top, right, bottom))"
   ]
  },
  {
   "cell_type": "markdown",
   "metadata": {},
   "source": [
    "### Confusion Matrices"
   ]
  },
  {
   "cell_type": "code",
   "execution_count": 33,
   "metadata": {},
   "outputs": [],
   "source": [
    "import os\n",
    "import numpy as np\n",
    "from matplotlib import pyplot as plt"
   ]
  },
  {
   "cell_type": "code",
   "execution_count": 48,
   "metadata": {},
   "outputs": [],
   "source": [
    "whichset = \"test\"\n",
    "folder = f\"../scripts/diffuser_real/confusion_matrices/{whichset}\"\n",
    "#classes = ['empty', 'mug', 'plate', 'book', 'bowl', 'can', 'cap', 'cup', 'remote', 'sunglasses', \n",
    "#          'tape', 'candle', 'flower', 'fork', 'headphones', 'scissors', 'spoon', 'knife', 'phone']\n",
    "classes = ['empty', 'book', 'bowl', 'can', 'cap', 'cup', 'mug', 'plate', 'candle', 'flower', 'fork', \n",
    "           'headphones', 'knife', 'scissors', 'spoon', 'tape']\n",
    "CONFUSION = np.zeros((len(classes), len(classes)))\n",
    "for f in os.listdir(folder):\n",
    "    m = np.load(open(os.path.join(folder, f), \"rb\"))\n",
    "    CONFUSION += m"
   ]
  },
  {
   "cell_type": "code",
   "execution_count": 49,
   "metadata": {},
   "outputs": [
    {
     "data": {
      "image/png": "[encoded data removed]",
      "text/plain": [
       "<Figure size 800x800 with 1 Axes>"
      ]
     },
     "metadata": {},
     "output_type": "display_data"
    }
   ],
   "source": [
    "fig, ax = plt.subplots(figsize=(8,8))\n",
    "im = ax.imshow(CONFUSION, cmap=\"copper_r\")\n",
    "ax.invert_yaxis()\n",
    "ax.xaxis.tick_top()\n",
    "# Show all ticks and label them with the respective list entries\n",
    "ax.set_xticks(np.arange(len(classes)), labels=classes)\n",
    "ax.set_yticks(np.arange(len(classes)), labels=classes)\n",
    "\n",
    "# Rotate the tick labels and set their alignment.\n",
    "plt.setp(ax.get_xticklabels(), rotation=45, ha=\"left\",\n",
    "         rotation_mode=\"anchor\")\n",
    "\n",
    "# Loop over data dimensions and create text annotations.\n",
    "for i in range(len(classes)):\n",
    "    for j in range(len(classes)):\n",
    "        text = ax.text(j, i, int(CONFUSION[i, j]),\n",
    "                       ha=\"center\", va=\"center\", color=\"w\")\n",
    "\n",
    "ax.set_title(f\"Confusion Matrix ({whichset} set)\\nrow r col c => r is mistakenly generated as c\")\n",
    "fig.tight_layout()\n",
    "plt.show()"
   ]
  },
  {
   "cell_type": "code",
   "execution_count": null,
   "metadata": {},
   "outputs": [],
   "source": []
  }
 ],
 "metadata": {
  "kernelspec": {
   "display_name": "venv",
   "language": "python",
   "name": "venv"
  },
  "language_info": {
   "codemirror_mode": {
    "name": "ipython",
    "version": 3
   },
   "file_extension": ".py",
   "mimetype": "text/x-python",
   "name": "python",
   "nbconvert_exporter": "python",
   "pygments_lexer": "ipython3",
   "version": "3.8.10"
  }
 },
 "nbformat": 4,
 "nbformat_minor": 2
}
