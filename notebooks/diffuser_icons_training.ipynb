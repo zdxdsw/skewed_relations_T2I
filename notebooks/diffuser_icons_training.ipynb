{
 "cells": [
  {
   "cell_type": "code",
   "execution_count": 1,
   "metadata": {},
   "outputs": [],
   "source": [
    "import json, os, sys\n",
    "os.chdir(\"../scripts/diffuser_icons/\")\n",
    "from dataset import *\n",
    "from config import ConditionalTrainingConfig\n",
    "from collections import Counter, defaultdict, OrderedDict"
   ]
  },
  {
   "cell_type": "code",
   "execution_count": 2,
   "metadata": {},
   "outputs": [
    {
     "name": "stdout",
     "output_type": "stream",
     "text": [
      "90 soda\n",
      "90 ('∦', 'DejaVuSans')\n"
     ]
    }
   ],
   "source": [
    "max_num_objs = 90\n",
    "with open(\"../../data/nouns/all_nouns.txt\", \"r\") as f:\n",
    "    nouns = [x.strip() for x in f.readlines()][:max_num_objs]\n",
    "print(len(nouns), nouns[0])\n",
    "with open(\"../../data/matplotlib/unicode.jsonl\", \"r\", encoding=\"unicode-escape\") as f: \n",
    "    icons = [(json.loads(x)[0], json.loads(x)[2]) for x in f.readlines()][:max_num_objs]\n",
    "print(len(icons), icons[0])\n"
   ]
  },
  {
   "cell_type": "code",
   "execution_count": 20,
   "metadata": {},
   "outputs": [
    {
     "ename": "KeyboardInterrupt",
     "evalue": "",
     "output_type": "error",
     "traceback": [
      "\u001b[0;31m---------------------------------------------------------------------------\u001b[0m",
      "\u001b[0;31mKeyboardInterrupt\u001b[0m                         Traceback (most recent call last)",
      "Cell \u001b[0;32mIn[20], line 5\u001b[0m\n\u001b[1;32m      3\u001b[0m fontsize \u001b[38;5;241m=\u001b[39m \u001b[38;5;241m28\u001b[39m \u001b[38;5;66;03m#128\u001b[39;00m\n\u001b[1;32m      4\u001b[0m \u001b[38;5;66;03m#train_pairs, test_pairs = create_data_single_obj(nouns, icons, canvas_size=canvas_size, icon_size=icon_size, fontsize=fontsize)\u001b[39;00m\n\u001b[0;32m----> 5\u001b[0m train_pairs, test_pairs \u001b[38;5;241m=\u001b[39m \u001b[43mcreate_data_split2\u001b[49m\u001b[43m(\u001b[49m\u001b[43mnouns\u001b[49m\u001b[43m,\u001b[49m\u001b[43m \u001b[49m\u001b[43micons\u001b[49m\u001b[43m,\u001b[49m\u001b[43m \u001b[49m\u001b[43mcanvas_size\u001b[49m\u001b[38;5;241;43m=\u001b[39;49m\u001b[43mcanvas_size\u001b[49m\u001b[43m,\u001b[49m\u001b[43m \u001b[49m\u001b[43micon_size\u001b[49m\u001b[38;5;241;43m=\u001b[39;49m\u001b[43micon_size\u001b[49m\u001b[43m,\u001b[49m\u001b[43m \u001b[49m\u001b[43mfontsize\u001b[49m\u001b[38;5;241;43m=\u001b[39;49m\u001b[43mfontsize\u001b[49m\u001b[43m)\u001b[49m\n\u001b[1;32m      6\u001b[0m \u001b[38;5;28mprint\u001b[39m(\u001b[38;5;28mlen\u001b[39m(train_pairs), \u001b[38;5;28mlen\u001b[39m(test_pairs))\n",
      "File \u001b[0;32m~/workspace/clevr_control/scripts/diffuser_icons/dataset.py:118\u001b[0m, in \u001b[0;36mcreate_data_split2\u001b[0;34m(nouns, icons, canvas_size, icon_size, fontsize)\u001b[0m\n\u001b[1;32m    114\u001b[0m     \u001b[38;5;28;01melse\u001b[39;00m: B \u001b[38;5;241m=\u001b[39m \u001b[38;5;124m\"\u001b[39m\u001b[38;5;124ma \u001b[39m\u001b[38;5;124m\"\u001b[39m\u001b[38;5;241m+\u001b[39m_B\n\u001b[1;32m    115\u001b[0m     \u001b[38;5;28;01mfor\u001b[39;00m r \u001b[38;5;129;01min\u001b[39;00m RELATIONS: \n\u001b[1;32m    116\u001b[0m         train_pairs\u001b[38;5;241m.\u001b[39mappend((\n\u001b[1;32m    117\u001b[0m             r\u001b[38;5;241m.\u001b[39mformat(A, B),\n\u001b[0;32m--> 118\u001b[0m             \u001b[43mdraw_icon\u001b[49m\u001b[43m(\u001b[49m\u001b[43municode1\u001b[49m\u001b[43m,\u001b[49m\u001b[43m \u001b[49m\u001b[43municode2\u001b[49m\u001b[43m,\u001b[49m\u001b[43m \u001b[49m\u001b[43mcanvas_size\u001b[49m\u001b[38;5;241;43m=\u001b[39;49m\u001b[43mcanvas_size\u001b[49m\u001b[43m,\u001b[49m\u001b[43m \u001b[49m\u001b[43micon_size\u001b[49m\u001b[38;5;241;43m=\u001b[39;49m\u001b[43micon_size\u001b[49m\u001b[43m,\u001b[49m\u001b[43m \u001b[49m\u001b[43mfontsize\u001b[49m\u001b[38;5;241;43m=\u001b[39;49m\u001b[43mfontsize\u001b[49m\u001b[43m)\u001b[49m,\n\u001b[1;32m    119\u001b[0m         ))   \n\u001b[1;32m    120\u001b[0m \u001b[38;5;28;01melif\u001b[39;00m i \u001b[38;5;241m>\u001b[39m j:\n\u001b[1;32m    121\u001b[0m     \u001b[38;5;28;01mif\u001b[39;00m _A[\u001b[38;5;241m0\u001b[39m] \u001b[38;5;129;01min\u001b[39;00m \u001b[38;5;124m'\u001b[39m\u001b[38;5;124maeiuo\u001b[39m\u001b[38;5;124m'\u001b[39m: A \u001b[38;5;241m=\u001b[39m \u001b[38;5;124m\"\u001b[39m\u001b[38;5;124man \u001b[39m\u001b[38;5;124m\"\u001b[39m\u001b[38;5;241m+\u001b[39m_A\n",
      "File \u001b[0;32m~/workspace/clevr_control/scripts/diffuser_icons/dataset.py:51\u001b[0m, in \u001b[0;36mdraw_icon\u001b[0;34m(unicode1, unicode2, canvas_size, icon_size, fontsize)\u001b[0m\n\u001b[1;32m     49\u001b[0m \u001b[38;5;28;01mif\u001b[39;00m unicode2 \u001b[38;5;129;01mis\u001b[39;00m \u001b[38;5;129;01mnot\u001b[39;00m \u001b[38;5;28;01mNone\u001b[39;00m:\n\u001b[1;32m     50\u001b[0m     unicode_text2, font2 \u001b[38;5;241m=\u001b[39m unicode2\n\u001b[0;32m---> 51\u001b[0m     unicode_font2 \u001b[38;5;241m=\u001b[39m \u001b[43mImageFont\u001b[49m\u001b[38;5;241;43m.\u001b[39;49m\u001b[43mtruetype\u001b[49m\u001b[43m(\u001b[49m\u001b[43mos\u001b[49m\u001b[38;5;241;43m.\u001b[39;49m\u001b[43mpath\u001b[49m\u001b[38;5;241;43m.\u001b[39;49m\u001b[43mjoin\u001b[49m\u001b[43m(\u001b[49m\u001b[43mFONT_DIR\u001b[49m\u001b[43m,\u001b[49m\u001b[43m \u001b[49m\u001b[38;5;124;43mf\u001b[39;49m\u001b[38;5;124;43m\"\u001b[39;49m\u001b[38;5;132;43;01m{\u001b[39;49;00m\u001b[43mfont2\u001b[49m\u001b[38;5;132;43;01m}\u001b[39;49;00m\u001b[38;5;124;43m.ttf\u001b[39;49m\u001b[38;5;124;43m\"\u001b[39;49m\u001b[43m)\u001b[49m\u001b[43m,\u001b[49m\u001b[43m \u001b[49m\u001b[43mfontsize\u001b[49m\u001b[43m)\u001b[49m\n\u001b[1;32m     52\u001b[0m     _, _, w, h \u001b[38;5;241m=\u001b[39m draw\u001b[38;5;241m.\u001b[39mtextbbox((\u001b[38;5;241m0\u001b[39m, \u001b[38;5;241m0\u001b[39m), unicode_text2, font\u001b[38;5;241m=\u001b[39municode_font2)\n\u001b[1;32m     53\u001b[0m     draw\u001b[38;5;241m.\u001b[39mtext(((W\u001b[38;5;241m-\u001b[39mw)\u001b[38;5;241m/\u001b[39m\u001b[38;5;241m2\u001b[39m,(icon_size\u001b[38;5;241m-\u001b[39mh)\u001b[38;5;241m/\u001b[39m\u001b[38;5;241m2\u001b[39m\u001b[38;5;241m+\u001b[39micon_size), unicode_text2, font\u001b[38;5;241m=\u001b[39municode_font2, fill\u001b[38;5;241m=\u001b[39m\u001b[38;5;124m\"\u001b[39m\u001b[38;5;124mblack\u001b[39m\u001b[38;5;124m\"\u001b[39m)\n",
      "File \u001b[0;32m~/workspace/clevr_control/venv/lib/python3.8/site-packages/PIL/ImageFont.py:797\u001b[0m, in \u001b[0;36mtruetype\u001b[0;34m(font, size, index, encoding, layout_engine)\u001b[0m\n\u001b[1;32m    794\u001b[0m     \u001b[38;5;28;01mreturn\u001b[39;00m FreeTypeFont(font, size, index, encoding, layout_engine)\n\u001b[1;32m    796\u001b[0m \u001b[38;5;28;01mtry\u001b[39;00m:\n\u001b[0;32m--> 797\u001b[0m     \u001b[38;5;28;01mreturn\u001b[39;00m \u001b[43mfreetype\u001b[49m\u001b[43m(\u001b[49m\u001b[43mfont\u001b[49m\u001b[43m)\u001b[49m\n\u001b[1;32m    798\u001b[0m \u001b[38;5;28;01mexcept\u001b[39;00m \u001b[38;5;167;01mOSError\u001b[39;00m:\n\u001b[1;32m    799\u001b[0m     \u001b[38;5;28;01mif\u001b[39;00m \u001b[38;5;129;01mnot\u001b[39;00m is_path(font):\n",
      "File \u001b[0;32m~/workspace/clevr_control/venv/lib/python3.8/site-packages/PIL/ImageFont.py:794\u001b[0m, in \u001b[0;36mtruetype.<locals>.freetype\u001b[0;34m(font)\u001b[0m\n\u001b[1;32m    793\u001b[0m \u001b[38;5;28;01mdef\u001b[39;00m \u001b[38;5;21mfreetype\u001b[39m(font):\n\u001b[0;32m--> 794\u001b[0m     \u001b[38;5;28;01mreturn\u001b[39;00m \u001b[43mFreeTypeFont\u001b[49m\u001b[43m(\u001b[49m\u001b[43mfont\u001b[49m\u001b[43m,\u001b[49m\u001b[43m \u001b[49m\u001b[43msize\u001b[49m\u001b[43m,\u001b[49m\u001b[43m \u001b[49m\u001b[43mindex\u001b[49m\u001b[43m,\u001b[49m\u001b[43m \u001b[49m\u001b[43mencoding\u001b[49m\u001b[43m,\u001b[49m\u001b[43m \u001b[49m\u001b[43mlayout_engine\u001b[49m\u001b[43m)\u001b[49m\n",
      "File \u001b[0;32m~/workspace/clevr_control/venv/lib/python3.8/site-packages/PIL/ImageFont.py:226\u001b[0m, in \u001b[0;36mFreeTypeFont.__init__\u001b[0;34m(self, font, size, index, encoding, layout_engine)\u001b[0m\n\u001b[1;32m    224\u001b[0m                 load_from_bytes(f)\n\u001b[1;32m    225\u001b[0m             \u001b[38;5;28;01mreturn\u001b[39;00m\n\u001b[0;32m--> 226\u001b[0m     \u001b[38;5;28mself\u001b[39m\u001b[38;5;241m.\u001b[39mfont \u001b[38;5;241m=\u001b[39m \u001b[43mcore\u001b[49m\u001b[38;5;241;43m.\u001b[39;49m\u001b[43mgetfont\u001b[49m\u001b[43m(\u001b[49m\n\u001b[1;32m    227\u001b[0m \u001b[43m        \u001b[49m\u001b[43mfont\u001b[49m\u001b[43m,\u001b[49m\u001b[43m \u001b[49m\u001b[43msize\u001b[49m\u001b[43m,\u001b[49m\u001b[43m \u001b[49m\u001b[43mindex\u001b[49m\u001b[43m,\u001b[49m\u001b[43m \u001b[49m\u001b[43mencoding\u001b[49m\u001b[43m,\u001b[49m\u001b[43m \u001b[49m\u001b[43mlayout_engine\u001b[49m\u001b[38;5;241;43m=\u001b[39;49m\u001b[43mlayout_engine\u001b[49m\n\u001b[1;32m    228\u001b[0m \u001b[43m    \u001b[49m\u001b[43m)\u001b[49m\n\u001b[1;32m    229\u001b[0m \u001b[38;5;28;01melse\u001b[39;00m:\n\u001b[1;32m    230\u001b[0m     load_from_bytes(font)\n",
      "\u001b[0;31mKeyboardInterrupt\u001b[0m: "
     ]
    }
   ],
   "source": [
    "canvas_size = (32, 32) #(128, 128)\n",
    "icon_size = 32 #128\n",
    "fontsize = 28 #120\n",
    "#train_pairs, test_pairs = create_data_single_obj(nouns, icons, canvas_size=canvas_size, icon_size=icon_size, fontsize=fontsize)\n",
    "train_pairs, test_pairs = create_data_split2(nouns, icons, canvas_size=canvas_size, icon_size=icon_size, fontsize=fontsize)\n",
    "print(len(train_pairs), len(test_pairs))"
   ]
  },
  {
   "cell_type": "code",
   "execution_count": 4,
   "metadata": {},
   "outputs": [
    {
     "name": "stdout",
     "output_type": "stream",
     "text": [
      "a soda is on top of a plant.\n"
     ]
    },
    {
     "data": {
      "image/jpeg": "[encoded data removed]",
      "image/png": "[encoded data removed]",
      "text/plain": [
       "<PIL.Image.Image image mode=RGB size=128x128>"
      ]
     },
     "execution_count": 4,
     "metadata": {},
     "output_type": "execute_result"
    }
   ],
   "source": [
    "k = 84\n",
    "print(train_pairs[k][0])\n",
    "train_pairs[k][1]"
   ]
  },
  {
   "cell_type": "code",
   "execution_count": 8,
   "metadata": {},
   "outputs": [
    {
     "name": "stdout",
     "output_type": "stream",
     "text": [
      "9460\n"
     ]
    }
   ],
   "source": [
    "# gather concept freqeucies\n",
    "def extract_two_concepts(s):\n",
    "    t = s.replace(\".\", \"\").split()\n",
    "    return t[1], t[-1]\n",
    "c = Counter([w for x in train_pairs for w in extract_two_concepts(x[0])])\n",
    "total_freq = sum(c.values())\n",
    "print(total_freq)"
   ]
  },
  {
   "cell_type": "code",
   "execution_count": 10,
   "metadata": {},
   "outputs": [],
   "source": [
    "from matplotlib import pyplot as plt\n",
    "import numpy as np"
   ]
  },
  {
   "cell_type": "code",
   "execution_count": 19,
   "metadata": {},
   "outputs": [
    {
     "data": {
      "image/png": "[encoded data removed]",
      "text/plain": [
       "<Figure size 1000x400 with 1 Axes>"
      ]
     },
     "metadata": {},
     "output_type": "display_data"
    }
   ],
   "source": [
    "fig = plt.figure(figsize=(10,4))\n",
    "ax = fig.add_subplot(111)\n",
    "ax.bar(np.arange(len(c)), np.array(sorted(c.values(), reverse=True)) / total_freq, width = 0.5)\n",
    "plt.show()"
   ]
  },
  {
   "cell_type": "code",
   "execution_count": null,
   "metadata": {},
   "outputs": [],
   "source": []
  },
  {
   "cell_type": "code",
   "execution_count": null,
   "metadata": {},
   "outputs": [],
   "source": []
  },
  {
   "cell_type": "code",
   "execution_count": null,
   "metadata": {},
   "outputs": [],
   "source": []
  },
  {
   "cell_type": "code",
   "execution_count": 10,
   "metadata": {},
   "outputs": [
    {
     "data": {
      "text/plain": [
       "('soap', 'cabinet')"
      ]
     },
     "execution_count": 10,
     "metadata": {},
     "output_type": "execute_result"
    }
   ],
   "source": [
    "nouns[23], nouns[50]"
   ]
  },
  {
   "cell_type": "code",
   "execution_count": 12,
   "metadata": {},
   "outputs": [
    {
     "data": {
      "text/plain": [
       "False"
      ]
     },
     "execution_count": 12,
     "metadata": {},
     "output_type": "execute_result"
    }
   ],
   "source": [
    "train_sentences = [x[0] for x in train_pairs]\n",
    "test_sentences = [x[0] for x in test_pairs]\n",
    "\"a cabinet is at the bottom of a soap.\" in train_sentences"
   ]
  },
  {
   "cell_type": "markdown",
   "metadata": {},
   "source": [
    "## Draft"
   ]
  },
  {
   "cell_type": "code",
   "execution_count": 2,
   "metadata": {},
   "outputs": [],
   "source": [
    "sys.path.append(\"../diffuser_colored_sq/\")\n",
    "from model import T2IDiffusion\n",
    "from utils import *\n",
    "from torchsummary import summary\n",
    "from diffusers.utils.torch_utils import randn_tensor\n",
    "import torch"
   ]
  },
  {
   "cell_type": "code",
   "execution_count": 3,
   "metadata": {},
   "outputs": [
    {
     "name": "stdout",
     "output_type": "stream",
     "text": [
      "UNet2DConditionalModel_with_posemb only_cross_attention=True\n",
      "Transformer2DModel_with_nonsquare_input only_cross_attention=True\n",
      "Transformer2DModel_with_nonsquare_input only_cross_attention=True\n",
      "Transformer2DModel_with_nonsquare_input only_cross_attention=True\n",
      "Transformer2DModel_with_nonsquare_input only_cross_attention=True\n",
      "Transformer2DModel_with_nonsquare_input only_cross_attention=True\n",
      "Transformer2DModel_with_nonsquare_input only_cross_attention=True\n",
      "Transformer2DModel_with_nonsquare_input only_cross_attention=True\n",
      "Transformer2DModel_with_nonsquare_input only_cross_attention=True\n",
      "Transformer2DModel_with_nonsquare_input only_cross_attention=True\n",
      "Transformer2DModel_with_nonsquare_input only_cross_attention=True\n",
      "Transformer2DModel_with_nonsquare_input only_cross_attention=True\n"
     ]
    }
   ],
   "source": [
    "config = ConditionalTrainingConfig()\n",
    "model = T2IDiffusion(config)"
   ]
  },
  {
   "cell_type": "code",
   "execution_count": 4,
   "metadata": {},
   "outputs": [],
   "source": [
    "device = \"cuda\"\n",
    "image = randn_tensor((1, 3, 64, 32), device=device)\n",
    "encoder_hidden_states = randn_tensor((1, 8, 512))\n",
    "timesteps=torch.tensor([5])\n",
    "#summary(model.unet, [image, encoder_hidden_states, 0])\n",
    "# print(summary(\n",
    "#     model.unet,\n",
    "#     #input_data = [(2, 3, 64, 32), (1,), (2, 8, 512)], \n",
    "#     input_data = [image, timesteps, encoder_hidden_states],\n",
    "#     batch_dim = 0, \n",
    "#     dtypes=[torch.FloatTensor, torch.FloatTensor, torch.FloatTensor], \n",
    "#     device=device,\n",
    "#     depth = 10, \n",
    "# ))"
   ]
  },
  {
   "cell_type": "code",
   "execution_count": 5,
   "metadata": {},
   "outputs": [
    {
     "name": "stdout",
     "output_type": "stream",
     "text": [
      "+----------------------------------------------------------------------------+----------+--------------------+\n",
      "|                                  Modules                                   | #Params  |    Param shape     |\n",
      "+----------------------------------------------------------------------------+----------+--------------------+\n",
      "|                            unet.conv_in.weight                             |   1728   |   [64, 3, 3, 3]    |\n",
      "|                             unet.conv_in.bias                              |    64    |        [64]        |\n",
      "|                    unet.time_embedding.linear_1.weight                     |  16384   |     [256, 64]      |\n",
      "|                     unet.time_embedding.linear_1.bias                      |   256    |       [256]        |\n",
      "|                    unet.time_embedding.linear_2.weight                     |  65536   |     [256, 256]     |\n",
      "|                     unet.time_embedding.linear_2.bias                      |   256    |       [256]        |\n",
      "|                        unet.encoder_hid_proj.weight                        |  65536   |     [128, 512]     |\n",
      "|                         unet.encoder_hid_proj.bias                         |   128    |       [128]        |\n",
      "|                 unet.down_blocks.0.resnets.0.norm1.weight                  |    64    |        [64]        |\n",
      "|                  unet.down_blocks.0.resnets.0.norm1.bias                   |    64    |        [64]        |\n",
      "|                 unet.down_blocks.0.resnets.0.conv1.weight                  |  36864   |   [64, 64, 3, 3]   |\n",
      "|                  unet.down_blocks.0.resnets.0.conv1.bias                   |    64    |        [64]        |\n",
      "|             unet.down_blocks.0.resnets.0.time_emb_proj.weight              |  16384   |     [64, 256]      |\n",
      "|              unet.down_blocks.0.resnets.0.time_emb_proj.bias               |    64    |        [64]        |\n",
      "|                 unet.down_blocks.0.resnets.0.norm2.weight                  |    64    |        [64]        |\n",
      "|                  unet.down_blocks.0.resnets.0.norm2.bias                   |    64    |        [64]        |\n",
      "|                 unet.down_blocks.0.resnets.0.conv2.weight                  |  36864   |   [64, 64, 3, 3]   |\n",
      "|                  unet.down_blocks.0.resnets.0.conv2.bias                   |    64    |        [64]        |\n",
      "|                 unet.down_blocks.0.resnets.1.norm1.weight                  |    64    |        [64]        |\n",
      "|                  unet.down_blocks.0.resnets.1.norm1.bias                   |    64    |        [64]        |\n",
      "|                 unet.down_blocks.0.resnets.1.conv1.weight                  |  36864   |   [64, 64, 3, 3]   |\n",
      "|                  unet.down_blocks.0.resnets.1.conv1.bias                   |    64    |        [64]        |\n",
      "|             unet.down_blocks.0.resnets.1.time_emb_proj.weight              |  16384   |     [64, 256]      |\n",
      "|              unet.down_blocks.0.resnets.1.time_emb_proj.bias               |    64    |        [64]        |\n",
      "|                 unet.down_blocks.0.resnets.1.norm2.weight                  |    64    |        [64]        |\n",
      "|                  unet.down_blocks.0.resnets.1.norm2.bias                   |    64    |        [64]        |\n",
      "|                 unet.down_blocks.0.resnets.1.conv2.weight                  |  36864   |   [64, 64, 3, 3]   |\n",
      "|                  unet.down_blocks.0.resnets.1.conv2.bias                   |    64    |        [64]        |\n",
      "|               unet.down_blocks.0.downsamplers.0.conv.weight                |  36864   |   [64, 64, 3, 3]   |\n",
      "|                unet.down_blocks.0.downsamplers.0.conv.bias                 |    64    |        [64]        |\n",
      "|     unet.down_blocks.1.attentions.0.transformer_blocks.0.norm1.weight      |   256    |       [256]        |\n",
      "|      unet.down_blocks.1.attentions.0.transformer_blocks.0.norm1.bias       |   256    |       [256]        |\n",
      "|   unet.down_blocks.1.attentions.0.transformer_blocks.0.attn1.to_q.weight   |  65536   |     [256, 256]     |\n",
      "|   unet.down_blocks.1.attentions.0.transformer_blocks.0.attn1.to_k.weight   |  32768   |     [256, 128]     |\n",
      "|   unet.down_blocks.1.attentions.0.transformer_blocks.0.attn1.to_v.weight   |  32768   |     [256, 128]     |\n",
      "| unet.down_blocks.1.attentions.0.transformer_blocks.0.attn1.to_out.0.weight |  65536   |     [256, 256]     |\n",
      "|  unet.down_blocks.1.attentions.0.transformer_blocks.0.attn1.to_out.0.bias  |   256    |       [256]        |\n",
      "|     unet.down_blocks.1.attentions.0.transformer_blocks.0.norm2.weight      |   256    |       [256]        |\n",
      "|      unet.down_blocks.1.attentions.0.transformer_blocks.0.norm2.bias       |   256    |       [256]        |\n",
      "|   unet.down_blocks.1.attentions.0.transformer_blocks.0.attn2.to_q.weight   |  65536   |     [256, 256]     |\n",
      "|   unet.down_blocks.1.attentions.0.transformer_blocks.0.attn2.to_k.weight   |  32768   |     [256, 128]     |\n",
      "|   unet.down_blocks.1.attentions.0.transformer_blocks.0.attn2.to_v.weight   |  32768   |     [256, 128]     |\n",
      "| unet.down_blocks.1.attentions.0.transformer_blocks.0.attn2.to_out.0.weight |  65536   |     [256, 256]     |\n",
      "|  unet.down_blocks.1.attentions.0.transformer_blocks.0.attn2.to_out.0.bias  |   256    |       [256]        |\n",
      "|     unet.down_blocks.1.attentions.0.transformer_blocks.0.norm3.weight      |   256    |       [256]        |\n",
      "|      unet.down_blocks.1.attentions.0.transformer_blocks.0.norm3.bias       |   256    |       [256]        |\n",
      "| unet.down_blocks.1.attentions.0.transformer_blocks.0.ff.net.0.proj.weight  |  524288  |    [2048, 256]     |\n",
      "|  unet.down_blocks.1.attentions.0.transformer_blocks.0.ff.net.0.proj.bias   |   2048   |       [2048]       |\n",
      "|    unet.down_blocks.1.attentions.0.transformer_blocks.0.ff.net.2.weight    |  262144  |    [256, 1024]     |\n",
      "|     unet.down_blocks.1.attentions.0.transformer_blocks.0.ff.net.2.bias     |   256    |       [256]        |\n",
      "|              unet.down_blocks.1.attentions.0.proj_out.weight               |  262144  |    [1024, 256]     |\n",
      "|               unet.down_blocks.1.attentions.0.proj_out.bias                |   1024   |       [1024]       |\n",
      "|           unet.down_blocks.1.attentions.0.pos_embed.proj.weight            |  262144  |  [256, 256, 2, 2]  |\n",
      "|            unet.down_blocks.1.attentions.0.pos_embed.proj.bias             |   256    |       [256]        |\n",
      "|              unet.down_blocks.1.attentions.0.norm_out.weight               |   256    |       [256]        |\n",
      "|               unet.down_blocks.1.attentions.0.norm_out.bias                |   256    |       [256]        |\n",
      "|     unet.down_blocks.1.attentions.1.transformer_blocks.0.norm1.weight      |   256    |       [256]        |\n",
      "|      unet.down_blocks.1.attentions.1.transformer_blocks.0.norm1.bias       |   256    |       [256]        |\n",
      "|   unet.down_blocks.1.attentions.1.transformer_blocks.0.attn1.to_q.weight   |  65536   |     [256, 256]     |\n",
      "|   unet.down_blocks.1.attentions.1.transformer_blocks.0.attn1.to_k.weight   |  32768   |     [256, 128]     |\n",
      "|   unet.down_blocks.1.attentions.1.transformer_blocks.0.attn1.to_v.weight   |  32768   |     [256, 128]     |\n",
      "| unet.down_blocks.1.attentions.1.transformer_blocks.0.attn1.to_out.0.weight |  65536   |     [256, 256]     |\n",
      "|  unet.down_blocks.1.attentions.1.transformer_blocks.0.attn1.to_out.0.bias  |   256    |       [256]        |\n",
      "|     unet.down_blocks.1.attentions.1.transformer_blocks.0.norm2.weight      |   256    |       [256]        |\n",
      "|      unet.down_blocks.1.attentions.1.transformer_blocks.0.norm2.bias       |   256    |       [256]        |\n",
      "|   unet.down_blocks.1.attentions.1.transformer_blocks.0.attn2.to_q.weight   |  65536   |     [256, 256]     |\n",
      "|   unet.down_blocks.1.attentions.1.transformer_blocks.0.attn2.to_k.weight   |  32768   |     [256, 128]     |\n",
      "|   unet.down_blocks.1.attentions.1.transformer_blocks.0.attn2.to_v.weight   |  32768   |     [256, 128]     |\n",
      "| unet.down_blocks.1.attentions.1.transformer_blocks.0.attn2.to_out.0.weight |  65536   |     [256, 256]     |\n",
      "|  unet.down_blocks.1.attentions.1.transformer_blocks.0.attn2.to_out.0.bias  |   256    |       [256]        |\n",
      "|     unet.down_blocks.1.attentions.1.transformer_blocks.0.norm3.weight      |   256    |       [256]        |\n",
      "|      unet.down_blocks.1.attentions.1.transformer_blocks.0.norm3.bias       |   256    |       [256]        |\n",
      "| unet.down_blocks.1.attentions.1.transformer_blocks.0.ff.net.0.proj.weight  |  524288  |    [2048, 256]     |\n",
      "|  unet.down_blocks.1.attentions.1.transformer_blocks.0.ff.net.0.proj.bias   |   2048   |       [2048]       |\n",
      "|    unet.down_blocks.1.attentions.1.transformer_blocks.0.ff.net.2.weight    |  262144  |    [256, 1024]     |\n",
      "|     unet.down_blocks.1.attentions.1.transformer_blocks.0.ff.net.2.bias     |   256    |       [256]        |\n",
      "|              unet.down_blocks.1.attentions.1.proj_out.weight               |  262144  |    [1024, 256]     |\n",
      "|               unet.down_blocks.1.attentions.1.proj_out.bias                |   1024   |       [1024]       |\n",
      "|           unet.down_blocks.1.attentions.1.pos_embed.proj.weight            |  262144  |  [256, 256, 2, 2]  |\n",
      "|            unet.down_blocks.1.attentions.1.pos_embed.proj.bias             |   256    |       [256]        |\n",
      "|              unet.down_blocks.1.attentions.1.norm_out.weight               |   256    |       [256]        |\n",
      "|               unet.down_blocks.1.attentions.1.norm_out.bias                |   256    |       [256]        |\n",
      "|                 unet.down_blocks.1.resnets.0.norm1.weight                  |    64    |        [64]        |\n",
      "|                  unet.down_blocks.1.resnets.0.norm1.bias                   |    64    |        [64]        |\n",
      "|                 unet.down_blocks.1.resnets.0.conv1.weight                  |  147456  |  [256, 64, 3, 3]   |\n",
      "|                  unet.down_blocks.1.resnets.0.conv1.bias                   |   256    |       [256]        |\n",
      "|             unet.down_blocks.1.resnets.0.time_emb_proj.weight              |  65536   |     [256, 256]     |\n",
      "|              unet.down_blocks.1.resnets.0.time_emb_proj.bias               |   256    |       [256]        |\n",
      "|                 unet.down_blocks.1.resnets.0.norm2.weight                  |   256    |       [256]        |\n",
      "|                  unet.down_blocks.1.resnets.0.norm2.bias                   |   256    |       [256]        |\n",
      "|                 unet.down_blocks.1.resnets.0.conv2.weight                  |  589824  |  [256, 256, 3, 3]  |\n",
      "|                  unet.down_blocks.1.resnets.0.conv2.bias                   |   256    |       [256]        |\n",
      "|             unet.down_blocks.1.resnets.0.conv_shortcut.weight              |  16384   |  [256, 64, 1, 1]   |\n",
      "|              unet.down_blocks.1.resnets.0.conv_shortcut.bias               |   256    |       [256]        |\n",
      "|                 unet.down_blocks.1.resnets.1.norm1.weight                  |   256    |       [256]        |\n",
      "|                  unet.down_blocks.1.resnets.1.norm1.bias                   |   256    |       [256]        |\n",
      "|                 unet.down_blocks.1.resnets.1.conv1.weight                  |  589824  |  [256, 256, 3, 3]  |\n",
      "|                  unet.down_blocks.1.resnets.1.conv1.bias                   |   256    |       [256]        |\n",
      "|             unet.down_blocks.1.resnets.1.time_emb_proj.weight              |  65536   |     [256, 256]     |\n",
      "|              unet.down_blocks.1.resnets.1.time_emb_proj.bias               |   256    |       [256]        |\n",
      "|                 unet.down_blocks.1.resnets.1.norm2.weight                  |   256    |       [256]        |\n",
      "|                  unet.down_blocks.1.resnets.1.norm2.bias                   |   256    |       [256]        |\n",
      "|                 unet.down_blocks.1.resnets.1.conv2.weight                  |  589824  |  [256, 256, 3, 3]  |\n",
      "|                  unet.down_blocks.1.resnets.1.conv2.bias                   |   256    |       [256]        |\n",
      "|               unet.down_blocks.1.downsamplers.0.conv.weight                |  589824  |  [256, 256, 3, 3]  |\n",
      "|                unet.down_blocks.1.downsamplers.0.conv.bias                 |   256    |       [256]        |\n",
      "|     unet.down_blocks.2.attentions.0.transformer_blocks.0.norm1.weight      |   1024   |       [1024]       |\n",
      "|      unet.down_blocks.2.attentions.0.transformer_blocks.0.norm1.bias       |   1024   |       [1024]       |\n",
      "|   unet.down_blocks.2.attentions.0.transformer_blocks.0.attn1.to_q.weight   | 1048576  |    [1024, 1024]    |\n",
      "|   unet.down_blocks.2.attentions.0.transformer_blocks.0.attn1.to_k.weight   |  131072  |    [1024, 128]     |\n",
      "|   unet.down_blocks.2.attentions.0.transformer_blocks.0.attn1.to_v.weight   |  131072  |    [1024, 128]     |\n",
      "| unet.down_blocks.2.attentions.0.transformer_blocks.0.attn1.to_out.0.weight | 1048576  |    [1024, 1024]    |\n",
      "|  unet.down_blocks.2.attentions.0.transformer_blocks.0.attn1.to_out.0.bias  |   1024   |       [1024]       |\n",
      "|     unet.down_blocks.2.attentions.0.transformer_blocks.0.norm2.weight      |   1024   |       [1024]       |\n",
      "|      unet.down_blocks.2.attentions.0.transformer_blocks.0.norm2.bias       |   1024   |       [1024]       |\n",
      "|   unet.down_blocks.2.attentions.0.transformer_blocks.0.attn2.to_q.weight   | 1048576  |    [1024, 1024]    |\n",
      "|   unet.down_blocks.2.attentions.0.transformer_blocks.0.attn2.to_k.weight   |  131072  |    [1024, 128]     |\n",
      "|   unet.down_blocks.2.attentions.0.transformer_blocks.0.attn2.to_v.weight   |  131072  |    [1024, 128]     |\n",
      "| unet.down_blocks.2.attentions.0.transformer_blocks.0.attn2.to_out.0.weight | 1048576  |    [1024, 1024]    |\n",
      "|  unet.down_blocks.2.attentions.0.transformer_blocks.0.attn2.to_out.0.bias  |   1024   |       [1024]       |\n",
      "|     unet.down_blocks.2.attentions.0.transformer_blocks.0.norm3.weight      |   1024   |       [1024]       |\n",
      "|      unet.down_blocks.2.attentions.0.transformer_blocks.0.norm3.bias       |   1024   |       [1024]       |\n",
      "| unet.down_blocks.2.attentions.0.transformer_blocks.0.ff.net.0.proj.weight  | 8388608  |    [8192, 1024]    |\n",
      "|  unet.down_blocks.2.attentions.0.transformer_blocks.0.ff.net.0.proj.bias   |   8192   |       [8192]       |\n",
      "|    unet.down_blocks.2.attentions.0.transformer_blocks.0.ff.net.2.weight    | 4194304  |    [1024, 4096]    |\n",
      "|     unet.down_blocks.2.attentions.0.transformer_blocks.0.ff.net.2.bias     |   1024   |       [1024]       |\n",
      "|              unet.down_blocks.2.attentions.0.proj_out.weight               | 4194304  |    [4096, 1024]    |\n",
      "|               unet.down_blocks.2.attentions.0.proj_out.bias                |   4096   |       [4096]       |\n",
      "|           unet.down_blocks.2.attentions.0.pos_embed.proj.weight            | 4194304  | [1024, 1024, 2, 2] |\n",
      "|            unet.down_blocks.2.attentions.0.pos_embed.proj.bias             |   1024   |       [1024]       |\n",
      "|              unet.down_blocks.2.attentions.0.norm_out.weight               |   1024   |       [1024]       |\n",
      "|               unet.down_blocks.2.attentions.0.norm_out.bias                |   1024   |       [1024]       |\n",
      "|     unet.down_blocks.2.attentions.1.transformer_blocks.0.norm1.weight      |   1024   |       [1024]       |\n",
      "|      unet.down_blocks.2.attentions.1.transformer_blocks.0.norm1.bias       |   1024   |       [1024]       |\n",
      "|   unet.down_blocks.2.attentions.1.transformer_blocks.0.attn1.to_q.weight   | 1048576  |    [1024, 1024]    |\n",
      "|   unet.down_blocks.2.attentions.1.transformer_blocks.0.attn1.to_k.weight   |  131072  |    [1024, 128]     |\n",
      "|   unet.down_blocks.2.attentions.1.transformer_blocks.0.attn1.to_v.weight   |  131072  |    [1024, 128]     |\n",
      "| unet.down_blocks.2.attentions.1.transformer_blocks.0.attn1.to_out.0.weight | 1048576  |    [1024, 1024]    |\n",
      "|  unet.down_blocks.2.attentions.1.transformer_blocks.0.attn1.to_out.0.bias  |   1024   |       [1024]       |\n",
      "|     unet.down_blocks.2.attentions.1.transformer_blocks.0.norm2.weight      |   1024   |       [1024]       |\n",
      "|      unet.down_blocks.2.attentions.1.transformer_blocks.0.norm2.bias       |   1024   |       [1024]       |\n",
      "|   unet.down_blocks.2.attentions.1.transformer_blocks.0.attn2.to_q.weight   | 1048576  |    [1024, 1024]    |\n",
      "|   unet.down_blocks.2.attentions.1.transformer_blocks.0.attn2.to_k.weight   |  131072  |    [1024, 128]     |\n",
      "|   unet.down_blocks.2.attentions.1.transformer_blocks.0.attn2.to_v.weight   |  131072  |    [1024, 128]     |\n",
      "| unet.down_blocks.2.attentions.1.transformer_blocks.0.attn2.to_out.0.weight | 1048576  |    [1024, 1024]    |\n",
      "|  unet.down_blocks.2.attentions.1.transformer_blocks.0.attn2.to_out.0.bias  |   1024   |       [1024]       |\n",
      "|     unet.down_blocks.2.attentions.1.transformer_blocks.0.norm3.weight      |   1024   |       [1024]       |\n",
      "|      unet.down_blocks.2.attentions.1.transformer_blocks.0.norm3.bias       |   1024   |       [1024]       |\n",
      "| unet.down_blocks.2.attentions.1.transformer_blocks.0.ff.net.0.proj.weight  | 8388608  |    [8192, 1024]    |\n",
      "|  unet.down_blocks.2.attentions.1.transformer_blocks.0.ff.net.0.proj.bias   |   8192   |       [8192]       |\n",
      "|    unet.down_blocks.2.attentions.1.transformer_blocks.0.ff.net.2.weight    | 4194304  |    [1024, 4096]    |\n",
      "|     unet.down_blocks.2.attentions.1.transformer_blocks.0.ff.net.2.bias     |   1024   |       [1024]       |\n",
      "|              unet.down_blocks.2.attentions.1.proj_out.weight               | 4194304  |    [4096, 1024]    |\n",
      "|               unet.down_blocks.2.attentions.1.proj_out.bias                |   4096   |       [4096]       |\n",
      "|           unet.down_blocks.2.attentions.1.pos_embed.proj.weight            | 4194304  | [1024, 1024, 2, 2] |\n",
      "|            unet.down_blocks.2.attentions.1.pos_embed.proj.bias             |   1024   |       [1024]       |\n",
      "|              unet.down_blocks.2.attentions.1.norm_out.weight               |   1024   |       [1024]       |\n",
      "|               unet.down_blocks.2.attentions.1.norm_out.bias                |   1024   |       [1024]       |\n",
      "|                 unet.down_blocks.2.resnets.0.norm1.weight                  |   256    |       [256]        |\n",
      "|                  unet.down_blocks.2.resnets.0.norm1.bias                   |   256    |       [256]        |\n",
      "|                 unet.down_blocks.2.resnets.0.conv1.weight                  | 2359296  | [1024, 256, 3, 3]  |\n",
      "|                  unet.down_blocks.2.resnets.0.conv1.bias                   |   1024   |       [1024]       |\n",
      "|             unet.down_blocks.2.resnets.0.time_emb_proj.weight              |  262144  |    [1024, 256]     |\n",
      "|              unet.down_blocks.2.resnets.0.time_emb_proj.bias               |   1024   |       [1024]       |\n",
      "|                 unet.down_blocks.2.resnets.0.norm2.weight                  |   1024   |       [1024]       |\n",
      "|                  unet.down_blocks.2.resnets.0.norm2.bias                   |   1024   |       [1024]       |\n",
      "|                 unet.down_blocks.2.resnets.0.conv2.weight                  | 9437184  | [1024, 1024, 3, 3] |\n",
      "|                  unet.down_blocks.2.resnets.0.conv2.bias                   |   1024   |       [1024]       |\n",
      "|             unet.down_blocks.2.resnets.0.conv_shortcut.weight              |  262144  | [1024, 256, 1, 1]  |\n",
      "|              unet.down_blocks.2.resnets.0.conv_shortcut.bias               |   1024   |       [1024]       |\n",
      "|                 unet.down_blocks.2.resnets.1.norm1.weight                  |   1024   |       [1024]       |\n",
      "|                  unet.down_blocks.2.resnets.1.norm1.bias                   |   1024   |       [1024]       |\n",
      "|                 unet.down_blocks.2.resnets.1.conv1.weight                  | 9437184  | [1024, 1024, 3, 3] |\n",
      "|                  unet.down_blocks.2.resnets.1.conv1.bias                   |   1024   |       [1024]       |\n",
      "|             unet.down_blocks.2.resnets.1.time_emb_proj.weight              |  262144  |    [1024, 256]     |\n",
      "|              unet.down_blocks.2.resnets.1.time_emb_proj.bias               |   1024   |       [1024]       |\n",
      "|                 unet.down_blocks.2.resnets.1.norm2.weight                  |   1024   |       [1024]       |\n",
      "|                  unet.down_blocks.2.resnets.1.norm2.bias                   |   1024   |       [1024]       |\n",
      "|                 unet.down_blocks.2.resnets.1.conv2.weight                  | 9437184  | [1024, 1024, 3, 3] |\n",
      "|                  unet.down_blocks.2.resnets.1.conv2.bias                   |   1024   |       [1024]       |\n",
      "|      unet.up_blocks.0.attentions.0.transformer_blocks.0.norm1.weight       |   1024   |       [1024]       |\n",
      "|       unet.up_blocks.0.attentions.0.transformer_blocks.0.norm1.bias        |   1024   |       [1024]       |\n",
      "|    unet.up_blocks.0.attentions.0.transformer_blocks.0.attn1.to_q.weight    | 1048576  |    [1024, 1024]    |\n",
      "|    unet.up_blocks.0.attentions.0.transformer_blocks.0.attn1.to_k.weight    |  131072  |    [1024, 128]     |\n",
      "|    unet.up_blocks.0.attentions.0.transformer_blocks.0.attn1.to_v.weight    |  131072  |    [1024, 128]     |\n",
      "|  unet.up_blocks.0.attentions.0.transformer_blocks.0.attn1.to_out.0.weight  | 1048576  |    [1024, 1024]    |\n",
      "|   unet.up_blocks.0.attentions.0.transformer_blocks.0.attn1.to_out.0.bias   |   1024   |       [1024]       |\n",
      "|      unet.up_blocks.0.attentions.0.transformer_blocks.0.norm2.weight       |   1024   |       [1024]       |\n",
      "|       unet.up_blocks.0.attentions.0.transformer_blocks.0.norm2.bias        |   1024   |       [1024]       |\n",
      "|    unet.up_blocks.0.attentions.0.transformer_blocks.0.attn2.to_q.weight    | 1048576  |    [1024, 1024]    |\n",
      "|    unet.up_blocks.0.attentions.0.transformer_blocks.0.attn2.to_k.weight    |  131072  |    [1024, 128]     |\n",
      "|    unet.up_blocks.0.attentions.0.transformer_blocks.0.attn2.to_v.weight    |  131072  |    [1024, 128]     |\n",
      "|  unet.up_blocks.0.attentions.0.transformer_blocks.0.attn2.to_out.0.weight  | 1048576  |    [1024, 1024]    |\n",
      "|   unet.up_blocks.0.attentions.0.transformer_blocks.0.attn2.to_out.0.bias   |   1024   |       [1024]       |\n",
      "|      unet.up_blocks.0.attentions.0.transformer_blocks.0.norm3.weight       |   1024   |       [1024]       |\n",
      "|       unet.up_blocks.0.attentions.0.transformer_blocks.0.norm3.bias        |   1024   |       [1024]       |\n",
      "|  unet.up_blocks.0.attentions.0.transformer_blocks.0.ff.net.0.proj.weight   | 8388608  |    [8192, 1024]    |\n",
      "|   unet.up_blocks.0.attentions.0.transformer_blocks.0.ff.net.0.proj.bias    |   8192   |       [8192]       |\n",
      "|     unet.up_blocks.0.attentions.0.transformer_blocks.0.ff.net.2.weight     | 4194304  |    [1024, 4096]    |\n",
      "|      unet.up_blocks.0.attentions.0.transformer_blocks.0.ff.net.2.bias      |   1024   |       [1024]       |\n",
      "|               unet.up_blocks.0.attentions.0.proj_out.weight                | 4194304  |    [4096, 1024]    |\n",
      "|                unet.up_blocks.0.attentions.0.proj_out.bias                 |   4096   |       [4096]       |\n",
      "|            unet.up_blocks.0.attentions.0.pos_embed.proj.weight             | 4194304  | [1024, 1024, 2, 2] |\n",
      "|             unet.up_blocks.0.attentions.0.pos_embed.proj.bias              |   1024   |       [1024]       |\n",
      "|               unet.up_blocks.0.attentions.0.norm_out.weight                |   1024   |       [1024]       |\n",
      "|                unet.up_blocks.0.attentions.0.norm_out.bias                 |   1024   |       [1024]       |\n",
      "|      unet.up_blocks.0.attentions.1.transformer_blocks.0.norm1.weight       |   1024   |       [1024]       |\n",
      "|       unet.up_blocks.0.attentions.1.transformer_blocks.0.norm1.bias        |   1024   |       [1024]       |\n",
      "|    unet.up_blocks.0.attentions.1.transformer_blocks.0.attn1.to_q.weight    | 1048576  |    [1024, 1024]    |\n",
      "|    unet.up_blocks.0.attentions.1.transformer_blocks.0.attn1.to_k.weight    |  131072  |    [1024, 128]     |\n",
      "|    unet.up_blocks.0.attentions.1.transformer_blocks.0.attn1.to_v.weight    |  131072  |    [1024, 128]     |\n",
      "|  unet.up_blocks.0.attentions.1.transformer_blocks.0.attn1.to_out.0.weight  | 1048576  |    [1024, 1024]    |\n",
      "|   unet.up_blocks.0.attentions.1.transformer_blocks.0.attn1.to_out.0.bias   |   1024   |       [1024]       |\n",
      "|      unet.up_blocks.0.attentions.1.transformer_blocks.0.norm2.weight       |   1024   |       [1024]       |\n",
      "|       unet.up_blocks.0.attentions.1.transformer_blocks.0.norm2.bias        |   1024   |       [1024]       |\n",
      "|    unet.up_blocks.0.attentions.1.transformer_blocks.0.attn2.to_q.weight    | 1048576  |    [1024, 1024]    |\n",
      "|    unet.up_blocks.0.attentions.1.transformer_blocks.0.attn2.to_k.weight    |  131072  |    [1024, 128]     |\n",
      "|    unet.up_blocks.0.attentions.1.transformer_blocks.0.attn2.to_v.weight    |  131072  |    [1024, 128]     |\n",
      "|  unet.up_blocks.0.attentions.1.transformer_blocks.0.attn2.to_out.0.weight  | 1048576  |    [1024, 1024]    |\n",
      "|   unet.up_blocks.0.attentions.1.transformer_blocks.0.attn2.to_out.0.bias   |   1024   |       [1024]       |\n",
      "|      unet.up_blocks.0.attentions.1.transformer_blocks.0.norm3.weight       |   1024   |       [1024]       |\n",
      "|       unet.up_blocks.0.attentions.1.transformer_blocks.0.norm3.bias        |   1024   |       [1024]       |\n",
      "|  unet.up_blocks.0.attentions.1.transformer_blocks.0.ff.net.0.proj.weight   | 8388608  |    [8192, 1024]    |\n",
      "|   unet.up_blocks.0.attentions.1.transformer_blocks.0.ff.net.0.proj.bias    |   8192   |       [8192]       |\n",
      "|     unet.up_blocks.0.attentions.1.transformer_blocks.0.ff.net.2.weight     | 4194304  |    [1024, 4096]    |\n",
      "|      unet.up_blocks.0.attentions.1.transformer_blocks.0.ff.net.2.bias      |   1024   |       [1024]       |\n",
      "|               unet.up_blocks.0.attentions.1.proj_out.weight                | 4194304  |    [4096, 1024]    |\n",
      "|                unet.up_blocks.0.attentions.1.proj_out.bias                 |   4096   |       [4096]       |\n",
      "|            unet.up_blocks.0.attentions.1.pos_embed.proj.weight             | 4194304  | [1024, 1024, 2, 2] |\n",
      "|             unet.up_blocks.0.attentions.1.pos_embed.proj.bias              |   1024   |       [1024]       |\n",
      "|               unet.up_blocks.0.attentions.1.norm_out.weight                |   1024   |       [1024]       |\n",
      "|                unet.up_blocks.0.attentions.1.norm_out.bias                 |   1024   |       [1024]       |\n",
      "|      unet.up_blocks.0.attentions.2.transformer_blocks.0.norm1.weight       |   1024   |       [1024]       |\n",
      "|       unet.up_blocks.0.attentions.2.transformer_blocks.0.norm1.bias        |   1024   |       [1024]       |\n",
      "|    unet.up_blocks.0.attentions.2.transformer_blocks.0.attn1.to_q.weight    | 1048576  |    [1024, 1024]    |\n",
      "|    unet.up_blocks.0.attentions.2.transformer_blocks.0.attn1.to_k.weight    |  131072  |    [1024, 128]     |\n",
      "|    unet.up_blocks.0.attentions.2.transformer_blocks.0.attn1.to_v.weight    |  131072  |    [1024, 128]     |\n",
      "|  unet.up_blocks.0.attentions.2.transformer_blocks.0.attn1.to_out.0.weight  | 1048576  |    [1024, 1024]    |\n",
      "|   unet.up_blocks.0.attentions.2.transformer_blocks.0.attn1.to_out.0.bias   |   1024   |       [1024]       |\n",
      "|      unet.up_blocks.0.attentions.2.transformer_blocks.0.norm2.weight       |   1024   |       [1024]       |\n",
      "|       unet.up_blocks.0.attentions.2.transformer_blocks.0.norm2.bias        |   1024   |       [1024]       |\n",
      "|    unet.up_blocks.0.attentions.2.transformer_blocks.0.attn2.to_q.weight    | 1048576  |    [1024, 1024]    |\n",
      "|    unet.up_blocks.0.attentions.2.transformer_blocks.0.attn2.to_k.weight    |  131072  |    [1024, 128]     |\n",
      "|    unet.up_blocks.0.attentions.2.transformer_blocks.0.attn2.to_v.weight    |  131072  |    [1024, 128]     |\n",
      "|  unet.up_blocks.0.attentions.2.transformer_blocks.0.attn2.to_out.0.weight  | 1048576  |    [1024, 1024]    |\n",
      "|   unet.up_blocks.0.attentions.2.transformer_blocks.0.attn2.to_out.0.bias   |   1024   |       [1024]       |\n",
      "|      unet.up_blocks.0.attentions.2.transformer_blocks.0.norm3.weight       |   1024   |       [1024]       |\n",
      "|       unet.up_blocks.0.attentions.2.transformer_blocks.0.norm3.bias        |   1024   |       [1024]       |\n",
      "|  unet.up_blocks.0.attentions.2.transformer_blocks.0.ff.net.0.proj.weight   | 8388608  |    [8192, 1024]    |\n",
      "|   unet.up_blocks.0.attentions.2.transformer_blocks.0.ff.net.0.proj.bias    |   8192   |       [8192]       |\n",
      "|     unet.up_blocks.0.attentions.2.transformer_blocks.0.ff.net.2.weight     | 4194304  |    [1024, 4096]    |\n",
      "|      unet.up_blocks.0.attentions.2.transformer_blocks.0.ff.net.2.bias      |   1024   |       [1024]       |\n",
      "|               unet.up_blocks.0.attentions.2.proj_out.weight                | 4194304  |    [4096, 1024]    |\n",
      "|                unet.up_blocks.0.attentions.2.proj_out.bias                 |   4096   |       [4096]       |\n",
      "|            unet.up_blocks.0.attentions.2.pos_embed.proj.weight             | 4194304  | [1024, 1024, 2, 2] |\n",
      "|             unet.up_blocks.0.attentions.2.pos_embed.proj.bias              |   1024   |       [1024]       |\n",
      "|               unet.up_blocks.0.attentions.2.norm_out.weight                |   1024   |       [1024]       |\n",
      "|                unet.up_blocks.0.attentions.2.norm_out.bias                 |   1024   |       [1024]       |\n",
      "|                  unet.up_blocks.0.resnets.0.norm1.weight                   |   2048   |       [2048]       |\n",
      "|                   unet.up_blocks.0.resnets.0.norm1.bias                    |   2048   |       [2048]       |\n",
      "|                  unet.up_blocks.0.resnets.0.conv1.weight                   | 18874368 | [1024, 2048, 3, 3] |\n",
      "|                   unet.up_blocks.0.resnets.0.conv1.bias                    |   1024   |       [1024]       |\n",
      "|              unet.up_blocks.0.resnets.0.time_emb_proj.weight               |  262144  |    [1024, 256]     |\n",
      "|               unet.up_blocks.0.resnets.0.time_emb_proj.bias                |   1024   |       [1024]       |\n",
      "|                  unet.up_blocks.0.resnets.0.norm2.weight                   |   1024   |       [1024]       |\n",
      "|                   unet.up_blocks.0.resnets.0.norm2.bias                    |   1024   |       [1024]       |\n",
      "|                  unet.up_blocks.0.resnets.0.conv2.weight                   | 9437184  | [1024, 1024, 3, 3] |\n",
      "|                   unet.up_blocks.0.resnets.0.conv2.bias                    |   1024   |       [1024]       |\n",
      "|              unet.up_blocks.0.resnets.0.conv_shortcut.weight               | 2097152  | [1024, 2048, 1, 1] |\n",
      "|               unet.up_blocks.0.resnets.0.conv_shortcut.bias                |   1024   |       [1024]       |\n",
      "|                  unet.up_blocks.0.resnets.1.norm1.weight                   |   2048   |       [2048]       |\n",
      "|                   unet.up_blocks.0.resnets.1.norm1.bias                    |   2048   |       [2048]       |\n",
      "|                  unet.up_blocks.0.resnets.1.conv1.weight                   | 18874368 | [1024, 2048, 3, 3] |\n",
      "|                   unet.up_blocks.0.resnets.1.conv1.bias                    |   1024   |       [1024]       |\n",
      "|              unet.up_blocks.0.resnets.1.time_emb_proj.weight               |  262144  |    [1024, 256]     |\n",
      "|               unet.up_blocks.0.resnets.1.time_emb_proj.bias                |   1024   |       [1024]       |\n",
      "|                  unet.up_blocks.0.resnets.1.norm2.weight                   |   1024   |       [1024]       |\n",
      "|                   unet.up_blocks.0.resnets.1.norm2.bias                    |   1024   |       [1024]       |\n",
      "|                  unet.up_blocks.0.resnets.1.conv2.weight                   | 9437184  | [1024, 1024, 3, 3] |\n",
      "|                   unet.up_blocks.0.resnets.1.conv2.bias                    |   1024   |       [1024]       |\n",
      "|              unet.up_blocks.0.resnets.1.conv_shortcut.weight               | 2097152  | [1024, 2048, 1, 1] |\n",
      "|               unet.up_blocks.0.resnets.1.conv_shortcut.bias                |   1024   |       [1024]       |\n",
      "|                  unet.up_blocks.0.resnets.2.norm1.weight                   |   1280   |       [1280]       |\n",
      "|                   unet.up_blocks.0.resnets.2.norm1.bias                    |   1280   |       [1280]       |\n",
      "|                  unet.up_blocks.0.resnets.2.conv1.weight                   | 11796480 | [1024, 1280, 3, 3] |\n",
      "|                   unet.up_blocks.0.resnets.2.conv1.bias                    |   1024   |       [1024]       |\n",
      "|              unet.up_blocks.0.resnets.2.time_emb_proj.weight               |  262144  |    [1024, 256]     |\n",
      "|               unet.up_blocks.0.resnets.2.time_emb_proj.bias                |   1024   |       [1024]       |\n",
      "|                  unet.up_blocks.0.resnets.2.norm2.weight                   |   1024   |       [1024]       |\n",
      "|                   unet.up_blocks.0.resnets.2.norm2.bias                    |   1024   |       [1024]       |\n",
      "|                  unet.up_blocks.0.resnets.2.conv2.weight                   | 9437184  | [1024, 1024, 3, 3] |\n",
      "|                   unet.up_blocks.0.resnets.2.conv2.bias                    |   1024   |       [1024]       |\n",
      "|              unet.up_blocks.0.resnets.2.conv_shortcut.weight               | 1310720  | [1024, 1280, 1, 1] |\n",
      "|               unet.up_blocks.0.resnets.2.conv_shortcut.bias                |   1024   |       [1024]       |\n",
      "|                 unet.up_blocks.0.upsamplers.0.conv.weight                  | 9437184  | [1024, 1024, 3, 3] |\n",
      "|                  unet.up_blocks.0.upsamplers.0.conv.bias                   |   1024   |       [1024]       |\n",
      "|      unet.up_blocks.1.attentions.0.transformer_blocks.0.norm1.weight       |   256    |       [256]        |\n",
      "|       unet.up_blocks.1.attentions.0.transformer_blocks.0.norm1.bias        |   256    |       [256]        |\n",
      "|    unet.up_blocks.1.attentions.0.transformer_blocks.0.attn1.to_q.weight    |  65536   |     [256, 256]     |\n",
      "|    unet.up_blocks.1.attentions.0.transformer_blocks.0.attn1.to_k.weight    |  32768   |     [256, 128]     |\n",
      "|    unet.up_blocks.1.attentions.0.transformer_blocks.0.attn1.to_v.weight    |  32768   |     [256, 128]     |\n",
      "|  unet.up_blocks.1.attentions.0.transformer_blocks.0.attn1.to_out.0.weight  |  65536   |     [256, 256]     |\n",
      "|   unet.up_blocks.1.attentions.0.transformer_blocks.0.attn1.to_out.0.bias   |   256    |       [256]        |\n",
      "|      unet.up_blocks.1.attentions.0.transformer_blocks.0.norm2.weight       |   256    |       [256]        |\n",
      "|       unet.up_blocks.1.attentions.0.transformer_blocks.0.norm2.bias        |   256    |       [256]        |\n",
      "|    unet.up_blocks.1.attentions.0.transformer_blocks.0.attn2.to_q.weight    |  65536   |     [256, 256]     |\n",
      "|    unet.up_blocks.1.attentions.0.transformer_blocks.0.attn2.to_k.weight    |  32768   |     [256, 128]     |\n",
      "|    unet.up_blocks.1.attentions.0.transformer_blocks.0.attn2.to_v.weight    |  32768   |     [256, 128]     |\n",
      "|  unet.up_blocks.1.attentions.0.transformer_blocks.0.attn2.to_out.0.weight  |  65536   |     [256, 256]     |\n",
      "|   unet.up_blocks.1.attentions.0.transformer_blocks.0.attn2.to_out.0.bias   |   256    |       [256]        |\n",
      "|      unet.up_blocks.1.attentions.0.transformer_blocks.0.norm3.weight       |   256    |       [256]        |\n",
      "|       unet.up_blocks.1.attentions.0.transformer_blocks.0.norm3.bias        |   256    |       [256]        |\n",
      "|  unet.up_blocks.1.attentions.0.transformer_blocks.0.ff.net.0.proj.weight   |  524288  |    [2048, 256]     |\n",
      "|   unet.up_blocks.1.attentions.0.transformer_blocks.0.ff.net.0.proj.bias    |   2048   |       [2048]       |\n",
      "|     unet.up_blocks.1.attentions.0.transformer_blocks.0.ff.net.2.weight     |  262144  |    [256, 1024]     |\n",
      "|      unet.up_blocks.1.attentions.0.transformer_blocks.0.ff.net.2.bias      |   256    |       [256]        |\n",
      "|               unet.up_blocks.1.attentions.0.proj_out.weight                |  262144  |    [1024, 256]     |\n",
      "|                unet.up_blocks.1.attentions.0.proj_out.bias                 |   1024   |       [1024]       |\n",
      "|            unet.up_blocks.1.attentions.0.pos_embed.proj.weight             |  262144  |  [256, 256, 2, 2]  |\n",
      "|             unet.up_blocks.1.attentions.0.pos_embed.proj.bias              |   256    |       [256]        |\n",
      "|               unet.up_blocks.1.attentions.0.norm_out.weight                |   256    |       [256]        |\n",
      "|                unet.up_blocks.1.attentions.0.norm_out.bias                 |   256    |       [256]        |\n",
      "|      unet.up_blocks.1.attentions.1.transformer_blocks.0.norm1.weight       |   256    |       [256]        |\n",
      "|       unet.up_blocks.1.attentions.1.transformer_blocks.0.norm1.bias        |   256    |       [256]        |\n",
      "|    unet.up_blocks.1.attentions.1.transformer_blocks.0.attn1.to_q.weight    |  65536   |     [256, 256]     |\n",
      "|    unet.up_blocks.1.attentions.1.transformer_blocks.0.attn1.to_k.weight    |  32768   |     [256, 128]     |\n",
      "|    unet.up_blocks.1.attentions.1.transformer_blocks.0.attn1.to_v.weight    |  32768   |     [256, 128]     |\n",
      "|  unet.up_blocks.1.attentions.1.transformer_blocks.0.attn1.to_out.0.weight  |  65536   |     [256, 256]     |\n",
      "|   unet.up_blocks.1.attentions.1.transformer_blocks.0.attn1.to_out.0.bias   |   256    |       [256]        |\n",
      "|      unet.up_blocks.1.attentions.1.transformer_blocks.0.norm2.weight       |   256    |       [256]        |\n",
      "|       unet.up_blocks.1.attentions.1.transformer_blocks.0.norm2.bias        |   256    |       [256]        |\n",
      "|    unet.up_blocks.1.attentions.1.transformer_blocks.0.attn2.to_q.weight    |  65536   |     [256, 256]     |\n",
      "|    unet.up_blocks.1.attentions.1.transformer_blocks.0.attn2.to_k.weight    |  32768   |     [256, 128]     |\n",
      "|    unet.up_blocks.1.attentions.1.transformer_blocks.0.attn2.to_v.weight    |  32768   |     [256, 128]     |\n",
      "|  unet.up_blocks.1.attentions.1.transformer_blocks.0.attn2.to_out.0.weight  |  65536   |     [256, 256]     |\n",
      "|   unet.up_blocks.1.attentions.1.transformer_blocks.0.attn2.to_out.0.bias   |   256    |       [256]        |\n",
      "|      unet.up_blocks.1.attentions.1.transformer_blocks.0.norm3.weight       |   256    |       [256]        |\n",
      "|       unet.up_blocks.1.attentions.1.transformer_blocks.0.norm3.bias        |   256    |       [256]        |\n",
      "|  unet.up_blocks.1.attentions.1.transformer_blocks.0.ff.net.0.proj.weight   |  524288  |    [2048, 256]     |\n",
      "|   unet.up_blocks.1.attentions.1.transformer_blocks.0.ff.net.0.proj.bias    |   2048   |       [2048]       |\n",
      "|     unet.up_blocks.1.attentions.1.transformer_blocks.0.ff.net.2.weight     |  262144  |    [256, 1024]     |\n",
      "|      unet.up_blocks.1.attentions.1.transformer_blocks.0.ff.net.2.bias      |   256    |       [256]        |\n",
      "|               unet.up_blocks.1.attentions.1.proj_out.weight                |  262144  |    [1024, 256]     |\n",
      "|                unet.up_blocks.1.attentions.1.proj_out.bias                 |   1024   |       [1024]       |\n",
      "|            unet.up_blocks.1.attentions.1.pos_embed.proj.weight             |  262144  |  [256, 256, 2, 2]  |\n",
      "|             unet.up_blocks.1.attentions.1.pos_embed.proj.bias              |   256    |       [256]        |\n",
      "|               unet.up_blocks.1.attentions.1.norm_out.weight                |   256    |       [256]        |\n",
      "|                unet.up_blocks.1.attentions.1.norm_out.bias                 |   256    |       [256]        |\n",
      "|      unet.up_blocks.1.attentions.2.transformer_blocks.0.norm1.weight       |   256    |       [256]        |\n",
      "|       unet.up_blocks.1.attentions.2.transformer_blocks.0.norm1.bias        |   256    |       [256]        |\n",
      "|    unet.up_blocks.1.attentions.2.transformer_blocks.0.attn1.to_q.weight    |  65536   |     [256, 256]     |\n",
      "|    unet.up_blocks.1.attentions.2.transformer_blocks.0.attn1.to_k.weight    |  32768   |     [256, 128]     |\n",
      "|    unet.up_blocks.1.attentions.2.transformer_blocks.0.attn1.to_v.weight    |  32768   |     [256, 128]     |\n",
      "|  unet.up_blocks.1.attentions.2.transformer_blocks.0.attn1.to_out.0.weight  |  65536   |     [256, 256]     |\n",
      "|   unet.up_blocks.1.attentions.2.transformer_blocks.0.attn1.to_out.0.bias   |   256    |       [256]        |\n",
      "|      unet.up_blocks.1.attentions.2.transformer_blocks.0.norm2.weight       |   256    |       [256]        |\n",
      "|       unet.up_blocks.1.attentions.2.transformer_blocks.0.norm2.bias        |   256    |       [256]        |\n",
      "|    unet.up_blocks.1.attentions.2.transformer_blocks.0.attn2.to_q.weight    |  65536   |     [256, 256]     |\n",
      "|    unet.up_blocks.1.attentions.2.transformer_blocks.0.attn2.to_k.weight    |  32768   |     [256, 128]     |\n",
      "|    unet.up_blocks.1.attentions.2.transformer_blocks.0.attn2.to_v.weight    |  32768   |     [256, 128]     |\n",
      "|  unet.up_blocks.1.attentions.2.transformer_blocks.0.attn2.to_out.0.weight  |  65536   |     [256, 256]     |\n",
      "|   unet.up_blocks.1.attentions.2.transformer_blocks.0.attn2.to_out.0.bias   |   256    |       [256]        |\n",
      "|      unet.up_blocks.1.attentions.2.transformer_blocks.0.norm3.weight       |   256    |       [256]        |\n",
      "|       unet.up_blocks.1.attentions.2.transformer_blocks.0.norm3.bias        |   256    |       [256]        |\n",
      "|  unet.up_blocks.1.attentions.2.transformer_blocks.0.ff.net.0.proj.weight   |  524288  |    [2048, 256]     |\n",
      "|   unet.up_blocks.1.attentions.2.transformer_blocks.0.ff.net.0.proj.bias    |   2048   |       [2048]       |\n",
      "|     unet.up_blocks.1.attentions.2.transformer_blocks.0.ff.net.2.weight     |  262144  |    [256, 1024]     |\n",
      "|      unet.up_blocks.1.attentions.2.transformer_blocks.0.ff.net.2.bias      |   256    |       [256]        |\n",
      "|               unet.up_blocks.1.attentions.2.proj_out.weight                |  262144  |    [1024, 256]     |\n",
      "|                unet.up_blocks.1.attentions.2.proj_out.bias                 |   1024   |       [1024]       |\n",
      "|            unet.up_blocks.1.attentions.2.pos_embed.proj.weight             |  262144  |  [256, 256, 2, 2]  |\n",
      "|             unet.up_blocks.1.attentions.2.pos_embed.proj.bias              |   256    |       [256]        |\n",
      "|               unet.up_blocks.1.attentions.2.norm_out.weight                |   256    |       [256]        |\n",
      "|                unet.up_blocks.1.attentions.2.norm_out.bias                 |   256    |       [256]        |\n",
      "|                  unet.up_blocks.1.resnets.0.norm1.weight                   |   1280   |       [1280]       |\n",
      "|                   unet.up_blocks.1.resnets.0.norm1.bias                    |   1280   |       [1280]       |\n",
      "|                  unet.up_blocks.1.resnets.0.conv1.weight                   | 2949120  | [256, 1280, 3, 3]  |\n",
      "|                   unet.up_blocks.1.resnets.0.conv1.bias                    |   256    |       [256]        |\n",
      "|              unet.up_blocks.1.resnets.0.time_emb_proj.weight               |  65536   |     [256, 256]     |\n",
      "|               unet.up_blocks.1.resnets.0.time_emb_proj.bias                |   256    |       [256]        |\n",
      "|                  unet.up_blocks.1.resnets.0.norm2.weight                   |   256    |       [256]        |\n",
      "|                   unet.up_blocks.1.resnets.0.norm2.bias                    |   256    |       [256]        |\n",
      "|                  unet.up_blocks.1.resnets.0.conv2.weight                   |  589824  |  [256, 256, 3, 3]  |\n",
      "|                   unet.up_blocks.1.resnets.0.conv2.bias                    |   256    |       [256]        |\n",
      "|              unet.up_blocks.1.resnets.0.conv_shortcut.weight               |  327680  | [256, 1280, 1, 1]  |\n",
      "|               unet.up_blocks.1.resnets.0.conv_shortcut.bias                |   256    |       [256]        |\n",
      "|                  unet.up_blocks.1.resnets.1.norm1.weight                   |   512    |       [512]        |\n",
      "|                   unet.up_blocks.1.resnets.1.norm1.bias                    |   512    |       [512]        |\n",
      "|                  unet.up_blocks.1.resnets.1.conv1.weight                   | 1179648  |  [256, 512, 3, 3]  |\n",
      "|                   unet.up_blocks.1.resnets.1.conv1.bias                    |   256    |       [256]        |\n",
      "|              unet.up_blocks.1.resnets.1.time_emb_proj.weight               |  65536   |     [256, 256]     |\n",
      "|               unet.up_blocks.1.resnets.1.time_emb_proj.bias                |   256    |       [256]        |\n",
      "|                  unet.up_blocks.1.resnets.1.norm2.weight                   |   256    |       [256]        |\n",
      "|                   unet.up_blocks.1.resnets.1.norm2.bias                    |   256    |       [256]        |\n",
      "|                  unet.up_blocks.1.resnets.1.conv2.weight                   |  589824  |  [256, 256, 3, 3]  |\n",
      "|                   unet.up_blocks.1.resnets.1.conv2.bias                    |   256    |       [256]        |\n",
      "|              unet.up_blocks.1.resnets.1.conv_shortcut.weight               |  131072  |  [256, 512, 1, 1]  |\n",
      "|               unet.up_blocks.1.resnets.1.conv_shortcut.bias                |   256    |       [256]        |\n",
      "|                  unet.up_blocks.1.resnets.2.norm1.weight                   |   320    |       [320]        |\n",
      "|                   unet.up_blocks.1.resnets.2.norm1.bias                    |   320    |       [320]        |\n",
      "|                  unet.up_blocks.1.resnets.2.conv1.weight                   |  737280  |  [256, 320, 3, 3]  |\n",
      "|                   unet.up_blocks.1.resnets.2.conv1.bias                    |   256    |       [256]        |\n",
      "|              unet.up_blocks.1.resnets.2.time_emb_proj.weight               |  65536   |     [256, 256]     |\n",
      "|               unet.up_blocks.1.resnets.2.time_emb_proj.bias                |   256    |       [256]        |\n",
      "|                  unet.up_blocks.1.resnets.2.norm2.weight                   |   256    |       [256]        |\n",
      "|                   unet.up_blocks.1.resnets.2.norm2.bias                    |   256    |       [256]        |\n",
      "|                  unet.up_blocks.1.resnets.2.conv2.weight                   |  589824  |  [256, 256, 3, 3]  |\n",
      "|                   unet.up_blocks.1.resnets.2.conv2.bias                    |   256    |       [256]        |\n",
      "|              unet.up_blocks.1.resnets.2.conv_shortcut.weight               |  81920   |  [256, 320, 1, 1]  |\n",
      "|               unet.up_blocks.1.resnets.2.conv_shortcut.bias                |   256    |       [256]        |\n",
      "|                 unet.up_blocks.1.upsamplers.0.conv.weight                  |  589824  |  [256, 256, 3, 3]  |\n",
      "|                  unet.up_blocks.1.upsamplers.0.conv.bias                   |   256    |       [256]        |\n",
      "|                  unet.up_blocks.2.resnets.0.norm1.weight                   |   320    |       [320]        |\n",
      "|                   unet.up_blocks.2.resnets.0.norm1.bias                    |   320    |       [320]        |\n",
      "|                  unet.up_blocks.2.resnets.0.conv1.weight                   |  184320  |  [64, 320, 3, 3]   |\n",
      "|                   unet.up_blocks.2.resnets.0.conv1.bias                    |    64    |        [64]        |\n",
      "|              unet.up_blocks.2.resnets.0.time_emb_proj.weight               |  16384   |     [64, 256]      |\n",
      "|               unet.up_blocks.2.resnets.0.time_emb_proj.bias                |    64    |        [64]        |\n",
      "|                  unet.up_blocks.2.resnets.0.norm2.weight                   |    64    |        [64]        |\n",
      "|                   unet.up_blocks.2.resnets.0.norm2.bias                    |    64    |        [64]        |\n",
      "|                  unet.up_blocks.2.resnets.0.conv2.weight                   |  36864   |   [64, 64, 3, 3]   |\n",
      "|                   unet.up_blocks.2.resnets.0.conv2.bias                    |    64    |        [64]        |\n",
      "|              unet.up_blocks.2.resnets.0.conv_shortcut.weight               |  20480   |  [64, 320, 1, 1]   |\n",
      "|               unet.up_blocks.2.resnets.0.conv_shortcut.bias                |    64    |        [64]        |\n",
      "|                  unet.up_blocks.2.resnets.1.norm1.weight                   |   128    |       [128]        |\n",
      "|                   unet.up_blocks.2.resnets.1.norm1.bias                    |   128    |       [128]        |\n",
      "|                  unet.up_blocks.2.resnets.1.conv1.weight                   |  73728   |  [64, 128, 3, 3]   |\n",
      "|                   unet.up_blocks.2.resnets.1.conv1.bias                    |    64    |        [64]        |\n",
      "|              unet.up_blocks.2.resnets.1.time_emb_proj.weight               |  16384   |     [64, 256]      |\n",
      "|               unet.up_blocks.2.resnets.1.time_emb_proj.bias                |    64    |        [64]        |\n",
      "|                  unet.up_blocks.2.resnets.1.norm2.weight                   |    64    |        [64]        |\n",
      "|                   unet.up_blocks.2.resnets.1.norm2.bias                    |    64    |        [64]        |\n",
      "|                  unet.up_blocks.2.resnets.1.conv2.weight                   |  36864   |   [64, 64, 3, 3]   |\n",
      "|                   unet.up_blocks.2.resnets.1.conv2.bias                    |    64    |        [64]        |\n",
      "|              unet.up_blocks.2.resnets.1.conv_shortcut.weight               |   8192   |  [64, 128, 1, 1]   |\n",
      "|               unet.up_blocks.2.resnets.1.conv_shortcut.bias                |    64    |        [64]        |\n",
      "|                  unet.up_blocks.2.resnets.2.norm1.weight                   |   128    |       [128]        |\n",
      "|                   unet.up_blocks.2.resnets.2.norm1.bias                    |   128    |       [128]        |\n",
      "|                  unet.up_blocks.2.resnets.2.conv1.weight                   |  73728   |  [64, 128, 3, 3]   |\n",
      "|                   unet.up_blocks.2.resnets.2.conv1.bias                    |    64    |        [64]        |\n",
      "|              unet.up_blocks.2.resnets.2.time_emb_proj.weight               |  16384   |     [64, 256]      |\n",
      "|               unet.up_blocks.2.resnets.2.time_emb_proj.bias                |    64    |        [64]        |\n",
      "|                  unet.up_blocks.2.resnets.2.norm2.weight                   |    64    |        [64]        |\n",
      "|                   unet.up_blocks.2.resnets.2.norm2.bias                    |    64    |        [64]        |\n",
      "|                  unet.up_blocks.2.resnets.2.conv2.weight                   |  36864   |   [64, 64, 3, 3]   |\n",
      "|                   unet.up_blocks.2.resnets.2.conv2.bias                    |    64    |        [64]        |\n",
      "|              unet.up_blocks.2.resnets.2.conv_shortcut.weight               |   8192   |  [64, 128, 1, 1]   |\n",
      "|               unet.up_blocks.2.resnets.2.conv_shortcut.bias                |    64    |        [64]        |\n",
      "|       unet.mid_block.attentions.0.transformer_blocks.0.norm1.weight        |   1024   |       [1024]       |\n",
      "|        unet.mid_block.attentions.0.transformer_blocks.0.norm1.bias         |   1024   |       [1024]       |\n",
      "|     unet.mid_block.attentions.0.transformer_blocks.0.attn1.to_q.weight     | 1048576  |    [1024, 1024]    |\n",
      "|     unet.mid_block.attentions.0.transformer_blocks.0.attn1.to_k.weight     |  131072  |    [1024, 128]     |\n",
      "|     unet.mid_block.attentions.0.transformer_blocks.0.attn1.to_v.weight     |  131072  |    [1024, 128]     |\n",
      "|   unet.mid_block.attentions.0.transformer_blocks.0.attn1.to_out.0.weight   | 1048576  |    [1024, 1024]    |\n",
      "|    unet.mid_block.attentions.0.transformer_blocks.0.attn1.to_out.0.bias    |   1024   |       [1024]       |\n",
      "|       unet.mid_block.attentions.0.transformer_blocks.0.norm2.weight        |   1024   |       [1024]       |\n",
      "|        unet.mid_block.attentions.0.transformer_blocks.0.norm2.bias         |   1024   |       [1024]       |\n",
      "|     unet.mid_block.attentions.0.transformer_blocks.0.attn2.to_q.weight     | 1048576  |    [1024, 1024]    |\n",
      "|     unet.mid_block.attentions.0.transformer_blocks.0.attn2.to_k.weight     |  131072  |    [1024, 128]     |\n",
      "|     unet.mid_block.attentions.0.transformer_blocks.0.attn2.to_v.weight     |  131072  |    [1024, 128]     |\n",
      "|   unet.mid_block.attentions.0.transformer_blocks.0.attn2.to_out.0.weight   | 1048576  |    [1024, 1024]    |\n",
      "|    unet.mid_block.attentions.0.transformer_blocks.0.attn2.to_out.0.bias    |   1024   |       [1024]       |\n",
      "|       unet.mid_block.attentions.0.transformer_blocks.0.norm3.weight        |   1024   |       [1024]       |\n",
      "|        unet.mid_block.attentions.0.transformer_blocks.0.norm3.bias         |   1024   |       [1024]       |\n",
      "|   unet.mid_block.attentions.0.transformer_blocks.0.ff.net.0.proj.weight    | 8388608  |    [8192, 1024]    |\n",
      "|    unet.mid_block.attentions.0.transformer_blocks.0.ff.net.0.proj.bias     |   8192   |       [8192]       |\n",
      "|      unet.mid_block.attentions.0.transformer_blocks.0.ff.net.2.weight      | 4194304  |    [1024, 4096]    |\n",
      "|       unet.mid_block.attentions.0.transformer_blocks.0.ff.net.2.bias       |   1024   |       [1024]       |\n",
      "|                unet.mid_block.attentions.0.proj_out.weight                 | 4194304  |    [4096, 1024]    |\n",
      "|                 unet.mid_block.attentions.0.proj_out.bias                  |   4096   |       [4096]       |\n",
      "|             unet.mid_block.attentions.0.pos_embed.proj.weight              | 4194304  | [1024, 1024, 2, 2] |\n",
      "|              unet.mid_block.attentions.0.pos_embed.proj.bias               |   1024   |       [1024]       |\n",
      "|                unet.mid_block.attentions.0.norm_out.weight                 |   1024   |       [1024]       |\n",
      "|                 unet.mid_block.attentions.0.norm_out.bias                  |   1024   |       [1024]       |\n",
      "|                   unet.mid_block.resnets.0.norm1.weight                    |   1024   |       [1024]       |\n",
      "|                    unet.mid_block.resnets.0.norm1.bias                     |   1024   |       [1024]       |\n",
      "|                   unet.mid_block.resnets.0.conv1.weight                    | 9437184  | [1024, 1024, 3, 3] |\n",
      "|                    unet.mid_block.resnets.0.conv1.bias                     |   1024   |       [1024]       |\n",
      "|               unet.mid_block.resnets.0.time_emb_proj.weight                |  262144  |    [1024, 256]     |\n",
      "|                unet.mid_block.resnets.0.time_emb_proj.bias                 |   1024   |       [1024]       |\n",
      "|                   unet.mid_block.resnets.0.norm2.weight                    |   1024   |       [1024]       |\n",
      "|                    unet.mid_block.resnets.0.norm2.bias                     |   1024   |       [1024]       |\n",
      "|                   unet.mid_block.resnets.0.conv2.weight                    | 9437184  | [1024, 1024, 3, 3] |\n",
      "|                    unet.mid_block.resnets.0.conv2.bias                     |   1024   |       [1024]       |\n",
      "|                   unet.mid_block.resnets.1.norm1.weight                    |   1024   |       [1024]       |\n",
      "|                    unet.mid_block.resnets.1.norm1.bias                     |   1024   |       [1024]       |\n",
      "|                   unet.mid_block.resnets.1.conv1.weight                    | 9437184  | [1024, 1024, 3, 3] |\n",
      "|                    unet.mid_block.resnets.1.conv1.bias                     |   1024   |       [1024]       |\n",
      "|               unet.mid_block.resnets.1.time_emb_proj.weight                |  262144  |    [1024, 256]     |\n",
      "|                unet.mid_block.resnets.1.time_emb_proj.bias                 |   1024   |       [1024]       |\n",
      "|                   unet.mid_block.resnets.1.norm2.weight                    |   1024   |       [1024]       |\n",
      "|                    unet.mid_block.resnets.1.norm2.bias                     |   1024   |       [1024]       |\n",
      "|                   unet.mid_block.resnets.1.conv2.weight                    | 9437184  | [1024, 1024, 3, 3] |\n",
      "|                    unet.mid_block.resnets.1.conv2.bias                     |   1024   |       [1024]       |\n",
      "|                         unet.conv_norm_out.weight                          |    64    |        [64]        |\n",
      "|                          unet.conv_norm_out.bias                           |    64    |        [64]        |\n",
      "|                            unet.conv_out.weight                            |   1728   |   [3, 64, 3, 3]    |\n",
      "|                             unet.conv_out.bias                             |    3     |        [3]         |\n",
      "+----------------------------------------------------------------------------+----------+--------------------+\n",
      "Total Params: 337742723\n"
     ]
    }
   ],
   "source": [
    "count_parameters(model)"
   ]
  },
  {
   "cell_type": "code",
   "execution_count": 6,
   "metadata": {},
   "outputs": [
    {
     "data": {
      "text/plain": [
       "337742723"
      ]
     },
     "execution_count": 6,
     "metadata": {},
     "output_type": "execute_result"
    }
   ],
   "source": [
    "sum(p.numel() for p in model.parameters() if p.requires_grad)"
   ]
  },
  {
   "cell_type": "code",
   "execution_count": 7,
   "metadata": {},
   "outputs": [
    {
     "data": {
      "text/plain": [
       "True"
      ]
     },
     "execution_count": 7,
     "metadata": {},
     "output_type": "execute_result"
    }
   ],
   "source": [
    "model.unet.down_blocks[2].attentions[0].is_input_patches\n",
    "#model.unet.config.attention_head_dim"
   ]
  },
  {
   "cell_type": "code",
   "execution_count": 9,
   "metadata": {},
   "outputs": [
    {
     "data": {
      "text/plain": [
       "519062147"
      ]
     },
     "execution_count": 9,
     "metadata": {},
     "output_type": "execute_result"
    }
   ],
   "source": [
    "67108864*3 + 4194304*2 + 1024*3 + 256*2 + 309343363"
   ]
  },
  {
   "cell_type": "code",
   "execution_count": 26,
   "metadata": {},
   "outputs": [],
   "source": [
    "model.unet.down_blocks[2].attentions[0].config.sample_size"
   ]
  },
  {
   "cell_type": "code",
   "execution_count": null,
   "metadata": {},
   "outputs": [],
   "source": []
  }
 ],
 "metadata": {
  "kernelspec": {
   "display_name": "venv",
   "language": "python",
   "name": "venv"
  },
  "language_info": {
   "codemirror_mode": {
    "name": "ipython",
    "version": 3
   },
   "file_extension": ".py",
   "mimetype": "text/x-python",
   "name": "python",
   "nbconvert_exporter": "python",
   "pygments_lexer": "ipython3",
   "version": "3.8.10"
  }
 },
 "nbformat": 4,
 "nbformat_minor": 2
}
