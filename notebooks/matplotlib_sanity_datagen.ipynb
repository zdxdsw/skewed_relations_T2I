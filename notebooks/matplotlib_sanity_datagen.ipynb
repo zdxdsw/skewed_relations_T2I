{
 "cells": [
  {
   "cell_type": "code",
   "execution_count": 1,
   "metadata": {},
   "outputs": [],
   "source": [
    "from matplotlib import pyplot as plt\n",
    "import os, json, re, random, io, pytz, itertools, shutil\n",
    "from matplotlib.patches import Circle, Wedge, Polygon, Rectangle\n",
    "from pprint import pprint\n",
    "from PIL import Image\n",
    "from tqdm import tqdm\n",
    "import pandas as pd"
   ]
  },
  {
   "cell_type": "code",
   "execution_count": 14,
   "metadata": {},
   "outputs": [],
   "source": [
    "SIZES = [7, 8, 9, 10, 11, 12]\n",
    "X_OFFSETS = [-5, -4, -3, -2, -1, 0, 1, 2, 3, 4, 5]\n",
    "Y_OFFSETS = [-5, -4, -3, -2, -1, 0, 1, 2, 3, 4, 5]\n",
    "COLORS = {\n",
    "    \"red\": \"#ff0000\", \n",
    "    \"blue\": \"#0000ff\", \n",
    "    \"green\": \"#008000\",\n",
    "    \"black\": \"#000000\",\n",
    "    \"pink\": \"#ff69b4\", \n",
    "    \"yellow\": \"#ffff00\",\n",
    "    \"purple\": \"#800080\",\n",
    "    \"orange\": \"#FFA500\",\n",
    "    \"cyan\": \"#00FFFF\",\n",
    "    \"brown\": \"#A52A2A\",\n",
    "    \"grey\": \"#808080\",\n",
    "    \"lime\":\"#00FF00\",\n",
    "\n",
    "    \"sky blue\": \"#87CEEB\",\n",
    "    \"turquoise\": \"#40E0D0\",\n",
    "    \"dark cyan\": \"#008B8B\",\n",
    "    \"yellow green\": \"#9ACD32\",\n",
    "    \"pale green\": \"#98FB98\",\n",
    "    \"olive\": \"#808000\",\n",
    "    \"deep pink\": \"#FF1493\",\n",
    "    \"light salmon\": '#FFA07A',\n",
    "    \"dark khaki\": '#BDB76B',\n",
    "    \"medium orchid\": '#BA55D3',\n",
    "    \"slate blue\": '#6A5ACD',\n",
    "    \"rosy brown\": '#BC8F8F',\n",
    "    \"saddle brown\": '#8B4513',\n",
    "    \"light grey\": '#D3D3D3',\n",
    "    \"gold\": '#FFD700',\n",
    "    \"powder blue\": \"#B0E0E6\",\n",
    "    \"burly wood\": \"#DEB887\",\n",
    "    \"navy\": \"000080\",\n",
    "}\n"
   ]
  },
  {
   "cell_type": "code",
   "execution_count": 7,
   "metadata": {},
   "outputs": [
    {
     "data": {
      "text/plain": [
       "8712"
      ]
     },
     "execution_count": 7,
     "metadata": {},
     "output_type": "execute_result"
    }
   ],
   "source": [
    "11*11*6*12"
   ]
  },
  {
   "cell_type": "code",
   "execution_count": 15,
   "metadata": {},
   "outputs": [
    {
     "name": "stderr",
     "output_type": "stream",
     "text": [
      "  2%|▏         | 11/726 [00:00<00:06, 108.84it/s]"
     ]
    },
    {
     "name": "stderr",
     "output_type": "stream",
     "text": [
      "100%|██████████| 726/726 [00:06<00:00, 109.73it/s]\n",
      "100%|██████████| 726/726 [00:06<00:00, 108.34it/s]\n",
      "100%|██████████| 726/726 [00:06<00:00, 109.22it/s]\n",
      "100%|██████████| 726/726 [00:06<00:00, 108.89it/s]\n",
      "100%|██████████| 726/726 [00:06<00:00, 107.33it/s]\n",
      "100%|██████████| 726/726 [00:06<00:00, 108.51it/s]\n",
      "100%|██████████| 726/726 [00:06<00:00, 108.41it/s]\n",
      "100%|██████████| 726/726 [00:06<00:00, 106.97it/s]\n",
      "100%|██████████| 726/726 [00:06<00:00, 108.14it/s]\n",
      "100%|██████████| 726/726 [00:06<00:00, 107.88it/s]\n",
      "100%|██████████| 726/726 [00:06<00:00, 105.99it/s]\n",
      "100%|██████████| 726/726 [00:06<00:00, 107.28it/s]\n"
     ]
    }
   ],
   "source": [
    "im_count = 0\n",
    "layout_count = 0\n",
    "pairs = []\n",
    "annotations = {\n",
    "      \"metadata\": {\n",
    "            \"colors\": COLORS,\n",
    "            \"sizes\": SIZES,\n",
    "            \"x_offsets\": X_OFFSETS,\n",
    "            \"y_offsets\": Y_OFFSETS,\n",
    "      }\n",
    "}\n",
    "dir = \"../data/matplotlib/colored_single_sq\"\n",
    "if os.path.exists(f\"{dir}/images/\"): \n",
    "      os.system(f\"rm -rf {dir}/images/*\")\n",
    "else:\n",
    "      os.makedirs(f\"{dir}/images/\")\n",
    "for c1 in COLORS:\n",
    "      for r1, ox, oy in tqdm(itertools.product(SIZES, X_OFFSETS, Y_OFFSETS), total=len(SIZES)*len(X_OFFSETS)*len(Y_OFFSETS)):\n",
    "            plt.ioff() # disable plt.show()\n",
    "            fig = plt.figure(dpi=8, figsize=(4,4)) # The resulting resolution will be 128x128\n",
    "            W, H = fig.get_size_inches()*fig.dpi\n",
    "            fig.patches.append(Rectangle((0.5 - (r1+ox)/2.0/W, 0.5 - (r1+oy)/H/2), r1/W, r1/H, facecolor=COLORS[c1], transform=fig.transFigure))\n",
    "            plt.axis('off')\n",
    "            imgid = str(im_count+10000000)[1:]\n",
    "            fig.savefig(f\"{dir}/images/{imgid}.jpg\")\n",
    "            plt.close(fig)\n",
    "\n",
    "            sentences = []\n",
    "            article = \"an\" if c1[0] in \"aeiou\" else \"a\"\n",
    "            sentences.append({\n",
    "                  \"imgid\": imgid,\n",
    "                  \"raw\": f\"{article} {c1} square\",\n",
    "                  \"sentid\": f\"{imgid}\"\n",
    "            })\n",
    "            pairs.append({\n",
    "                  \"imgid\": imgid,\n",
    "                  \"filename\": f\"{imgid}.jpg\",\n",
    "                  \"sentences\": sentences,\n",
    "            })\n",
    "            im_count += 1\n",
    "      layout_count += 1\n",
    "      #break\n",
    "annotations['data'] = pairs\n",
    "json.dump(annotations, open(f\"{dir}/annotations.json\", \"w\"), indent=2)\n"
   ]
  },
  {
   "cell_type": "code",
   "execution_count": 16,
   "metadata": {},
   "outputs": [
    {
     "data": {
      "image/jpeg": "[encoded data removed]",
      "image/png": "[encoded data removed]",
      "text/plain": [
       "<PIL.Image.Image image mode=RGB size=32x32>"
      ]
     },
     "execution_count": 16,
     "metadata": {},
     "output_type": "execute_result"
    }
   ],
   "source": [
    "filename = random.choice(os.listdir(f\"{dir}/images\"))\n",
    "im = Image.open(f\"{dir}/images/{filename}\").convert(\"RGB\")\n",
    "im"
   ]
  },
  {
   "cell_type": "code",
   "execution_count": 26,
   "metadata": {},
   "outputs": [
    {
     "name": "stdout",
     "output_type": "stream",
     "text": [
      "8712\n"
     ]
    }
   ],
   "source": [
    "train = pd.DataFrame(columns=[\"sentid\", \"filename\", \"sentence\"])\n",
    "train.set_index(\"sentid\")\n",
    "test = pd.DataFrame(columns=[\"sentid\", \"filename\", \"sentence\"])\n",
    "test.set_index(\"sentid\")\n",
    "pairs = json.load(open(f\"{dir}/annotations.json\", \"r\"))[\"data\"]\n",
    "print(len(pairs))"
   ]
  },
  {
   "cell_type": "code",
   "execution_count": 27,
   "metadata": {},
   "outputs": [
    {
     "name": "stdout",
     "output_type": "stream",
     "text": [
      "{'filename': '0000000.jpg',\n",
      " 'imgid': '0000000',\n",
      " 'sentences': [{'imgid': '0000000',\n",
      "                'raw': 'a red square',\n",
      "                'sentid': '0000000'}]}\n"
     ]
    }
   ],
   "source": [
    "pprint(pairs[0])"
   ]
  },
  {
   "cell_type": "code",
   "execution_count": 28,
   "metadata": {},
   "outputs": [
    {
     "name": "stdout",
     "output_type": "stream",
     "text": [
      "7041 1671\n"
     ]
    }
   ],
   "source": [
    "# random 80:20 split\n",
    "for d in pairs:\n",
    "    row = {\n",
    "        \"sentid\": [d['sentences'][0]['sentid']],\n",
    "        \"filename\": [d['filename']],\n",
    "        \"sentence\": [d['sentences'][0]['raw']]\n",
    "    }\n",
    "    row = pd.DataFrame(row)\n",
    "    if random.random() < 0.8:\n",
    "        train = pd.concat([train, pd.DataFrame(row)])\n",
    "    else:\n",
    "        test = pd.concat([test, pd.DataFrame(row)])\n",
    "print(len(train), len(test))\n",
    "train.to_csv(f\"{dir}/random_80_20_split/train.csv\", index=False)\n",
    "test.to_csv(f\"{dir}/random_80_20_split/test.csv\", index=False)\n"
   ]
  },
  {
   "cell_type": "code",
   "execution_count": 29,
   "metadata": {},
   "outputs": [
    {
     "data": {
      "text/html": [
       "<div>\n",
       "<style scoped>\n",
       "    .dataframe tbody tr th:only-of-type {\n",
       "        vertical-align: middle;\n",
       "    }\n",
       "\n",
       "    .dataframe tbody tr th {\n",
       "        vertical-align: top;\n",
       "    }\n",
       "\n",
       "    .dataframe thead th {\n",
       "        text-align: right;\n",
       "    }\n",
       "</style>\n",
       "<table border=\"1\" class=\"dataframe\">\n",
       "  <thead>\n",
       "    <tr style=\"text-align: right;\">\n",
       "      <th></th>\n",
       "      <th>sentid</th>\n",
       "      <th>filename</th>\n",
       "      <th>sentence</th>\n",
       "    </tr>\n",
       "  </thead>\n",
       "  <tbody>\n",
       "    <tr>\n",
       "      <th>0</th>\n",
       "      <td>0000000</td>\n",
       "      <td>0000000.jpg</td>\n",
       "      <td>a red square</td>\n",
       "    </tr>\n",
       "    <tr>\n",
       "      <th>0</th>\n",
       "      <td>0000001</td>\n",
       "      <td>0000001.jpg</td>\n",
       "      <td>a red square</td>\n",
       "    </tr>\n",
       "    <tr>\n",
       "      <th>0</th>\n",
       "      <td>0000002</td>\n",
       "      <td>0000002.jpg</td>\n",
       "      <td>a red square</td>\n",
       "    </tr>\n",
       "    <tr>\n",
       "      <th>0</th>\n",
       "      <td>0000003</td>\n",
       "      <td>0000003.jpg</td>\n",
       "      <td>a red square</td>\n",
       "    </tr>\n",
       "    <tr>\n",
       "      <th>0</th>\n",
       "      <td>0000008</td>\n",
       "      <td>0000008.jpg</td>\n",
       "      <td>a red square</td>\n",
       "    </tr>\n",
       "  </tbody>\n",
       "</table>\n",
       "</div>"
      ],
      "text/plain": [
       "    sentid     filename      sentence\n",
       "0  0000000  0000000.jpg  a red square\n",
       "0  0000001  0000001.jpg  a red square\n",
       "0  0000002  0000002.jpg  a red square\n",
       "0  0000003  0000003.jpg  a red square\n",
       "0  0000008  0000008.jpg  a red square"
      ]
     },
     "execution_count": 29,
     "metadata": {},
     "output_type": "execute_result"
    }
   ],
   "source": [
    "#train.reset_index(drop=True)\n",
    "train.head()"
   ]
  },
  {
   "cell_type": "code",
   "execution_count": 31,
   "metadata": {},
   "outputs": [
    {
     "data": {
      "application/vnd.jupyter.widget-view+json": {
       "model_id": "5a15845956c6427e94141bdea0eb99d1",
       "version_major": 2,
       "version_minor": 0
      },
      "text/plain": [
       "Downloading data files:   0%|          | 0/2 [00:00<?, ?it/s]"
      ]
     },
     "metadata": {},
     "output_type": "display_data"
    },
    {
     "data": {
      "application/vnd.jupyter.widget-view+json": {
       "model_id": "9b98c4cbc7af44b2851d6679ec88fd95",
       "version_major": 2,
       "version_minor": 0
      },
      "text/plain": [
       "Extracting data files:   0%|          | 0/2 [00:00<?, ?it/s]"
      ]
     },
     "metadata": {},
     "output_type": "display_data"
    },
    {
     "data": {
      "application/vnd.jupyter.widget-view+json": {
       "model_id": "5d3b07a851cc47aa9df40f94721b0821",
       "version_major": 2,
       "version_minor": 0
      },
      "text/plain": [
       "Generating train split: 0 examples [00:00, ? examples/s]"
      ]
     },
     "metadata": {},
     "output_type": "display_data"
    },
    {
     "data": {
      "application/vnd.jupyter.widget-view+json": {
       "model_id": "76a705dab9e243528195aa6a18f3c484",
       "version_major": 2,
       "version_minor": 0
      },
      "text/plain": [
       "Generating test split: 0 examples [00:00, ? examples/s]"
      ]
     },
     "metadata": {},
     "output_type": "display_data"
    },
    {
     "name": "stdout",
     "output_type": "stream",
     "text": [
      "1671\n"
     ]
    },
    {
     "data": {
      "text/plain": [
       "{'sentid': 5282, 'filename': '0005282.jpg', 'sentence': 'an orange square'}"
      ]
     },
     "execution_count": 31,
     "metadata": {},
     "output_type": "execute_result"
    }
   ],
   "source": [
    "from datasets import load_dataset\n",
    "data = load_dataset(f\"{dir}/random_80_20_split\", split=\"test\")\n",
    "print(len(data))\n",
    "data[1000]"
   ]
  },
  {
   "cell_type": "code",
   "execution_count": null,
   "metadata": {},
   "outputs": [],
   "source": []
  },
  {
   "cell_type": "code",
   "execution_count": null,
   "metadata": {},
   "outputs": [],
   "source": []
  }
 ],
 "metadata": {
  "kernelspec": {
   "display_name": "venv",
   "language": "python",
   "name": "python3"
  },
  "language_info": {
   "codemirror_mode": {
    "name": "ipython",
    "version": 3
   },
   "file_extension": ".py",
   "mimetype": "text/x-python",
   "name": "python",
   "nbconvert_exporter": "python",
   "pygments_lexer": "ipython3",
   "version": "3.8.10"
  }
 },
 "nbformat": 4,
 "nbformat_minor": 2
}
