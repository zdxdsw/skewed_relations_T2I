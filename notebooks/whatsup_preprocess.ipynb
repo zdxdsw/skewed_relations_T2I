{
 "cells": [
  {
   "cell_type": "code",
   "execution_count": 1,
   "metadata": {},
   "outputs": [],
   "source": [
    "import json\n",
    "from tqdm import tqdm"
   ]
  },
  {
   "cell_type": "code",
   "execution_count": 11,
   "metadata": {},
   "outputs": [
    {
     "name": "stdout",
     "output_type": "stream",
     "text": [
      "num_examples =  408\n",
      "E.g.\n"
     ]
    },
    {
     "data": {
      "text/plain": [
       "{'image_path': 'data/controlled_clevr/mug_right_of_knife.jpeg',\n",
       " 'caption_options': ['A mug to the right of a knife',\n",
       "  'A mug in front of a knife',\n",
       "  'A mug behind a knife',\n",
       "  'A mug to the left of a knife']}"
      ]
     },
     "execution_count": 11,
     "metadata": {},
     "output_type": "execute_result"
    }
   ],
   "source": [
    "# Whatsup dataset download link: https://drive.google.com/drive/u/0/folders/164q6X9hrvP-QYpi3ioSnfMuyHpG5oRkZ\n",
    "\n",
    "version = \"b\"\n",
    "annotations = []\n",
    "if 'a' in version:\n",
    "    annotations.extend(json.load(open(\"../data/whatsup_vlms/controlled_images_dataset.json\", \"r\")))\n",
    "if 'b' in version:\n",
    "    annotations.extend(json.load(open(\"../data/whatsup_vlms/controlled_clevr_dataset.json\", \"r\")))\n",
    "\n",
    "print(\"num_examples = \", len(annotations))\n",
    "print(\"E.g.\")\n",
    "annotations[0]"
   ]
  },
  {
   "cell_type": "code",
   "execution_count": 16,
   "metadata": {},
   "outputs": [
    {
     "name": "stderr",
     "output_type": "stream",
     "text": [
      "100%|██████████| 408/408 [00:00<00:00, 370646.75it/s]"
     ]
    },
    {
     "name": "stdout",
     "output_type": "stream",
     "text": [
      "\n",
      "=== Statistics of original WhatsUp dataset ===\n",
      "     #instances =  408\n",
      "     #unique subj =  9\n",
      "     #unique obj =  17\n",
      "     #unique concepts =  18\n",
      "     #unique train_triplets =  408\n"
     ]
    },
    {
     "name": "stderr",
     "output_type": "stream",
     "text": [
      "\n"
     ]
    }
   ],
   "source": [
    "### write to json with triplet representations\n",
    "J = []\n",
    "SUBJ, OBJ = [], []\n",
    "for a in tqdm(annotations):\n",
    "    filename = a['image_path'][5:]\n",
    "    tmp = a['image_path'].split(\"/\")[-1][:-5].split(\"_\")\n",
    "    subj, obj = tmp[0], tmp[-1]\n",
    "    SUBJ.append(subj)\n",
    "    OBJ.append(obj)\n",
    "    r = \" \".join(tmp[1:-1])\n",
    "    J.append([\n",
    "        a['caption_options'][0],\n",
    "        \"whatsup_vlms/\" + filename,\n",
    "        (subj, obj, r)\n",
    "    ])\n",
    "print(\"\\n=== Statistics of original WhatsUp dataset ===\")\n",
    "print(\"     #instances = \", len(J))\n",
    "print(\"     #unique subj = \", len(set(SUBJ)))\n",
    "print(\"     #unique obj = \", len(set(OBJ)))\n",
    "print(\"     #unique concepts = \", len(set(SUBJ).union(set(OBJ))))\n",
    "print(\"     #unique train_triplets = \", len(set([a[-1] for a in J])))\n",
    "#json.dump(J, open(f\"../data/aggregated/whatsup_vlm_{version}.json\", \"w\"), indent=4)\n"
   ]
  },
  {
   "cell_type": "code",
   "execution_count": 19,
   "metadata": {},
   "outputs": [
    {
     "name": "stderr",
     "output_type": "stream",
     "text": [
      "100%|██████████| 408/408 [00:00<00:00, 713328.90it/s]"
     ]
    },
    {
     "name": "stdout",
     "output_type": "stream",
     "text": [
      "\n",
      "autofill 154 tuples\n",
      "\n",
      "=== Statistics of preprocessed WhatsUp dataset ===\n",
      "     #instances =  308\n",
      "     #unique subj =  15\n",
      "     #unique obj =  15\n",
      "     #unique concepts =  15\n",
      "     #unique train_triplets =  308\n"
     ]
    },
    {
     "name": "stderr",
     "output_type": "stream",
     "text": [
      "\n"
     ]
    }
   ],
   "source": [
    "SYMMETRIC_REL = {\n",
    "    \"left of\": \"right of\",\n",
    "    \"right of\": \"left of\", \n",
    "    \"in-front of\": \"behind\", \n",
    "    \"behind\": \"in-front of\",\n",
    "}\n",
    "\n",
    "### write to json, filtering for relations (rel_version) and objects (skip_nouns)\n",
    "### toggle autofill --- only works for version b\n",
    "J = []\n",
    "SUBJ, OBJ = [], []\n",
    "assert version == \"b\"\n",
    "autofill_symmetric_rel = True\n",
    "skip_nouns = [\"sunglasses\", \"remote\", \"phone\"] # None #\n",
    "rel_version = \"lr\"\n",
    "\n",
    "suffix = \"_autofill\" if autofill_symmetric_rel else \"\"\n",
    "if skip_nouns is not None: suffix += \"_remove_\" + \"_\".join([x[:3] for x in skip_nouns])\n",
    "for a in tqdm(annotations):\n",
    "    filename = a['image_path'][5:]\n",
    "    tmp = a['image_path'].split(\"/\")[-1][:-5].split(\"_\")\n",
    "    subj, obj = tmp[0], tmp[-1]\n",
    "    if skip_nouns is not None and (subj in skip_nouns or obj in skip_nouns): continue\n",
    "    SUBJ.append(subj)\n",
    "    OBJ.append(obj)\n",
    "    r = \" \".join(tmp[1:-1])\n",
    "    if rel_version == \"lr\" and r in [\"in-front of\", \"behind\"]: continue\n",
    "    if rel_version == \"fb\" and r in ['left of', \"right of\"]: continue\n",
    "    J.append([\n",
    "        a['caption_options'][0],\n",
    "        \"whatsup_vlms/\" + filename,\n",
    "        (subj, obj, r)\n",
    "    ])\n",
    "\n",
    "if autofill_symmetric_rel:\n",
    "    autofill = []\n",
    "    for a in J:\n",
    "        subj, obj, r = a[-1]\n",
    "        change_r = a[0].replace(r, SYMMETRIC_REL[r])\n",
    "        tmp = change_r.split()\n",
    "        tmp[1] = obj\n",
    "        tmp[-1] = subj\n",
    "        autofill.append([\n",
    "            \" \".join(tmp),\n",
    "            a[1],\n",
    "            (obj, subj, SYMMETRIC_REL[r])\n",
    "        ])\n",
    "        SUBJ.append(obj)\n",
    "        OBJ.append(subj)\n",
    "        \n",
    "    print(f\"\\nautofill {len(autofill)} tuples\")\n",
    "    J.extend(autofill)\n",
    "\n",
    "print(\"\\n=== Statistics of preprocessed WhatsUp dataset ===\")\n",
    "print(\"     #instances = \", len(J))\n",
    "print(\"     #unique subj = \", len(set(SUBJ)))\n",
    "print(\"     #unique obj = \", len(set(OBJ)))\n",
    "print(\"     #unique concepts = \", len(set(SUBJ).union(set(OBJ))))\n",
    "print(\"     #unique train_triplets = \", len(set([a[-1] for a in J])))\n",
    "#json.dump(J, open(f\"../data/aggregated/whatsup_vlm_{version}_{rel_version}{suffix}.json\", \"w\"), indent=4)\n"
   ]
  }
 ],
 "metadata": {
  "kernelspec": {
   "display_name": "venv",
   "language": "python",
   "name": "venv"
  },
  "language_info": {
   "codemirror_mode": {
    "name": "ipython",
    "version": 3
   },
   "file_extension": ".py",
   "mimetype": "text/x-python",
   "name": "python",
   "nbconvert_exporter": "python",
   "pygments_lexer": "ipython3",
   "version": "3.8.10"
  }
 },
 "nbformat": 4,
 "nbformat_minor": 2
}
